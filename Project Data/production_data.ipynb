{
 "cells": [
  {
   "cell_type": "code",
   "execution_count": 100,
   "id": "f80ca536-caf0-4104-9029-4586f2d41ae6",
   "metadata": {},
   "outputs": [],
   "source": [
    "# imports\n",
    "import panel as pn\n",
    "import dash\n",
    "pn.extension('plotly')\n",
    "import plotly.express as px\n",
    "import pandas as pd\n",
    "import hvplot.pandas\n",
    "import matplotlib.pyplot as plt\n",
    "import numpy as np\n",
    "import os\n",
    "from pathlib import Path\n",
    "from dotenv import load_dotenv, find_dotenv\n",
    "import plotnine as p9\n",
    "import warnings\n",
    "from scipy import linalg, optimize\n",
    "warnings.filterwarnings('ignore')\n",
    "%matplotlib inline"
   ]
  },
  {
   "cell_type": "code",
   "execution_count": 101,
   "id": "95db89c1-0881-4966-a144-c39982d62a69",
   "metadata": {},
   "outputs": [],
   "source": [
    "# Load .env enviroment variables (find_dotenv is required on my computer)\n",
    "load_dotenv(find_dotenv('api_keys.env'))\n",
    "map_box_api = os.getenv(\"MAPBOX_API_KEY\")"
   ]
  },
  {
   "cell_type": "code",
   "execution_count": 102,
   "id": "a93c1925-ec61-4981-b862-4ce16953929a",
   "metadata": {},
   "outputs": [
    {
     "data": {
      "text/html": [
       "<div>\n",
       "<style scoped>\n",
       "    .dataframe tbody tr th:only-of-type {\n",
       "        vertical-align: middle;\n",
       "    }\n",
       "\n",
       "    .dataframe tbody tr th {\n",
       "        vertical-align: top;\n",
       "    }\n",
       "\n",
       "    .dataframe thead th {\n",
       "        text-align: right;\n",
       "    }\n",
       "</style>\n",
       "<table border=\"1\" class=\"dataframe\">\n",
       "  <thead>\n",
       "    <tr style=\"text-align: right;\">\n",
       "      <th></th>\n",
       "      <th></th>\n",
       "      <th>Crops (tonnes)</th>\n",
       "    </tr>\n",
       "    <tr>\n",
       "      <th>Entity</th>\n",
       "      <th>Year</th>\n",
       "      <th></th>\n",
       "    </tr>\n",
       "  </thead>\n",
       "  <tbody>\n",
       "    <tr>\n",
       "      <th rowspan=\"9\" valign=\"top\">Cameroon</th>\n",
       "      <th>2010</th>\n",
       "      <td>264077</td>\n",
       "    </tr>\n",
       "    <tr>\n",
       "      <th>2011</th>\n",
       "      <td>240000</td>\n",
       "    </tr>\n",
       "    <tr>\n",
       "      <th>2012</th>\n",
       "      <td>268941</td>\n",
       "    </tr>\n",
       "    <tr>\n",
       "      <th>2013</th>\n",
       "      <td>275000</td>\n",
       "    </tr>\n",
       "    <tr>\n",
       "      <th>2014</th>\n",
       "      <td>271297</td>\n",
       "    </tr>\n",
       "    <tr>\n",
       "      <th>2015</th>\n",
       "      <td>274939</td>\n",
       "    </tr>\n",
       "    <tr>\n",
       "      <th>2016</th>\n",
       "      <td>293169</td>\n",
       "    </tr>\n",
       "    <tr>\n",
       "      <th>2017</th>\n",
       "      <td>300511</td>\n",
       "    </tr>\n",
       "    <tr>\n",
       "      <th>2018</th>\n",
       "      <td>307867</td>\n",
       "    </tr>\n",
       "    <tr>\n",
       "      <th rowspan=\"9\" valign=\"top\">Cote d'Ivoire</th>\n",
       "      <th>2010</th>\n",
       "      <td>1301347</td>\n",
       "    </tr>\n",
       "    <tr>\n",
       "      <th>2011</th>\n",
       "      <td>1511255</td>\n",
       "    </tr>\n",
       "    <tr>\n",
       "      <th>2012</th>\n",
       "      <td>1485882</td>\n",
       "    </tr>\n",
       "    <tr>\n",
       "      <th>2013</th>\n",
       "      <td>1448992</td>\n",
       "    </tr>\n",
       "    <tr>\n",
       "      <th>2014</th>\n",
       "      <td>1617841</td>\n",
       "    </tr>\n",
       "    <tr>\n",
       "      <th>2015</th>\n",
       "      <td>1796000</td>\n",
       "    </tr>\n",
       "    <tr>\n",
       "      <th>2016</th>\n",
       "      <td>1634000</td>\n",
       "    </tr>\n",
       "    <tr>\n",
       "      <th>2017</th>\n",
       "      <td>2034000</td>\n",
       "    </tr>\n",
       "    <tr>\n",
       "      <th>2018</th>\n",
       "      <td>1963949</td>\n",
       "    </tr>\n",
       "    <tr>\n",
       "      <th rowspan=\"9\" valign=\"top\">Ecuador</th>\n",
       "      <th>2010</th>\n",
       "      <td>132099</td>\n",
       "    </tr>\n",
       "    <tr>\n",
       "      <th>2011</th>\n",
       "      <td>224163</td>\n",
       "    </tr>\n",
       "    <tr>\n",
       "      <th>2012</th>\n",
       "      <td>133323</td>\n",
       "    </tr>\n",
       "    <tr>\n",
       "      <th>2013</th>\n",
       "      <td>128446</td>\n",
       "    </tr>\n",
       "    <tr>\n",
       "      <th>2014</th>\n",
       "      <td>156216</td>\n",
       "    </tr>\n",
       "    <tr>\n",
       "      <th>2015</th>\n",
       "      <td>180192</td>\n",
       "    </tr>\n",
       "    <tr>\n",
       "      <th>2016</th>\n",
       "      <td>177551</td>\n",
       "    </tr>\n",
       "    <tr>\n",
       "      <th>2017</th>\n",
       "      <td>205955</td>\n",
       "    </tr>\n",
       "    <tr>\n",
       "      <th>2018</th>\n",
       "      <td>235182</td>\n",
       "    </tr>\n",
       "    <tr>\n",
       "      <th rowspan=\"9\" valign=\"top\">Ghana</th>\n",
       "      <th>2010</th>\n",
       "      <td>632037</td>\n",
       "    </tr>\n",
       "    <tr>\n",
       "      <th>2011</th>\n",
       "      <td>700020</td>\n",
       "    </tr>\n",
       "    <tr>\n",
       "      <th>2012</th>\n",
       "      <td>879348</td>\n",
       "    </tr>\n",
       "    <tr>\n",
       "      <th>2013</th>\n",
       "      <td>835466</td>\n",
       "    </tr>\n",
       "    <tr>\n",
       "      <th>2014</th>\n",
       "      <td>858720</td>\n",
       "    </tr>\n",
       "    <tr>\n",
       "      <th>2015</th>\n",
       "      <td>858720</td>\n",
       "    </tr>\n",
       "    <tr>\n",
       "      <th>2016</th>\n",
       "      <td>858720</td>\n",
       "    </tr>\n",
       "    <tr>\n",
       "      <th>2017</th>\n",
       "      <td>893598</td>\n",
       "    </tr>\n",
       "    <tr>\n",
       "      <th>2018</th>\n",
       "      <td>947632</td>\n",
       "    </tr>\n",
       "    <tr>\n",
       "      <th rowspan=\"9\" valign=\"top\">Nigeria</th>\n",
       "      <th>2010</th>\n",
       "      <td>399200</td>\n",
       "    </tr>\n",
       "    <tr>\n",
       "      <th>2011</th>\n",
       "      <td>391000</td>\n",
       "    </tr>\n",
       "    <tr>\n",
       "      <th>2012</th>\n",
       "      <td>383000</td>\n",
       "    </tr>\n",
       "    <tr>\n",
       "      <th>2013</th>\n",
       "      <td>367000</td>\n",
       "    </tr>\n",
       "    <tr>\n",
       "      <th>2014</th>\n",
       "      <td>329870</td>\n",
       "    </tr>\n",
       "    <tr>\n",
       "      <th>2015</th>\n",
       "      <td>302066</td>\n",
       "    </tr>\n",
       "    <tr>\n",
       "      <th>2016</th>\n",
       "      <td>298029</td>\n",
       "    </tr>\n",
       "    <tr>\n",
       "      <th>2017</th>\n",
       "      <td>324391</td>\n",
       "    </tr>\n",
       "    <tr>\n",
       "      <th>2018</th>\n",
       "      <td>332927</td>\n",
       "    </tr>\n",
       "  </tbody>\n",
       "</table>\n",
       "</div>"
      ],
      "text/plain": [
       "                     Crops (tonnes)\n",
       "Entity        Year                 \n",
       "Cameroon      2010           264077\n",
       "              2011           240000\n",
       "              2012           268941\n",
       "              2013           275000\n",
       "              2014           271297\n",
       "              2015           274939\n",
       "              2016           293169\n",
       "              2017           300511\n",
       "              2018           307867\n",
       "Cote d'Ivoire 2010          1301347\n",
       "              2011          1511255\n",
       "              2012          1485882\n",
       "              2013          1448992\n",
       "              2014          1617841\n",
       "              2015          1796000\n",
       "              2016          1634000\n",
       "              2017          2034000\n",
       "              2018          1963949\n",
       "Ecuador       2010           132099\n",
       "              2011           224163\n",
       "              2012           133323\n",
       "              2013           128446\n",
       "              2014           156216\n",
       "              2015           180192\n",
       "              2016           177551\n",
       "              2017           205955\n",
       "              2018           235182\n",
       "Ghana         2010           632037\n",
       "              2011           700020\n",
       "              2012           879348\n",
       "              2013           835466\n",
       "              2014           858720\n",
       "              2015           858720\n",
       "              2016           858720\n",
       "              2017           893598\n",
       "              2018           947632\n",
       "Nigeria       2010           399200\n",
       "              2011           391000\n",
       "              2012           383000\n",
       "              2013           367000\n",
       "              2014           329870\n",
       "              2015           302066\n",
       "              2016           298029\n",
       "              2017           324391\n",
       "              2018           332927"
      ]
     },
     "execution_count": 102,
     "metadata": {},
     "output_type": "execute_result"
    }
   ],
   "source": [
    "# Create path and dataframe\n",
    "cocoa_production_path = Path('/Users', 'tylerhubbard', 'umnfintech', 'project1_group3', 'Resources', 'cocoa-bean-production.csv')\n",
    "production_df = pd.read_csv(cocoa_production_path, infer_datetime_format=True, parse_dates=True)\n",
    "production_df = production_df.set_index(['Entity', 'Year'])\n",
    "production_df = production_df.drop(columns=('Code'))\n",
    "production_df"
   ]
  },
  {
   "cell_type": "code",
   "execution_count": 103,
   "id": "7448541a-b936-40b5-b2ea-48ff89a87d97",
   "metadata": {},
   "outputs": [
    {
     "data": {
      "text/plain": [
       "<AxesSubplot:title={'center':'Crop Production Data by Country and Year'}, xlabel='Entity,Year', ylabel='Production in Tonnes by Million'>"
      ]
     },
     "execution_count": 103,
     "metadata": {},
     "output_type": "execute_result"
    },
    {
     "data": {
      "image/png": "[encoded data removed]",
      "text/plain": [
       "<Figure size 1440x720 with 1 Axes>"
      ]
     },
     "metadata": {
      "needs_background": "light"
     },
     "output_type": "display_data"
    }
   ],
   "source": [
    "# Plot whole dataframe\n",
    "production_df_plot = production_df.plot(kind='bar', figsize=(20,10), title='Crop Production Data by Country and Year',\n",
    "                  ylabel='Production in Tonnes by Million')\n",
    "production_df_plot"
   ]
  },
  {
   "cell_type": "code",
   "execution_count": 104,
   "id": "8a5e420d-7128-4576-a74e-3f229c971e6c",
   "metadata": {},
   "outputs": [
    {
     "data": {
      "text/html": [
       "<div>\n",
       "<style scoped>\n",
       "    .dataframe tbody tr th:only-of-type {\n",
       "        vertical-align: middle;\n",
       "    }\n",
       "\n",
       "    .dataframe tbody tr th {\n",
       "        vertical-align: top;\n",
       "    }\n",
       "\n",
       "    .dataframe thead th {\n",
       "        text-align: right;\n",
       "    }\n",
       "</style>\n",
       "<table border=\"1\" class=\"dataframe\">\n",
       "  <thead>\n",
       "    <tr style=\"text-align: right;\">\n",
       "      <th></th>\n",
       "      <th>Crops (tonnes)</th>\n",
       "    </tr>\n",
       "    <tr>\n",
       "      <th>Year</th>\n",
       "      <th></th>\n",
       "    </tr>\n",
       "  </thead>\n",
       "  <tbody>\n",
       "    <tr>\n",
       "      <th>2010</th>\n",
       "      <td>545,752.00</td>\n",
       "    </tr>\n",
       "    <tr>\n",
       "      <th>2011</th>\n",
       "      <td>613,287.60</td>\n",
       "    </tr>\n",
       "    <tr>\n",
       "      <th>2012</th>\n",
       "      <td>630,098.80</td>\n",
       "    </tr>\n",
       "    <tr>\n",
       "      <th>2013</th>\n",
       "      <td>610,980.80</td>\n",
       "    </tr>\n",
       "    <tr>\n",
       "      <th>2014</th>\n",
       "      <td>646,788.80</td>\n",
       "    </tr>\n",
       "    <tr>\n",
       "      <th>2015</th>\n",
       "      <td>682,383.40</td>\n",
       "    </tr>\n",
       "    <tr>\n",
       "      <th>2016</th>\n",
       "      <td>652,293.80</td>\n",
       "    </tr>\n",
       "    <tr>\n",
       "      <th>2017</th>\n",
       "      <td>751,691.00</td>\n",
       "    </tr>\n",
       "    <tr>\n",
       "      <th>2018</th>\n",
       "      <td>757,511.40</td>\n",
       "    </tr>\n",
       "  </tbody>\n",
       "</table>\n",
       "</div>"
      ],
      "text/plain": [
       "       Crops (tonnes)\n",
       "Year                 \n",
       "2010       545,752.00\n",
       "2011       613,287.60\n",
       "2012       630,098.80\n",
       "2013       610,980.80\n",
       "2014       646,788.80\n",
       "2015       682,383.40\n",
       "2016       652,293.80\n",
       "2017       751,691.00\n",
       "2018       757,511.40"
      ]
     },
     "execution_count": 104,
     "metadata": {},
     "output_type": "execute_result"
    }
   ],
   "source": [
    "# Create second dataframe with only Year as the index\n",
    "production_df2 = pd.read_csv(cocoa_production_path, infer_datetime_format=True, parse_dates=True)\n",
    "production_df2 = production_df2.set_index(['Year'])\n",
    "production_df2 = production_df2.drop(columns=('Code'))\n",
    "\n",
    "# Determine mean\n",
    "production_mean = production_df2.groupby(by=['Year'], dropna=False).mean()\n",
    "production_mean"
   ]
  },
  {
   "cell_type": "code",
   "execution_count": 105,
   "id": "fa4231df-7ff3-4f2e-a69d-cd5714f9d1fb",
   "metadata": {},
   "outputs": [
    {
     "data": {
      "text/plain": [
       "<AxesSubplot:title={'center':'Average Values of Production by Year'}, xlabel='Year', ylabel='Production in Tonnes'>"
      ]
     },
     "execution_count": 105,
     "metadata": {},
     "output_type": "execute_result"
    },
    {
     "data": {
      "image/png": "[encoded data removed]",
      "text/plain": [
       "<Figure size 1440x720 with 1 Axes>"
      ]
     },
     "metadata": {
      "needs_background": "light"
     },
     "output_type": "display_data"
    }
   ],
   "source": [
    "# Plot production mean\n",
    "production_mean_plot = production_mean.plot(kind='bar', figsize=(20,10), title='Average Values of Production by Year',\n",
    "                                           rot=0, ylabel='Production in Tonnes',\n",
    "                                           ylim=(500000, 800000))\n",
    "production_mean_plot"
   ]
  },
  {
   "cell_type": "code",
   "execution_count": 106,
   "id": "3f1f2fa4-7950-4264-af00-4a4266222d11",
   "metadata": {},
   "outputs": [],
   "source": [
    "# Determine min, max, std\n",
    "production_min = production_df2.groupby(by=['Year']).min()\n",
    "production_min = production_min.drop(columns=('Entity'))\n",
    "production_max = production_df2.groupby(by=['Year']).max()\n",
    "production_max = production_max.drop(columns=('Entity'))\n",
    "production_std = production_df2.groupby(by=['Year']).std()"
   ]
  },
  {
   "cell_type": "code",
   "execution_count": 107,
   "id": "c719652c-73da-4472-93e7-85c9945617e2",
   "metadata": {},
   "outputs": [
    {
     "data": {
      "text/html": [
       "<div>\n",
       "<style scoped>\n",
       "    .dataframe tbody tr th:only-of-type {\n",
       "        vertical-align: middle;\n",
       "    }\n",
       "\n",
       "    .dataframe tbody tr th {\n",
       "        vertical-align: top;\n",
       "    }\n",
       "\n",
       "    .dataframe thead th {\n",
       "        text-align: right;\n",
       "    }\n",
       "</style>\n",
       "<table border=\"1\" class=\"dataframe\">\n",
       "  <thead>\n",
       "    <tr style=\"text-align: right;\">\n",
       "      <th></th>\n",
       "      <th>Crops (tonnes)</th>\n",
       "    </tr>\n",
       "    <tr>\n",
       "      <th>Year</th>\n",
       "      <th></th>\n",
       "    </tr>\n",
       "  </thead>\n",
       "  <tbody>\n",
       "    <tr>\n",
       "      <th>2010</th>\n",
       "      <td>132099</td>\n",
       "    </tr>\n",
       "    <tr>\n",
       "      <th>2011</th>\n",
       "      <td>224163</td>\n",
       "    </tr>\n",
       "    <tr>\n",
       "      <th>2012</th>\n",
       "      <td>133323</td>\n",
       "    </tr>\n",
       "    <tr>\n",
       "      <th>2013</th>\n",
       "      <td>128446</td>\n",
       "    </tr>\n",
       "    <tr>\n",
       "      <th>2014</th>\n",
       "      <td>156216</td>\n",
       "    </tr>\n",
       "    <tr>\n",
       "      <th>2015</th>\n",
       "      <td>180192</td>\n",
       "    </tr>\n",
       "    <tr>\n",
       "      <th>2016</th>\n",
       "      <td>177551</td>\n",
       "    </tr>\n",
       "    <tr>\n",
       "      <th>2017</th>\n",
       "      <td>205955</td>\n",
       "    </tr>\n",
       "    <tr>\n",
       "      <th>2018</th>\n",
       "      <td>235182</td>\n",
       "    </tr>\n",
       "  </tbody>\n",
       "</table>\n",
       "</div>"
      ],
      "text/plain": [
       "       Crops (tonnes)\n",
       "Year                 \n",
       "2010           132099\n",
       "2011           224163\n",
       "2012           133323\n",
       "2013           128446\n",
       "2014           156216\n",
       "2015           180192\n",
       "2016           177551\n",
       "2017           205955\n",
       "2018           235182"
      ]
     },
     "execution_count": 107,
     "metadata": {},
     "output_type": "execute_result"
    }
   ],
   "source": [
    "# Check min values\n",
    "production_min"
   ]
  },
  {
   "cell_type": "code",
   "execution_count": 108,
   "id": "3edb0647-45fe-438a-a120-18738e40208c",
   "metadata": {},
   "outputs": [
    {
     "data": {
      "text/plain": [
       "<AxesSubplot:title={'center':'Minimum Values of Production by Year'}, xlabel='Year', ylabel='Production in Tonnes'>"
      ]
     },
     "execution_count": 108,
     "metadata": {},
     "output_type": "execute_result"
    },
    {
     "data": {
      "image/png": "[encoded data removed]",
      "text/plain": [
       "<Figure size 1440x720 with 1 Axes>"
      ]
     },
     "metadata": {
      "needs_background": "light"
     },
     "output_type": "display_data"
    }
   ],
   "source": [
    "# Plot min values\n",
    "production_min_plot = production_min.plot(kind='bar', figsize=(20,10), \n",
    "                                          title='Minimum Values of Production by Year',\n",
    "                                         rot=0, ylabel='Production in Tonnes',\n",
    "                                         ylim=(100000, 250000))\n",
    "production_min_plot"
   ]
  },
  {
   "cell_type": "code",
   "execution_count": 109,
   "id": "6fd767a5-642a-48ff-bcf6-3c0f45506bac",
   "metadata": {},
   "outputs": [
    {
     "data": {
      "text/html": [
       "<div>\n",
       "<style scoped>\n",
       "    .dataframe tbody tr th:only-of-type {\n",
       "        vertical-align: middle;\n",
       "    }\n",
       "\n",
       "    .dataframe tbody tr th {\n",
       "        vertical-align: top;\n",
       "    }\n",
       "\n",
       "    .dataframe thead th {\n",
       "        text-align: right;\n",
       "    }\n",
       "</style>\n",
       "<table border=\"1\" class=\"dataframe\">\n",
       "  <thead>\n",
       "    <tr style=\"text-align: right;\">\n",
       "      <th></th>\n",
       "      <th>Crops (tonnes)</th>\n",
       "    </tr>\n",
       "    <tr>\n",
       "      <th>Year</th>\n",
       "      <th></th>\n",
       "    </tr>\n",
       "  </thead>\n",
       "  <tbody>\n",
       "    <tr>\n",
       "      <th>2010</th>\n",
       "      <td>1301347</td>\n",
       "    </tr>\n",
       "    <tr>\n",
       "      <th>2011</th>\n",
       "      <td>1511255</td>\n",
       "    </tr>\n",
       "    <tr>\n",
       "      <th>2012</th>\n",
       "      <td>1485882</td>\n",
       "    </tr>\n",
       "    <tr>\n",
       "      <th>2013</th>\n",
       "      <td>1448992</td>\n",
       "    </tr>\n",
       "    <tr>\n",
       "      <th>2014</th>\n",
       "      <td>1617841</td>\n",
       "    </tr>\n",
       "    <tr>\n",
       "      <th>2015</th>\n",
       "      <td>1796000</td>\n",
       "    </tr>\n",
       "    <tr>\n",
       "      <th>2016</th>\n",
       "      <td>1634000</td>\n",
       "    </tr>\n",
       "    <tr>\n",
       "      <th>2017</th>\n",
       "      <td>2034000</td>\n",
       "    </tr>\n",
       "    <tr>\n",
       "      <th>2018</th>\n",
       "      <td>1963949</td>\n",
       "    </tr>\n",
       "  </tbody>\n",
       "</table>\n",
       "</div>"
      ],
      "text/plain": [
       "       Crops (tonnes)\n",
       "Year                 \n",
       "2010          1301347\n",
       "2011          1511255\n",
       "2012          1485882\n",
       "2013          1448992\n",
       "2014          1617841\n",
       "2015          1796000\n",
       "2016          1634000\n",
       "2017          2034000\n",
       "2018          1963949"
      ]
     },
     "execution_count": 109,
     "metadata": {},
     "output_type": "execute_result"
    }
   ],
   "source": [
    "# Check max values\n",
    "production_max"
   ]
  },
  {
   "cell_type": "code",
   "execution_count": 110,
   "id": "f8fd321a-8110-4eb5-8ad9-a58c6d7d604a",
   "metadata": {},
   "outputs": [
    {
     "data": {
      "text/plain": [
       "<AxesSubplot:title={'center':'Max Values of Production by Year'}, xlabel='Year', ylabel='Production in Tonnes'>"
      ]
     },
     "execution_count": 110,
     "metadata": {},
     "output_type": "execute_result"
    },
    {
     "data": {
      "image/png": "[encoded data removed]",
      "text/plain": [
       "<Figure size 1440x720 with 1 Axes>"
      ]
     },
     "metadata": {
      "needs_background": "light"
     },
     "output_type": "display_data"
    }
   ],
   "source": [
    "# Plot max values\n",
    "production_max_plot = production_max.plot(kind='bar', figsize=(20,10), \n",
    "                                         title='Max Values of Production by Year',\n",
    "                                         rot=0, ylabel='Production in Tonnes',\n",
    "                                         ylim=(1250000, 2100000))\n",
    "production_max_plot"
   ]
  },
  {
   "cell_type": "code",
   "execution_count": 111,
   "id": "b0f45581-8de2-4f92-a9a3-b5c604b90b6b",
   "metadata": {},
   "outputs": [
    {
     "data": {
      "text/html": [
       "<div>\n",
       "<style scoped>\n",
       "    .dataframe tbody tr th:only-of-type {\n",
       "        vertical-align: middle;\n",
       "    }\n",
       "\n",
       "    .dataframe tbody tr th {\n",
       "        vertical-align: top;\n",
       "    }\n",
       "\n",
       "    .dataframe thead th {\n",
       "        text-align: right;\n",
       "    }\n",
       "</style>\n",
       "<table border=\"1\" class=\"dataframe\">\n",
       "  <thead>\n",
       "    <tr style=\"text-align: right;\">\n",
       "      <th></th>\n",
       "      <th>Crops (tonnes)</th>\n",
       "    </tr>\n",
       "    <tr>\n",
       "      <th>Year</th>\n",
       "      <th></th>\n",
       "    </tr>\n",
       "  </thead>\n",
       "  <tbody>\n",
       "    <tr>\n",
       "      <th>2010</th>\n",
       "      <td>461,057.48</td>\n",
       "    </tr>\n",
       "    <tr>\n",
       "      <th>2011</th>\n",
       "      <td>537,131.58</td>\n",
       "    </tr>\n",
       "    <tr>\n",
       "      <th>2012</th>\n",
       "      <td>555,150.66</td>\n",
       "    </tr>\n",
       "    <tr>\n",
       "      <th>2013</th>\n",
       "      <td>538,030.19</td>\n",
       "    </tr>\n",
       "    <tr>\n",
       "      <th>2014</th>\n",
       "      <td>606,207.58</td>\n",
       "    </tr>\n",
       "    <tr>\n",
       "      <th>2015</th>\n",
       "      <td>677,141.97</td>\n",
       "    </tr>\n",
       "    <tr>\n",
       "      <th>2016</th>\n",
       "      <td>609,551.83</td>\n",
       "    </tr>\n",
       "    <tr>\n",
       "      <th>2017</th>\n",
       "      <td>766,229.47</td>\n",
       "    </tr>\n",
       "    <tr>\n",
       "      <th>2018</th>\n",
       "      <td>732,618.17</td>\n",
       "    </tr>\n",
       "  </tbody>\n",
       "</table>\n",
       "</div>"
      ],
      "text/plain": [
       "       Crops (tonnes)\n",
       "Year                 \n",
       "2010       461,057.48\n",
       "2011       537,131.58\n",
       "2012       555,150.66\n",
       "2013       538,030.19\n",
       "2014       606,207.58\n",
       "2015       677,141.97\n",
       "2016       609,551.83\n",
       "2017       766,229.47\n",
       "2018       732,618.17"
      ]
     },
     "execution_count": 111,
     "metadata": {},
     "output_type": "execute_result"
    }
   ],
   "source": [
    "# Check std values, ensure float is set to two decimals\n",
    "pd.options.display.float_format = \"{:,.2f}\".format\n",
    "production_std"
   ]
  },
  {
   "cell_type": "code",
   "execution_count": 112,
   "id": "5bfdd097-1718-46bf-92ea-cfd79a3dc675",
   "metadata": {},
   "outputs": [
    {
     "data": {
      "text/plain": [
       "<AxesSubplot:title={'center':'Standard Deviation in Production by Year'}, xlabel='Year', ylabel='Production in Tonnes'>"
      ]
     },
     "execution_count": 112,
     "metadata": {},
     "output_type": "execute_result"
    },
    {
     "data": {
      "image/png": "[encoded data removed]",
      "text/plain": [
       "<Figure size 1440x720 with 1 Axes>"
      ]
     },
     "metadata": {
      "needs_background": "light"
     },
     "output_type": "display_data"
    }
   ],
   "source": [
    "# Plot std values\n",
    "production_std_plot = production_std.plot(kind='bar', figsize=(20,10),\n",
    "                                          title='Standard Deviation in Production by Year',\n",
    "                                          rot=0, ylabel='Production in Tonnes',\n",
    "                                         ylim=(400000, 800000))\n",
    "production_std_plot"
   ]
  },
  {
   "cell_type": "code",
   "execution_count": 113,
   "id": "eb1f16f8-f2ee-43fe-8ab9-41ee9be5c48c",
   "metadata": {},
   "outputs": [
    {
     "data": {
      "text/html": [
       "<div>\n",
       "<style scoped>\n",
       "    .dataframe tbody tr th:only-of-type {\n",
       "        vertical-align: middle;\n",
       "    }\n",
       "\n",
       "    .dataframe tbody tr th {\n",
       "        vertical-align: top;\n",
       "    }\n",
       "\n",
       "    .dataframe thead th {\n",
       "        text-align: right;\n",
       "    }\n",
       "</style>\n",
       "<table border=\"1\" class=\"dataframe\">\n",
       "  <thead>\n",
       "    <tr style=\"text-align: right;\">\n",
       "      <th></th>\n",
       "      <th></th>\n",
       "      <th>Value</th>\n",
       "    </tr>\n",
       "    <tr>\n",
       "      <th>Area</th>\n",
       "      <th>Year</th>\n",
       "      <th></th>\n",
       "    </tr>\n",
       "  </thead>\n",
       "  <tbody>\n",
       "    <tr>\n",
       "      <th rowspan=\"9\" valign=\"top\">Cameroon</th>\n",
       "      <th>2010</th>\n",
       "      <td>670000</td>\n",
       "    </tr>\n",
       "    <tr>\n",
       "      <th>2011</th>\n",
       "      <td>670000</td>\n",
       "    </tr>\n",
       "    <tr>\n",
       "      <th>2012</th>\n",
       "      <td>670000</td>\n",
       "    </tr>\n",
       "    <tr>\n",
       "      <th>2013</th>\n",
       "      <td>670000</td>\n",
       "    </tr>\n",
       "    <tr>\n",
       "      <th>2014</th>\n",
       "      <td>714261</td>\n",
       "    </tr>\n",
       "    <tr>\n",
       "      <th>2015</th>\n",
       "      <td>767555</td>\n",
       "    </tr>\n",
       "    <tr>\n",
       "      <th>2016</th>\n",
       "      <td>520947</td>\n",
       "    </tr>\n",
       "    <tr>\n",
       "      <th>2017</th>\n",
       "      <td>599844</td>\n",
       "    </tr>\n",
       "    <tr>\n",
       "      <th>2018</th>\n",
       "      <td>606649</td>\n",
       "    </tr>\n",
       "    <tr>\n",
       "      <th rowspan=\"9\" valign=\"top\">Côte d'Ivoire</th>\n",
       "      <th>2010</th>\n",
       "      <td>2278786</td>\n",
       "    </tr>\n",
       "    <tr>\n",
       "      <th>2011</th>\n",
       "      <td>2685121</td>\n",
       "    </tr>\n",
       "    <tr>\n",
       "      <th>2012</th>\n",
       "      <td>2746080</td>\n",
       "    </tr>\n",
       "    <tr>\n",
       "      <th>2013</th>\n",
       "      <td>2731411</td>\n",
       "    </tr>\n",
       "    <tr>\n",
       "      <th>2014</th>\n",
       "      <td>3084498</td>\n",
       "    </tr>\n",
       "    <tr>\n",
       "      <th>2015</th>\n",
       "      <td>3458163</td>\n",
       "    </tr>\n",
       "    <tr>\n",
       "      <th>2016</th>\n",
       "      <td>3168749</td>\n",
       "    </tr>\n",
       "    <tr>\n",
       "      <th>2017</th>\n",
       "      <td>4035466</td>\n",
       "    </tr>\n",
       "    <tr>\n",
       "      <th>2018</th>\n",
       "      <td>4359104</td>\n",
       "    </tr>\n",
       "    <tr>\n",
       "      <th rowspan=\"9\" valign=\"top\">Ecuador</th>\n",
       "      <th>2010</th>\n",
       "      <td>360025</td>\n",
       "    </tr>\n",
       "    <tr>\n",
       "      <th>2011</th>\n",
       "      <td>399467</td>\n",
       "    </tr>\n",
       "    <tr>\n",
       "      <th>2012</th>\n",
       "      <td>390176</td>\n",
       "    </tr>\n",
       "    <tr>\n",
       "      <th>2013</th>\n",
       "      <td>402434</td>\n",
       "    </tr>\n",
       "    <tr>\n",
       "      <th>2014</th>\n",
       "      <td>372637</td>\n",
       "    </tr>\n",
       "    <tr>\n",
       "      <th>2015</th>\n",
       "      <td>432094</td>\n",
       "    </tr>\n",
       "    <tr>\n",
       "      <th>2016</th>\n",
       "      <td>454257</td>\n",
       "    </tr>\n",
       "    <tr>\n",
       "      <th>2017</th>\n",
       "      <td>467327</td>\n",
       "    </tr>\n",
       "    <tr>\n",
       "      <th>2018</th>\n",
       "      <td>501950</td>\n",
       "    </tr>\n",
       "    <tr>\n",
       "      <th rowspan=\"9\" valign=\"top\">Ghana</th>\n",
       "      <th>2010</th>\n",
       "      <td>1600200</td>\n",
       "    </tr>\n",
       "    <tr>\n",
       "      <th>2011</th>\n",
       "      <td>1600300</td>\n",
       "    </tr>\n",
       "    <tr>\n",
       "      <th>2012</th>\n",
       "      <td>1600300</td>\n",
       "    </tr>\n",
       "    <tr>\n",
       "      <th>2013</th>\n",
       "      <td>1600300</td>\n",
       "    </tr>\n",
       "    <tr>\n",
       "      <th>2014</th>\n",
       "      <td>1683765</td>\n",
       "    </tr>\n",
       "    <tr>\n",
       "      <th>2015</th>\n",
       "      <td>1683765</td>\n",
       "    </tr>\n",
       "    <tr>\n",
       "      <th>2016</th>\n",
       "      <td>1683765</td>\n",
       "    </tr>\n",
       "    <tr>\n",
       "      <th>2017</th>\n",
       "      <td>1867648</td>\n",
       "    </tr>\n",
       "    <tr>\n",
       "      <th>2018</th>\n",
       "      <td>1707146</td>\n",
       "    </tr>\n",
       "    <tr>\n",
       "      <th rowspan=\"9\" valign=\"top\">Nigeria</th>\n",
       "      <th>2010</th>\n",
       "      <td>1272430</td>\n",
       "    </tr>\n",
       "    <tr>\n",
       "      <th>2011</th>\n",
       "      <td>1241329</td>\n",
       "    </tr>\n",
       "    <tr>\n",
       "      <th>2012</th>\n",
       "      <td>1266347</td>\n",
       "    </tr>\n",
       "    <tr>\n",
       "      <th>2013</th>\n",
       "      <td>1239750</td>\n",
       "    </tr>\n",
       "    <tr>\n",
       "      <th>2014</th>\n",
       "      <td>1144659</td>\n",
       "    </tr>\n",
       "    <tr>\n",
       "      <th>2015</th>\n",
       "      <td>1056893</td>\n",
       "    </tr>\n",
       "    <tr>\n",
       "      <th>2016</th>\n",
       "      <td>1048945</td>\n",
       "    </tr>\n",
       "    <tr>\n",
       "      <th>2017</th>\n",
       "      <td>1154654</td>\n",
       "    </tr>\n",
       "    <tr>\n",
       "      <th>2018</th>\n",
       "      <td>1222844</td>\n",
       "    </tr>\n",
       "  </tbody>\n",
       "</table>\n",
       "</div>"
      ],
      "text/plain": [
       "                      Value\n",
       "Area          Year         \n",
       "Cameroon      2010   670000\n",
       "              2011   670000\n",
       "              2012   670000\n",
       "              2013   670000\n",
       "              2014   714261\n",
       "              2015   767555\n",
       "              2016   520947\n",
       "              2017   599844\n",
       "              2018   606649\n",
       "Côte d'Ivoire 2010  2278786\n",
       "              2011  2685121\n",
       "              2012  2746080\n",
       "              2013  2731411\n",
       "              2014  3084498\n",
       "              2015  3458163\n",
       "              2016  3168749\n",
       "              2017  4035466\n",
       "              2018  4359104\n",
       "Ecuador       2010   360025\n",
       "              2011   399467\n",
       "              2012   390176\n",
       "              2013   402434\n",
       "              2014   372637\n",
       "              2015   432094\n",
       "              2016   454257\n",
       "              2017   467327\n",
       "              2018   501950\n",
       "Ghana         2010  1600200\n",
       "              2011  1600300\n",
       "              2012  1600300\n",
       "              2013  1600300\n",
       "              2014  1683765\n",
       "              2015  1683765\n",
       "              2016  1683765\n",
       "              2017  1867648\n",
       "              2018  1707146\n",
       "Nigeria       2010  1272430\n",
       "              2011  1241329\n",
       "              2012  1266347\n",
       "              2013  1239750\n",
       "              2014  1144659\n",
       "              2015  1056893\n",
       "              2016  1048945\n",
       "              2017  1154654\n",
       "              2018  1222844"
      ]
     },
     "execution_count": 113,
     "metadata": {},
     "output_type": "execute_result"
    }
   ],
   "source": [
    "area_path = Path('/Users', 'tylerhubbard', 'umnfintech', 'project1_group3', 'Resources', 'fao_area.csv')\n",
    "fao_area = pd.read_csv(area_path, index_col=['Area', 'Year'])\n",
    "fao_area = fao_area.drop(columns=['Domain Code', 'Domain', 'Area Code (FAO)', 'Element Code', 'Item Code (FAO)',\n",
    "                                  'Item', 'Year Code', 'Flag', 'Flag Description', 'Element', 'Unit'])\n",
    "fao_area"
   ]
  },
  {
   "cell_type": "code",
   "execution_count": 114,
   "id": "5b15d6ec-d542-43da-8976-c11b9e42c0cc",
   "metadata": {},
   "outputs": [
    {
     "data": {
      "text/plain": [
       "<AxesSubplot:title={'center':'Area Harvested (in million ha) by Area and Year from 2010-2018'}, xlabel='Area,Year', ylabel='Area in millions of ha'>"
      ]
     },
     "execution_count": 114,
     "metadata": {},
     "output_type": "execute_result"
    },
    {
     "data": {
      "image/png": "[encoded data removed]",
      "text/plain": [
       "<Figure size 1440x720 with 1 Axes>"
      ]
     },
     "metadata": {
      "needs_background": "light"
     },
     "output_type": "display_data"
    }
   ],
   "source": [
    "fao_area.plot(kind='bar', figsize=(20,10), title='Area Harvested (in million ha) by Area and Year from 2010-2018',\n",
    "             ylabel='Area in millions of ha')"
   ]
  },
  {
   "cell_type": "code",
   "execution_count": 115,
   "id": "66de98b8-f335-467c-a9d5-3f9d7edcbf6a",
   "metadata": {},
   "outputs": [],
   "source": [
    "area_harvested_mean = fao_area.groupby(by=['Year'], dropna=False).mean()\n",
    "area_harvested_min = fao_area.groupby(by=['Year'], dropna=False).min()\n",
    "area_harvested_max = fao_area.groupby(by=['Year'], dropna=False).max()\n",
    "area_harvested_std = fao_area.groupby(by=['Year'], dropna=False).std()"
   ]
  },
  {
   "cell_type": "code",
   "execution_count": 116,
   "id": "f3463cd9-d7c4-430f-8d67-917aa18e82d4",
   "metadata": {},
   "outputs": [
    {
     "data": {
      "image/png": "[encoded data removed]",
      "text/plain": [
       "<Figure size 1440x720 with 1 Axes>"
      ]
     },
     "metadata": {
      "needs_background": "light"
     },
     "output_type": "display_data"
    }
   ],
   "source": [
    "area_harvested_mean_plot = area_harvested_mean.plot(kind='bar', figsize=(20,10), ylim=(1100000, 1700000),\n",
    "                                                   title='Average Area Harvested by Year', ylabel='Millions of ha',\n",
    "                                                   rot=0)"
   ]
  },
  {
   "cell_type": "code",
   "execution_count": 117,
   "id": "8f0b1f99-52c8-4347-9bdf-3ad8bcacb672",
   "metadata": {},
   "outputs": [
    {
     "data": {
      "image/png": "[encoded data removed]",
      "text/plain": [
       "<Figure size 1440x720 with 1 Axes>"
      ]
     },
     "metadata": {
      "needs_background": "light"
     },
     "output_type": "display_data"
    }
   ],
   "source": [
    "area_harvested_max_plot = area_harvested_max.plot(kind='bar', figsize=(20,10), title='Maximum Area Harvested by Year',\n",
    "                                                 ylim=(2100000, 4500000), rot=0, ylabel='Millions of ha')"
   ]
  },
  {
   "cell_type": "code",
   "execution_count": 118,
   "id": "f382115b-468c-41af-b9cb-1f5b39a4a90a",
   "metadata": {},
   "outputs": [
    {
     "data": {
      "image/png": "[encoded data removed]",
      "text/plain": [
       "<Figure size 1440x720 with 1 Axes>"
      ]
     },
     "metadata": {
      "needs_background": "light"
     },
     "output_type": "display_data"
    }
   ],
   "source": [
    "area_harvested_min_plot = area_harvested_min.plot(kind='bar', figsize=(20,10), rot=0,\n",
    "                                                  title='Minimum Area Harvested by Year', ylabel='Hectares',\n",
    "                                                  ylim=(350000, 525000))"
   ]
  },
  {
   "cell_type": "code",
   "execution_count": 119,
   "id": "0d492da8-8401-4469-bf96-770ad20d339b",
   "metadata": {},
   "outputs": [
    {
     "data": {
      "image/png": "[encoded data removed]",
      "text/plain": [
       "<Figure size 1440x720 with 1 Axes>"
      ]
     },
     "metadata": {
      "needs_background": "light"
     },
     "output_type": "display_data"
    }
   ],
   "source": [
    "area_harvested_std_plot = area_harvested_std.plot(kind='bar', figsize=(20,10), rot=0, ylabel='Millions of ha',\n",
    "                                                  title='Standard Deviation of Area Harvested by Year',\n",
    "                                                  ylim=(700000, 1700000))"
   ]
  },
  {
   "cell_type": "code",
   "execution_count": null,
   "id": "36571434-cba2-4468-9826-87c48f155746",
   "metadata": {},
   "outputs": [],
   "source": []
  }
 ],
 "metadata": {
  "kernelspec": {
   "display_name": "Python 3 (ipykernel)",
   "language": "python",
   "name": "python3"
  },
  "language_info": {
   "codemirror_mode": {
    "name": "ipython",
    "version": 3
   },
   "file_extension": ".py",
   "mimetype": "text/x-python",
   "name": "python",
   "nbconvert_exporter": "python",
   "pygments_lexer": "ipython3",
   "version": "3.9.7"
  }
 },
 "nbformat": 4,
 "nbformat_minor": 5
}
