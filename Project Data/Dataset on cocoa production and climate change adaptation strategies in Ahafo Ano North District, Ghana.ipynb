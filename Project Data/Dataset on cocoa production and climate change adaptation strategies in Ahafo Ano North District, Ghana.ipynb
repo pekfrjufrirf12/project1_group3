{
 "cells": [
  {
   "cell_type": "markdown",
   "metadata": {},
   "source": [
    "# Dataset on cocoa production and climate change adaptation strategies in Ahafo Ano North District, Ghana\n"
   ]
  },
  {
   "cell_type": "markdown",
   "metadata": {},
   "source": [
    "Source: https://www.sciencedirect.com/science/article/pii/S2352340920301694"
   ]
  },
  {
   "cell_type": "code",
   "execution_count": 959,
   "metadata": {},
   "outputs": [],
   "source": [
    "# Imports\n",
    "import panel as pn\n",
    "pn.extension('plotly')\n",
    "import plotly.express as px\n",
    "import pandas as pd\n",
    "import hvplot.pandas\n",
    "import matplotlib.pyplot as plt\n",
    "import numpy as np\n",
    "import os\n",
    "from pathlib import Path\n",
    "from dotenv import load_dotenv\n",
    "\n",
    "import warnings\n",
    "warnings.filterwarnings('ignore')"
   ]
  },
  {
   "cell_type": "code",
   "execution_count": 960,
   "metadata": {},
   "outputs": [],
   "source": [
    "# Read the Mapbox API key\n",
    "load_dotenv()\n",
    "map_box_api = os.getenv(\"mapbox\")"
   ]
  },
  {
   "cell_type": "markdown",
   "metadata": {},
   "source": [
    "## Load Data"
   ]
  },
  {
   "cell_type": "code",
   "execution_count": 961,
   "metadata": {},
   "outputs": [],
   "source": [
    "# Load data\n",
    "ghana_data = Path('/Users/erahm/Downloads/Dataset on cocoa production and climate change adaptation strategies in Ghana.csv')"
   ]
  },
  {
   "cell_type": "code",
   "execution_count": 962,
   "metadata": {},
   "outputs": [
    {
     "data": {
      "text/html": [
       "<div>\n",
       "<style scoped>\n",
       "    .dataframe tbody tr th:only-of-type {\n",
       "        vertical-align: middle;\n",
       "    }\n",
       "\n",
       "    .dataframe tbody tr th {\n",
       "        vertical-align: top;\n",
       "    }\n",
       "\n",
       "    .dataframe thead th {\n",
       "        text-align: right;\n",
       "    }\n",
       "</style>\n",
       "<table border=\"1\" class=\"dataframe\">\n",
       "  <thead>\n",
       "    <tr style=\"text-align: right;\">\n",
       "      <th></th>\n",
       "      <th>Interviewee Identification Number</th>\n",
       "      <th>Region Name</th>\n",
       "      <th>District Name</th>\n",
       "      <th>Village Name</th>\n",
       "      <th>AreaCouncil</th>\n",
       "      <th>What is the gender of the household head?</th>\n",
       "      <th>What is the age of the household head?</th>\n",
       "      <th>Does the household head have any formal education?</th>\n",
       "      <th>If yes, what is the level of education (primary, secondary or tertiary)?</th>\n",
       "      <th>How many years of cocoa farming experience do you possess?</th>\n",
       "      <th>...</th>\n",
       "      <th>Do you smoke more cigarettes as a coping method against climate change?</th>\n",
       "      <th>Do you burn fire at home as a coping method against climate change?</th>\n",
       "      <th>How do you rank collective efforts by all the villagers as an effort to address climate change?</th>\n",
       "      <th>How do you rank individual efforts as an effort to address climate change?</th>\n",
       "      <th>How do you rank local/state motivated efforts as an effort to address climate change?</th>\n",
       "      <th>How do you rank collective weather monitoring as an effort to address climate change?</th>\n",
       "      <th>How do you rank group cocoa spraying as an effort to address climate change?</th>\n",
       "      <th>How do you rank irrigation as an effort to address climate change?</th>\n",
       "      <th>How do you rank monitoring weather through the media as an effort to address climate change?</th>\n",
       "      <th>How do you rank credit support from friends and relatives as an effort to address climate change?</th>\n",
       "    </tr>\n",
       "  </thead>\n",
       "  <tbody>\n",
       "    <tr>\n",
       "      <th>0</th>\n",
       "      <td>1.0</td>\n",
       "      <td>Ashanti</td>\n",
       "      <td>Ahafo Ano North</td>\n",
       "      <td>Dwaaho</td>\n",
       "      <td>Abu- Bone</td>\n",
       "      <td>1.0</td>\n",
       "      <td>35.0</td>\n",
       "      <td>1.0</td>\n",
       "      <td>1.0</td>\n",
       "      <td>8.0</td>\n",
       "      <td>...</td>\n",
       "      <td>2.00</td>\n",
       "      <td>2.00</td>\n",
       "      <td>1.00</td>\n",
       "      <td>1.00</td>\n",
       "      <td>1.00</td>\n",
       "      <td>1.00</td>\n",
       "      <td>1.00</td>\n",
       "      <td>3.00</td>\n",
       "      <td>1.00</td>\n",
       "      <td>1.00</td>\n",
       "    </tr>\n",
       "    <tr>\n",
       "      <th>1</th>\n",
       "      <td>2.0</td>\n",
       "      <td>Ashanti</td>\n",
       "      <td>Ahafo Ano North</td>\n",
       "      <td>Dwaaho</td>\n",
       "      <td>Abu- Bone</td>\n",
       "      <td>2.0</td>\n",
       "      <td>50.0</td>\n",
       "      <td>1.0</td>\n",
       "      <td>1.0</td>\n",
       "      <td>6.0</td>\n",
       "      <td>...</td>\n",
       "      <td>2.00</td>\n",
       "      <td>2.00</td>\n",
       "      <td>1.00</td>\n",
       "      <td>1.00</td>\n",
       "      <td>1.00</td>\n",
       "      <td>1.00</td>\n",
       "      <td>#NULL!</td>\n",
       "      <td>3.00</td>\n",
       "      <td>1.00</td>\n",
       "      <td>1.00</td>\n",
       "    </tr>\n",
       "    <tr>\n",
       "      <th>2</th>\n",
       "      <td>3.0</td>\n",
       "      <td>Ashanti</td>\n",
       "      <td>Ahafo Ano North</td>\n",
       "      <td>Dwaaho</td>\n",
       "      <td>Abu- Bone</td>\n",
       "      <td>1.0</td>\n",
       "      <td>55.0</td>\n",
       "      <td>2.0</td>\n",
       "      <td>0.0</td>\n",
       "      <td>20.0</td>\n",
       "      <td>...</td>\n",
       "      <td>2.00</td>\n",
       "      <td>2.00</td>\n",
       "      <td>1.00</td>\n",
       "      <td>1.00</td>\n",
       "      <td>1.00</td>\n",
       "      <td>1.00</td>\n",
       "      <td>1.00</td>\n",
       "      <td>3.00</td>\n",
       "      <td>1.00</td>\n",
       "      <td>1.00</td>\n",
       "    </tr>\n",
       "    <tr>\n",
       "      <th>3</th>\n",
       "      <td>4.0</td>\n",
       "      <td>Ashanti</td>\n",
       "      <td>Ahafo Ano North</td>\n",
       "      <td>Dwaaho</td>\n",
       "      <td>Abu- Bone</td>\n",
       "      <td>2.0</td>\n",
       "      <td>54.0</td>\n",
       "      <td>1.0</td>\n",
       "      <td>1.0</td>\n",
       "      <td>5.0</td>\n",
       "      <td>...</td>\n",
       "      <td>2.00</td>\n",
       "      <td>2.00</td>\n",
       "      <td>1.00</td>\n",
       "      <td>1.00</td>\n",
       "      <td>1.00</td>\n",
       "      <td>1.00</td>\n",
       "      <td>1.00</td>\n",
       "      <td>3.00</td>\n",
       "      <td>1.00</td>\n",
       "      <td>1.00</td>\n",
       "    </tr>\n",
       "    <tr>\n",
       "      <th>4</th>\n",
       "      <td>5.0</td>\n",
       "      <td>Ashanti</td>\n",
       "      <td>Ahafo Ano North</td>\n",
       "      <td>Dwaaho</td>\n",
       "      <td>Abu- Bone</td>\n",
       "      <td>2.0</td>\n",
       "      <td>64.0</td>\n",
       "      <td>1.0</td>\n",
       "      <td>1.0</td>\n",
       "      <td>12.0</td>\n",
       "      <td>...</td>\n",
       "      <td>2.00</td>\n",
       "      <td>2.00</td>\n",
       "      <td>1.00</td>\n",
       "      <td>1.00</td>\n",
       "      <td>1.00</td>\n",
       "      <td>1.00</td>\n",
       "      <td>1.00</td>\n",
       "      <td>1.00</td>\n",
       "      <td>3.00</td>\n",
       "      <td>1.00</td>\n",
       "    </tr>\n",
       "    <tr>\n",
       "      <th>...</th>\n",
       "      <td>...</td>\n",
       "      <td>...</td>\n",
       "      <td>...</td>\n",
       "      <td>...</td>\n",
       "      <td>...</td>\n",
       "      <td>...</td>\n",
       "      <td>...</td>\n",
       "      <td>...</td>\n",
       "      <td>...</td>\n",
       "      <td>...</td>\n",
       "      <td>...</td>\n",
       "      <td>...</td>\n",
       "      <td>...</td>\n",
       "      <td>...</td>\n",
       "      <td>...</td>\n",
       "      <td>...</td>\n",
       "      <td>...</td>\n",
       "      <td>...</td>\n",
       "      <td>...</td>\n",
       "      <td>...</td>\n",
       "      <td>...</td>\n",
       "    </tr>\n",
       "    <tr>\n",
       "      <th>373</th>\n",
       "      <td>374.0</td>\n",
       "      <td>Ashanti</td>\n",
       "      <td>Ahafo Ano North</td>\n",
       "      <td>Betinko</td>\n",
       "      <td>Anyinasuso</td>\n",
       "      <td>2.0</td>\n",
       "      <td>57.0</td>\n",
       "      <td>2.0</td>\n",
       "      <td>0.0</td>\n",
       "      <td>50.0</td>\n",
       "      <td>...</td>\n",
       "      <td>1.00</td>\n",
       "      <td>1.00</td>\n",
       "      <td>1.00</td>\n",
       "      <td>#NULL!</td>\n",
       "      <td>#NULL!</td>\n",
       "      <td>1.00</td>\n",
       "      <td>1.00</td>\n",
       "      <td>#NULL!</td>\n",
       "      <td>1.00</td>\n",
       "      <td>#NULL!</td>\n",
       "    </tr>\n",
       "    <tr>\n",
       "      <th>374</th>\n",
       "      <td>375.0</td>\n",
       "      <td>Ashanti</td>\n",
       "      <td>Ahafo Ano North</td>\n",
       "      <td>Abonsuasu</td>\n",
       "      <td>Biakoye</td>\n",
       "      <td>2.0</td>\n",
       "      <td>32.0</td>\n",
       "      <td>1.0</td>\n",
       "      <td>3.0</td>\n",
       "      <td>8.0</td>\n",
       "      <td>...</td>\n",
       "      <td>2.00</td>\n",
       "      <td>1.00</td>\n",
       "      <td>1.00</td>\n",
       "      <td>#NULL!</td>\n",
       "      <td>#NULL!</td>\n",
       "      <td>1.00</td>\n",
       "      <td>1.00</td>\n",
       "      <td>#NULL!</td>\n",
       "      <td>1.00</td>\n",
       "      <td>#NULL!</td>\n",
       "    </tr>\n",
       "    <tr>\n",
       "      <th>375</th>\n",
       "      <td>376.0</td>\n",
       "      <td>Ashanti</td>\n",
       "      <td>Ahafo Ano North</td>\n",
       "      <td>Bronsakro</td>\n",
       "      <td>Anyinasuso</td>\n",
       "      <td>2.0</td>\n",
       "      <td>51.0</td>\n",
       "      <td>1.0</td>\n",
       "      <td>1.0</td>\n",
       "      <td>30.0</td>\n",
       "      <td>...</td>\n",
       "      <td>2.00</td>\n",
       "      <td>1.00</td>\n",
       "      <td>1.00</td>\n",
       "      <td>#NULL!</td>\n",
       "      <td>#NULL!</td>\n",
       "      <td>1.00</td>\n",
       "      <td>1.00</td>\n",
       "      <td>#NULL!</td>\n",
       "      <td>1.00</td>\n",
       "      <td>#NULL!</td>\n",
       "    </tr>\n",
       "    <tr>\n",
       "      <th>376</th>\n",
       "      <td>377.0</td>\n",
       "      <td>Ashanti</td>\n",
       "      <td>Ahafo Ano North</td>\n",
       "      <td>Bonkrom</td>\n",
       "      <td>Anyinasuso</td>\n",
       "      <td>1.0</td>\n",
       "      <td>53.0</td>\n",
       "      <td>1.0</td>\n",
       "      <td>3.0</td>\n",
       "      <td>15.0</td>\n",
       "      <td>...</td>\n",
       "      <td>2.00</td>\n",
       "      <td>2.00</td>\n",
       "      <td>2.00</td>\n",
       "      <td>1.00</td>\n",
       "      <td>1.00</td>\n",
       "      <td>2.00</td>\n",
       "      <td>2.00</td>\n",
       "      <td>1.00</td>\n",
       "      <td>1.00</td>\n",
       "      <td>2.00</td>\n",
       "    </tr>\n",
       "    <tr>\n",
       "      <th>377</th>\n",
       "      <td>378.0</td>\n",
       "      <td>Ashanti</td>\n",
       "      <td>Ahafo Ano North</td>\n",
       "      <td>Bonkrom</td>\n",
       "      <td>Anyinasuso</td>\n",
       "      <td>1.0</td>\n",
       "      <td>71.0</td>\n",
       "      <td>2.0</td>\n",
       "      <td>0.0</td>\n",
       "      <td>50.0</td>\n",
       "      <td>...</td>\n",
       "      <td>2.00</td>\n",
       "      <td>2.00</td>\n",
       "      <td>1.00</td>\n",
       "      <td>2.00</td>\n",
       "      <td>3.00</td>\n",
       "      <td>2.00</td>\n",
       "      <td>2.00</td>\n",
       "      <td>2.00</td>\n",
       "      <td>2.00</td>\n",
       "      <td>2.00</td>\n",
       "    </tr>\n",
       "  </tbody>\n",
       "</table>\n",
       "<p>378 rows × 214 columns</p>\n",
       "</div>"
      ],
      "text/plain": [
       "     Interviewee Identification Number Region Name    District Name  \\\n",
       "0                                  1.0     Ashanti  Ahafo Ano North   \n",
       "1                                  2.0     Ashanti  Ahafo Ano North   \n",
       "2                                  3.0     Ashanti  Ahafo Ano North   \n",
       "3                                  4.0     Ashanti  Ahafo Ano North   \n",
       "4                                  5.0     Ashanti  Ahafo Ano North   \n",
       "..                                 ...         ...              ...   \n",
       "373                              374.0     Ashanti  Ahafo Ano North   \n",
       "374                              375.0     Ashanti  Ahafo Ano North   \n",
       "375                              376.0     Ashanti  Ahafo Ano North   \n",
       "376                              377.0     Ashanti  Ahafo Ano North   \n",
       "377                              378.0     Ashanti  Ahafo Ano North   \n",
       "\n",
       "    Village Name AreaCouncil  What is the gender of the household head?  \\\n",
       "0         Dwaaho   Abu- Bone                                        1.0   \n",
       "1         Dwaaho   Abu- Bone                                        2.0   \n",
       "2         Dwaaho   Abu- Bone                                        1.0   \n",
       "3         Dwaaho   Abu- Bone                                        2.0   \n",
       "4         Dwaaho   Abu- Bone                                        2.0   \n",
       "..           ...         ...                                        ...   \n",
       "373      Betinko  Anyinasuso                                        2.0   \n",
       "374    Abonsuasu     Biakoye                                        2.0   \n",
       "375    Bronsakro  Anyinasuso                                        2.0   \n",
       "376      Bonkrom  Anyinasuso                                        1.0   \n",
       "377      Bonkrom  Anyinasuso                                        1.0   \n",
       "\n",
       "     What is the age of the household head?  \\\n",
       "0                                      35.0   \n",
       "1                                      50.0   \n",
       "2                                      55.0   \n",
       "3                                      54.0   \n",
       "4                                      64.0   \n",
       "..                                      ...   \n",
       "373                                    57.0   \n",
       "374                                    32.0   \n",
       "375                                    51.0   \n",
       "376                                    53.0   \n",
       "377                                    71.0   \n",
       "\n",
       "     Does the household head have any formal education?  \\\n",
       "0                                                  1.0    \n",
       "1                                                  1.0    \n",
       "2                                                  2.0    \n",
       "3                                                  1.0    \n",
       "4                                                  1.0    \n",
       "..                                                 ...    \n",
       "373                                                2.0    \n",
       "374                                                1.0    \n",
       "375                                                1.0    \n",
       "376                                                1.0    \n",
       "377                                                2.0    \n",
       "\n",
       "     If yes, what is the level of education (primary, secondary or tertiary)?  \\\n",
       "0                                                  1.0                          \n",
       "1                                                  1.0                          \n",
       "2                                                  0.0                          \n",
       "3                                                  1.0                          \n",
       "4                                                  1.0                          \n",
       "..                                                 ...                          \n",
       "373                                                0.0                          \n",
       "374                                                3.0                          \n",
       "375                                                1.0                          \n",
       "376                                                3.0                          \n",
       "377                                                0.0                          \n",
       "\n",
       "     How many years of cocoa farming experience do you possess?  ...  \\\n",
       "0                                                  8.0           ...   \n",
       "1                                                  6.0           ...   \n",
       "2                                                 20.0           ...   \n",
       "3                                                  5.0           ...   \n",
       "4                                                 12.0           ...   \n",
       "..                                                 ...           ...   \n",
       "373                                               50.0           ...   \n",
       "374                                                8.0           ...   \n",
       "375                                               30.0           ...   \n",
       "376                                               15.0           ...   \n",
       "377                                               50.0           ...   \n",
       "\n",
       "     Do you smoke more cigarettes as a coping method against climate change?  \\\n",
       "0                                                 2.00                         \n",
       "1                                                 2.00                         \n",
       "2                                                 2.00                         \n",
       "3                                                 2.00                         \n",
       "4                                                 2.00                         \n",
       "..                                                 ...                         \n",
       "373                                               1.00                         \n",
       "374                                               2.00                         \n",
       "375                                               2.00                         \n",
       "376                                               2.00                         \n",
       "377                                               2.00                         \n",
       "\n",
       "     Do you burn fire at home as a coping method against climate change?  \\\n",
       "0                                                 2.00                     \n",
       "1                                                 2.00                     \n",
       "2                                                 2.00                     \n",
       "3                                                 2.00                     \n",
       "4                                                 2.00                     \n",
       "..                                                 ...                     \n",
       "373                                               1.00                     \n",
       "374                                               1.00                     \n",
       "375                                               1.00                     \n",
       "376                                               2.00                     \n",
       "377                                               2.00                     \n",
       "\n",
       "     How do you rank collective efforts by all the villagers as an effort to address climate change?  \\\n",
       "0                                                 1.00                                                 \n",
       "1                                                 1.00                                                 \n",
       "2                                                 1.00                                                 \n",
       "3                                                 1.00                                                 \n",
       "4                                                 1.00                                                 \n",
       "..                                                 ...                                                 \n",
       "373                                               1.00                                                 \n",
       "374                                               1.00                                                 \n",
       "375                                               1.00                                                 \n",
       "376                                               2.00                                                 \n",
       "377                                               1.00                                                 \n",
       "\n",
       "     How do you rank individual efforts as an effort to address climate change?  \\\n",
       "0                                                 1.00                            \n",
       "1                                                 1.00                            \n",
       "2                                                 1.00                            \n",
       "3                                                 1.00                            \n",
       "4                                                 1.00                            \n",
       "..                                                 ...                            \n",
       "373                                             #NULL!                            \n",
       "374                                             #NULL!                            \n",
       "375                                             #NULL!                            \n",
       "376                                               1.00                            \n",
       "377                                               2.00                            \n",
       "\n",
       "     How do you rank local/state motivated efforts as an effort to address climate change?  \\\n",
       "0                                                 1.00                                       \n",
       "1                                                 1.00                                       \n",
       "2                                                 1.00                                       \n",
       "3                                                 1.00                                       \n",
       "4                                                 1.00                                       \n",
       "..                                                 ...                                       \n",
       "373                                             #NULL!                                       \n",
       "374                                             #NULL!                                       \n",
       "375                                             #NULL!                                       \n",
       "376                                               1.00                                       \n",
       "377                                               3.00                                       \n",
       "\n",
       "     How do you rank collective weather monitoring as an effort to address climate change?  \\\n",
       "0                                                 1.00                                       \n",
       "1                                                 1.00                                       \n",
       "2                                                 1.00                                       \n",
       "3                                                 1.00                                       \n",
       "4                                                 1.00                                       \n",
       "..                                                 ...                                       \n",
       "373                                               1.00                                       \n",
       "374                                               1.00                                       \n",
       "375                                               1.00                                       \n",
       "376                                               2.00                                       \n",
       "377                                               2.00                                       \n",
       "\n",
       "     How do you rank group cocoa spraying as an effort to address climate change?  \\\n",
       "0                                                 1.00                              \n",
       "1                                               #NULL!                              \n",
       "2                                                 1.00                              \n",
       "3                                                 1.00                              \n",
       "4                                                 1.00                              \n",
       "..                                                 ...                              \n",
       "373                                               1.00                              \n",
       "374                                               1.00                              \n",
       "375                                               1.00                              \n",
       "376                                               2.00                              \n",
       "377                                               2.00                              \n",
       "\n",
       "    How do you rank irrigation as an effort to address climate change?  \\\n",
       "0                                                 3.00                   \n",
       "1                                                 3.00                   \n",
       "2                                                 3.00                   \n",
       "3                                                 3.00                   \n",
       "4                                                 1.00                   \n",
       "..                                                 ...                   \n",
       "373                                             #NULL!                   \n",
       "374                                             #NULL!                   \n",
       "375                                             #NULL!                   \n",
       "376                                               1.00                   \n",
       "377                                               2.00                   \n",
       "\n",
       "    How do you rank monitoring weather through the media as an effort to address climate change?  \\\n",
       "0                                                 1.00                                             \n",
       "1                                                 1.00                                             \n",
       "2                                                 1.00                                             \n",
       "3                                                 1.00                                             \n",
       "4                                                 3.00                                             \n",
       "..                                                 ...                                             \n",
       "373                                               1.00                                             \n",
       "374                                               1.00                                             \n",
       "375                                               1.00                                             \n",
       "376                                               1.00                                             \n",
       "377                                               2.00                                             \n",
       "\n",
       "    How do you rank credit support from friends and relatives as an effort to address climate change?  \n",
       "0                                                 1.00                                                 \n",
       "1                                                 1.00                                                 \n",
       "2                                                 1.00                                                 \n",
       "3                                                 1.00                                                 \n",
       "4                                                 1.00                                                 \n",
       "..                                                 ...                                                 \n",
       "373                                             #NULL!                                                 \n",
       "374                                             #NULL!                                                 \n",
       "375                                             #NULL!                                                 \n",
       "376                                               2.00                                                 \n",
       "377                                               2.00                                                 \n",
       "\n",
       "[378 rows x 214 columns]"
      ]
     },
     "execution_count": 962,
     "metadata": {},
     "output_type": "execute_result"
    }
   ],
   "source": [
    "# View a sample of the data for AAPL Historical.\n",
    "ghana_data = pd.read_csv('/Users/erahm/Downloads/Dataset on cocoa production and climate change adaptation strategies in Ghana.csv')\n",
    "ghana_data"
   ]
  },
  {
   "cell_type": "code",
   "execution_count": 963,
   "metadata": {},
   "outputs": [
    {
     "data": {
      "text/plain": [
       "Interviewee Identification Number                                                                    0.0\n",
       "Region Name                                                                                          0.0\n",
       "District Name                                                                                        0.0\n",
       "Village Name                                                                                         0.0\n",
       "AreaCouncil                                                                                          0.0\n",
       "                                                                                                    ... \n",
       "How do you rank collective weather monitoring as an effort to address climate change?                0.0\n",
       "How do you rank group cocoa spraying as an effort to address climate change?                         0.0\n",
       "How do you rank irrigation as an effort to address climate change?                                   0.0\n",
       "How do you rank monitoring weather through the media as an effort to address climate change?         0.0\n",
       "How do you rank credit support from friends and relatives as an effort to address climate change?    0.0\n",
       "Length: 214, dtype: float64"
      ]
     },
     "execution_count": 963,
     "metadata": {},
     "output_type": "execute_result"
    }
   ],
   "source": [
    "ghana_data.isnull().mean() * 100"
   ]
  },
  {
   "cell_type": "code",
   "execution_count": 964,
   "metadata": {},
   "outputs": [
    {
     "data": {
      "text/plain": [
       "Interviewee Identification Number                                                                    0\n",
       "Region Name                                                                                          0\n",
       "District Name                                                                                        0\n",
       "Village Name                                                                                         0\n",
       "AreaCouncil                                                                                          0\n",
       "                                                                                                    ..\n",
       "How do you rank collective weather monitoring as an effort to address climate change?                0\n",
       "How do you rank group cocoa spraying as an effort to address climate change?                         0\n",
       "How do you rank irrigation as an effort to address climate change?                                   0\n",
       "How do you rank monitoring weather through the media as an effort to address climate change?         0\n",
       "How do you rank credit support from friends and relatives as an effort to address climate change?    0\n",
       "Length: 214, dtype: int64"
      ]
     },
     "execution_count": 964,
     "metadata": {},
     "output_type": "execute_result"
    }
   ],
   "source": [
    "ghana_data.isnull().sum()"
   ]
  },
  {
   "cell_type": "code",
   "execution_count": 965,
   "metadata": {},
   "outputs": [
    {
     "data": {
      "text/plain": [
       "1.0    265\n",
       "2.0    113\n",
       "Name: What is the gender of the household head?, dtype: int64"
      ]
     },
     "execution_count": 965,
     "metadata": {},
     "output_type": "execute_result"
    }
   ],
   "source": [
    "ghana_data['What is the gender of the household head?'].value_counts()"
   ]
  },
  {
   "cell_type": "code",
   "execution_count": 966,
   "metadata": {},
   "outputs": [
    {
     "data": {
      "text/plain": [
       "54.0    19\n",
       "52.0    18\n",
       "50.0    15\n",
       "45.0    15\n",
       "35.0    14\n",
       "53.0    14\n",
       "55.0    14\n",
       "48.0    13\n",
       "38.0    12\n",
       "60.0    12\n",
       "59.0    11\n",
       "65.0    10\n",
       "70.0    10\n",
       "51.0    10\n",
       "56.0     9\n",
       "62.0     9\n",
       "42.0     9\n",
       "47.0     9\n",
       "40.0     9\n",
       "63.0     8\n",
       "61.0     8\n",
       "57.0     8\n",
       "58.0     8\n",
       "32.0     8\n",
       "64.0     7\n",
       "49.0     7\n",
       "67.0     7\n",
       "75.0     6\n",
       "46.0     6\n",
       "36.0     5\n",
       "33.0     4\n",
       "30.0     4\n",
       "78.0     4\n",
       "43.0     4\n",
       "29.0     4\n",
       "37.0     4\n",
       "27.0     4\n",
       "72.0     4\n",
       "66.0     3\n",
       "39.0     3\n",
       "31.0     3\n",
       "34.0     3\n",
       "69.0     3\n",
       "26.0     3\n",
       "44.0     3\n",
       "68.0     2\n",
       "80.0     2\n",
       "90.0     1\n",
       "88.0     1\n",
       "41.0     1\n",
       "28.0     1\n",
       "73.0     1\n",
       "87.0     1\n",
       "25.0     1\n",
       "84.0     1\n",
       "74.0     1\n",
       "19.0     1\n",
       "71.0     1\n",
       "Name: What is the age of the household head?, dtype: int64"
      ]
     },
     "execution_count": 966,
     "metadata": {},
     "output_type": "execute_result"
    }
   ],
   "source": [
    "ghana_data['What is the age of the household head?'].value_counts()"
   ]
  },
  {
   "cell_type": "code",
   "execution_count": 967,
   "metadata": {},
   "outputs": [
    {
     "data": {
      "text/plain": [
       "1.0    296\n",
       "2.0     82\n",
       "Name: Does the household head have any formal education?, dtype: int64"
      ]
     },
     "execution_count": 967,
     "metadata": {},
     "output_type": "execute_result"
    }
   ],
   "source": [
    "ghana_data['Does the household head have any formal education?'].value_counts()"
   ]
  },
  {
   "cell_type": "code",
   "execution_count": 968,
   "metadata": {},
   "outputs": [
    {
     "data": {
      "text/plain": [
       "1.0    179\n",
       "2.0     95\n",
       "0.0     83\n",
       "3.0     21\n",
       "Name: If yes, what is the level of education (primary, secondary or tertiary)?, dtype: int64"
      ]
     },
     "execution_count": 968,
     "metadata": {},
     "output_type": "execute_result"
    }
   ],
   "source": [
    "ghana_data['If yes, what is the level of education (primary, secondary or tertiary)?'].value_counts()"
   ]
  },
  {
   "cell_type": "code",
   "execution_count": 969,
   "metadata": {},
   "outputs": [
    {
     "data": {
      "text/plain": [
       "20.0    46\n",
       "15.0    43\n",
       "10.0    25\n",
       "30.0    24\n",
       "25.0    20\n",
       "12.0    18\n",
       "5.0     17\n",
       "6.0     16\n",
       "7.0     14\n",
       "50.0    11\n",
       "40.0    10\n",
       "9.0      9\n",
       "4.0      8\n",
       "8.0      7\n",
       "18.0     7\n",
       "35.0     7\n",
       "13.0     7\n",
       "22.0     7\n",
       "3.0      6\n",
       "23.0     5\n",
       "16.0     5\n",
       "28.0     5\n",
       "14.0     5\n",
       "32.0     4\n",
       "26.0     4\n",
       "11.0     4\n",
       "24.0     4\n",
       "42.0     4\n",
       "17.0     4\n",
       "21.0     4\n",
       "38.0     3\n",
       "44.0     3\n",
       "29.0     2\n",
       "1.0      2\n",
       "19.0     2\n",
       "31.0     2\n",
       "27.0     2\n",
       "43.0     1\n",
       "48.0     1\n",
       "41.0     1\n",
       "45.0     1\n",
       "73.0     1\n",
       "53.0     1\n",
       "52.0     1\n",
       "49.0     1\n",
       "36.0     1\n",
       "47.0     1\n",
       "55.0     1\n",
       "2.0      1\n",
       "Name: How many years of cocoa farming experience do you possess?, dtype: int64"
      ]
     },
     "execution_count": 969,
     "metadata": {},
     "output_type": "execute_result"
    }
   ],
   "source": [
    "ghana_data['How many years of cocoa farming experience do you possess?'].value_counts()"
   ]
  },
  {
   "cell_type": "code",
   "execution_count": 970,
   "metadata": {},
   "outputs": [
    {
     "data": {
      "text/plain": [
       "6.0     52\n",
       "8.0     45\n",
       "5.0     45\n",
       "7.0     44\n",
       "10.0    35\n",
       "4.0     28\n",
       "9.0     27\n",
       "12.0    18\n",
       "3.0     14\n",
       "15.0    13\n",
       "11.0    11\n",
       "16.0     7\n",
       "14.0     7\n",
       "2.0      6\n",
       "1.0      5\n",
       "20.0     5\n",
       "13.0     4\n",
       "18.0     4\n",
       "25.0     2\n",
       "32.0     1\n",
       "30.0     1\n",
       "26.0     1\n",
       "23.0     1\n",
       "41.0     1\n",
       "21.0     1\n",
       "Name: How many of you are living and eating together?, dtype: int64"
      ]
     },
     "execution_count": 970,
     "metadata": {},
     "output_type": "execute_result"
    }
   ],
   "source": [
    "ghana_data['How many of you are living and eating together?'].value_counts()"
   ]
  },
  {
   "cell_type": "code",
   "execution_count": 971,
   "metadata": {},
   "outputs": [
    {
     "data": {
      "text/plain": [
       "5.0     67\n",
       "4.0     64\n",
       "2.0     62\n",
       "3.0     54\n",
       "6.0     34\n",
       "8.0     23\n",
       "7.0     21\n",
       "1.0     16\n",
       "10.0     9\n",
       "9.0      9\n",
       "15.0     5\n",
       "11.0     4\n",
       "14.0     3\n",
       "12.0     2\n",
       "18.0     1\n",
       "17.0     1\n",
       "16.0     1\n",
       "29.0     1\n",
       "24.0     1\n",
       "Name: What is the number of household members that are adults?, dtype: int64"
      ]
     },
     "execution_count": 971,
     "metadata": {},
     "output_type": "execute_result"
    }
   ],
   "source": [
    "ghana_data['What is the number of household members that are adults?'].value_counts()"
   ]
  },
  {
   "cell_type": "code",
   "execution_count": 972,
   "metadata": {},
   "outputs": [
    {
     "data": {
      "text/plain": [
       "0.0     77\n",
       "3.0     65\n",
       "2.0     64\n",
       "1.0     55\n",
       "4.0     44\n",
       "5.0     31\n",
       "7.0     17\n",
       "6.0     12\n",
       "8.0      3\n",
       "10.0     3\n",
       "9.0      2\n",
       "14.0     2\n",
       "30.0     1\n",
       "12.0     1\n",
       "15.0     1\n",
       "Name: What is the number of household members that are less than 5 years old?, dtype: int64"
      ]
     },
     "execution_count": 972,
     "metadata": {},
     "output_type": "execute_result"
    }
   ],
   "source": [
    "ghana_data['What is the number of household members that are less than 5 years old?'].value_counts()"
   ]
  },
  {
   "cell_type": "code",
   "execution_count": 973,
   "metadata": {},
   "outputs": [
    {
     "data": {
      "text/plain": [
       "20.0    48\n",
       "30.0    40\n",
       "25.0    31\n",
       "15.0    24\n",
       "10.0    18\n",
       "35.0    14\n",
       "6.0     14\n",
       "5.0     12\n",
       "40.0    11\n",
       "12.0    11\n",
       "7.0     10\n",
       "50.0    10\n",
       "22.0    10\n",
       "45.0     8\n",
       "23.0     8\n",
       "18.0     8\n",
       "21.0     7\n",
       "32.0     6\n",
       "8.0      6\n",
       "28.0     6\n",
       "13.0     5\n",
       "24.0     5\n",
       "17.0     5\n",
       "26.0     5\n",
       "27.0     5\n",
       "9.0      4\n",
       "16.0     3\n",
       "60.0     3\n",
       "4.0      3\n",
       "44.0     3\n",
       "11.0     3\n",
       "31.0     3\n",
       "55.0     2\n",
       "48.0     2\n",
       "43.0     2\n",
       "42.0     2\n",
       "33.0     2\n",
       "37.0     2\n",
       "14.0     2\n",
       "2.0      2\n",
       "1.0      1\n",
       "41.0     1\n",
       "53.0     1\n",
       "3.0      1\n",
       "36.0     1\n",
       "19.0     1\n",
       "38.0     1\n",
       "47.0     1\n",
       "73.0     1\n",
       "52.0     1\n",
       "80.0     1\n",
       "70.0     1\n",
       "29.0     1\n",
       "Name: How long ago did you start farming?, dtype: int64"
      ]
     },
     "execution_count": 973,
     "metadata": {},
     "output_type": "execute_result"
    }
   ],
   "source": [
    "ghana_data['How long ago did you start farming?'].value_counts()"
   ]
  },
  {
   "cell_type": "code",
   "execution_count": 974,
   "metadata": {},
   "outputs": [
    {
     "data": {
      "text/plain": [
       "20.0    46\n",
       "15.0    35\n",
       "10.0    32\n",
       "30.0    25\n",
       "25.0    20\n",
       "5.0     17\n",
       "6.0     15\n",
       "12.0    15\n",
       "7.0     15\n",
       "4.0     10\n",
       "40.0     9\n",
       "8.0      9\n",
       "13.0     9\n",
       "50.0     9\n",
       "1.0      8\n",
       "23.0     8\n",
       "9.0      8\n",
       "3.0      6\n",
       "35.0     6\n",
       "17.0     5\n",
       "16.0     5\n",
       "28.0     5\n",
       "14.0     5\n",
       "18.0     5\n",
       "24.0     5\n",
       "11.0     4\n",
       "26.0     4\n",
       "21.0     4\n",
       "22.0     4\n",
       "44.0     3\n",
       "36.0     3\n",
       "32.0     3\n",
       "43.0     3\n",
       "27.0     2\n",
       "38.0     2\n",
       "31.0     2\n",
       "2.0      2\n",
       "41.0     1\n",
       "29.0     1\n",
       "55.0     1\n",
       "53.0     1\n",
       "73.0     1\n",
       "52.0     1\n",
       "49.0     1\n",
       "42.0     1\n",
       "47.0     1\n",
       "92.0     1\n",
       "Name: How long have you been growing cocoa?, dtype: int64"
      ]
     },
     "execution_count": 974,
     "metadata": {},
     "output_type": "execute_result"
    }
   ],
   "source": [
    "ghana_data['How long have you been growing cocoa?'].value_counts()"
   ]
  },
  {
   "cell_type": "code",
   "execution_count": 1106,
   "metadata": {},
   "outputs": [
    {
     "ename": "NameError",
     "evalue": "name 'cocoa' is not defined",
     "output_type": "error",
     "traceback": [
      "\u001b[1;31m---------------------------------------------------------------------------\u001b[0m",
      "\u001b[1;31mNameError\u001b[0m                                 Traceback (most recent call last)",
      "\u001b[1;32m~\\AppData\\Local\\Temp/ipykernel_24204/1795535126.py\u001b[0m in \u001b[0;36m<module>\u001b[1;34m\u001b[0m\n\u001b[0;32m      1\u001b[0m \u001b[0mghana_data\u001b[0m\u001b[1;33m[\u001b[0m\u001b[1;34m'Is cocoa the primary crop cultivated?'\u001b[0m\u001b[1;33m]\u001b[0m\u001b[1;33m.\u001b[0m\u001b[0mvalue_counts\u001b[0m\u001b[1;33m(\u001b[0m\u001b[1;33m)\u001b[0m\u001b[1;33m\u001b[0m\u001b[1;33m\u001b[0m\u001b[0m\n\u001b[0;32m      2\u001b[0m \u001b[0mdf\u001b[0m \u001b[1;33m=\u001b[0m \u001b[0mpd\u001b[0m\u001b[1;33m.\u001b[0m\u001b[0mDataFrame\u001b[0m\u001b[1;33m(\u001b[0m\u001b[0mghana_data\u001b[0m\u001b[1;33m)\u001b[0m\u001b[1;33m\u001b[0m\u001b[1;33m\u001b[0m\u001b[0m\n\u001b[1;32m----> 3\u001b[1;33m \u001b[0mdf\u001b[0m\u001b[1;33m[\u001b[0m\u001b[1;34m'Is cocoa the primary crop cultivated?'\u001b[0m\u001b[1;33m]\u001b[0m \u001b[1;33m=\u001b[0m \u001b[0mcocoa\u001b[0m\u001b[1;33m\u001b[0m\u001b[1;33m\u001b[0m\u001b[0m\n\u001b[0m",
      "\u001b[1;31mNameError\u001b[0m: name 'cocoa' is not defined"
     ]
    }
   ],
   "source": [
    "ghana_data['Is cocoa the primary crop cultivated?'].value_counts()\n",
    "df = pd.DataFrame(ghana_data)\n",
    "df"
   ]
  },
  {
   "cell_type": "code",
   "execution_count": 976,
   "metadata": {},
   "outputs": [
    {
     "data": {
      "text/plain": [
       "1.0    314\n",
       "2.0     64\n",
       "Name: Is farming your primary occupation?, dtype: int64"
      ]
     },
     "execution_count": 976,
     "metadata": {},
     "output_type": "execute_result"
    }
   ],
   "source": [
    "ghana_data['Is farming your primary occupation?'].value_counts()"
   ]
  },
  {
   "cell_type": "code",
   "execution_count": 977,
   "metadata": {},
   "outputs": [
    {
     "data": {
      "text/plain": [
       "200.00      51\n",
       "100.00      42\n",
       "0.00        30\n",
       "500.00      26\n",
       "300.00      22\n",
       "            ..\n",
       "280.00       1\n",
       "8,500.00     1\n",
       "75.00        1\n",
       "583.00       1\n",
       "1,866.00     1\n",
       "Name: Estimate the monthly incomes realized by all family members from agricultural (crops), Length: 61, dtype: int64"
      ]
     },
     "execution_count": 977,
     "metadata": {},
     "output_type": "execute_result"
    }
   ],
   "source": [
    "ghana_data['Estimate the monthly incomes realized by all family members from agricultural (crops)'].value_counts()"
   ]
  },
  {
   "cell_type": "code",
   "execution_count": 978,
   "metadata": {},
   "outputs": [
    {
     "data": {
      "text/plain": [
       "0.00        274\n",
       "50.00        19\n",
       "100.00       13\n",
       "500.00        8\n",
       "150.00        7\n",
       "300.00        5\n",
       "200.00        5\n",
       "1,000.00      4\n",
       "10.00         4\n",
       "30.00         4\n",
       "400.00        3\n",
       "60.00         2\n",
       "70.00         2\n",
       "80.00         2\n",
       "700.00        2\n",
       "350.00        2\n",
       "5.00          2\n",
       "450.00        2\n",
       "20.00         1\n",
       "45.00         1\n",
       "236.00        1\n",
       "124.00        1\n",
       "310.00        1\n",
       "227.00        1\n",
       "40.00         1\n",
       "166.00        1\n",
       "163.00        1\n",
       "25.00         1\n",
       "1,500.00      1\n",
       "600.00        1\n",
       "5,000.00      1\n",
       "270.00        1\n",
       "125.00        1\n",
       "1,600.00      1\n",
       "130.00        1\n",
       "136.00        1\n",
       "Name: Estimate the monthly incomes realized by all family members from agricultural (livestock), dtype: int64"
      ]
     },
     "execution_count": 978,
     "metadata": {},
     "output_type": "execute_result"
    }
   ],
   "source": [
    "ghana_data['Estimate the monthly incomes realized by all family members from agricultural (livestock)'].value_counts()"
   ]
  },
  {
   "cell_type": "code",
   "execution_count": 979,
   "metadata": {},
   "outputs": [
    {
     "data": {
      "text/plain": [
       "0.00        320\n",
       "1,000.00     11\n",
       "150.00        7\n",
       "500.00        6\n",
       "2,000.00      5\n",
       "200.00        4\n",
       "100.00        4\n",
       "400.00        4\n",
       "300.00        3\n",
       "700.00        1\n",
       "1,200.00      1\n",
       "5,000.00      1\n",
       "600.00        1\n",
       "2,500.00      1\n",
       "3,000.00      1\n",
       "650.00        1\n",
       "20.00         1\n",
       "120.00        1\n",
       "155.00        1\n",
       "15.00         1\n",
       "250.00        1\n",
       "65.00         1\n",
       "800.00        1\n",
       "Name: Estimate the monthly incomes realized by all family members from agricultural wage, dtype: int64"
      ]
     },
     "execution_count": 979,
     "metadata": {},
     "output_type": "execute_result"
    }
   ],
   "source": [
    "ghana_data['Estimate the monthly incomes realized by all family members from agricultural wage'].value_counts()"
   ]
  },
  {
   "cell_type": "code",
   "execution_count": 980,
   "metadata": {},
   "outputs": [
    {
     "data": {
      "text/plain": [
       "0.00        349\n",
       "1,000.00      7\n",
       "500.00        6\n",
       "100.00        4\n",
       "300.00        4\n",
       "50.00         2\n",
       "85.00         1\n",
       "150.00        1\n",
       "4,000.00      1\n",
       "200.00        1\n",
       "400.00        1\n",
       "350.00        1\n",
       "Name: Estimate the monthly incomes realized by all family members from informal loans, dtype: int64"
      ]
     },
     "execution_count": 980,
     "metadata": {},
     "output_type": "execute_result"
    }
   ],
   "source": [
    "ghana_data['Estimate the monthly incomes realized by all family members from informal loans'].value_counts()"
   ]
  },
  {
   "cell_type": "code",
   "execution_count": 981,
   "metadata": {},
   "outputs": [
    {
     "data": {
      "text/plain": [
       "0.0      376\n",
       "100.0      1\n",
       "200.0      1\n",
       "Name: Estimate the monthly incomes realized by all family members from begging, dtype: int64"
      ]
     },
     "execution_count": 981,
     "metadata": {},
     "output_type": "execute_result"
    }
   ],
   "source": [
    "ghana_data['Estimate the monthly incomes realized by all family members from begging'].value_counts()"
   ]
  },
  {
   "cell_type": "code",
   "execution_count": 982,
   "metadata": {},
   "outputs": [
    {
     "data": {
      "text/plain": [
       "0.00        354\n",
       "1,000.00      6\n",
       "500.00        4\n",
       "1,500.00      3\n",
       "6,000.00      1\n",
       "360.00        1\n",
       "850.00        1\n",
       "400.00        1\n",
       "5,000.00      1\n",
       "216.00        1\n",
       "340.00        1\n",
       "108.00        1\n",
       "143.00        1\n",
       "2.00          1\n",
       "2,000.00      1\n",
       "Name: Estimate the monthly incomes realized by all family members from formal loans, dtype: int64"
      ]
     },
     "execution_count": 982,
     "metadata": {},
     "output_type": "execute_result"
    }
   ],
   "source": [
    "ghana_data['Estimate the monthly incomes realized by all family members from formal loans'].value_counts()"
   ]
  },
  {
   "cell_type": "code",
   "execution_count": 983,
   "metadata": {},
   "outputs": [
    {
     "data": {
      "text/plain": [
       "0.00         322\n",
       "200.00        10\n",
       "300.00         8\n",
       "100.00         5\n",
       "150.00         5\n",
       "50.00          5\n",
       "500.00         3\n",
       "2,000.00       2\n",
       "20.00          2\n",
       "800.00         2\n",
       "120.00         2\n",
       "250.00         2\n",
       "50,000.00      1\n",
       "92.00          1\n",
       "40.00          1\n",
       "1,200.00       1\n",
       "75.00          1\n",
       "522.00         1\n",
       "450.00         1\n",
       "205.00         1\n",
       "350.00         1\n",
       "400.00         1\n",
       "Name: Estimate the monthly incomes realized by all family members from non-farm business, dtype: int64"
      ]
     },
     "execution_count": 983,
     "metadata": {},
     "output_type": "execute_result"
    }
   ],
   "source": [
    "ghana_data['Estimate the monthly incomes realized by all family members from non-farm business'].value_counts()"
   ]
  },
  {
   "cell_type": "code",
   "execution_count": 984,
   "metadata": {},
   "outputs": [
    {
     "data": {
      "text/plain": [
       "0.0      373\n",
       "25.0       1\n",
       "375.0      1\n",
       "600.0      1\n",
       "150.0      1\n",
       "350.0      1\n",
       "Name: Estimate the monthly incomes realized by all family members from non-farm wage, dtype: int64"
      ]
     },
     "execution_count": 984,
     "metadata": {},
     "output_type": "execute_result"
    }
   ],
   "source": [
    "ghana_data['Estimate the monthly incomes realized by all family members from non-farm wage'].value_counts()"
   ]
  },
  {
   "cell_type": "code",
   "execution_count": 985,
   "metadata": {},
   "outputs": [
    {
     "data": {
      "text/plain": [
       "0.00        374\n",
       "1,000.00      1\n",
       "60.00         1\n",
       "200.00        1\n",
       "1,500.00      1\n",
       "Name: Estimate the monthly incomes realized by all family members from sales of assets, dtype: int64"
      ]
     },
     "execution_count": 985,
     "metadata": {},
     "output_type": "execute_result"
    }
   ],
   "source": [
    "ghana_data['Estimate the monthly incomes realized by all family members from sales of assets'].value_counts()"
   ]
  },
  {
   "cell_type": "code",
   "execution_count": 986,
   "metadata": {},
   "outputs": [
    {
     "data": {
      "text/plain": [
       "0.0      373\n",
       "200.0      2\n",
       "5.0        1\n",
       "800.0      1\n",
       "300.0      1\n",
       "Name: Estimate the monthly incomes realized by all family members from remittances, dtype: int64"
      ]
     },
     "execution_count": 986,
     "metadata": {},
     "output_type": "execute_result"
    }
   ],
   "source": [
    "ghana_data['Estimate the monthly incomes realized by all family members from remittances'].value_counts()"
   ]
  },
  {
   "cell_type": "code",
   "execution_count": 987,
   "metadata": {},
   "outputs": [
    {
     "data": {
      "text/plain": [
       "0.0     136\n",
       "2.0      78\n",
       "1.0      69\n",
       "3.0      48\n",
       "4.0      23\n",
       "5.0      13\n",
       "6.0       7\n",
       "9.0       2\n",
       "10.0      2\n",
       "Name: How many times did the household head fall sick during last cocoa season?, dtype: int64"
      ]
     },
     "execution_count": 987,
     "metadata": {},
     "output_type": "execute_result"
    }
   ],
   "source": [
    "ghana_data['How many times did the household head fall sick during last cocoa season?'].value_counts()"
   ]
  },
  {
   "cell_type": "code",
   "execution_count": 988,
   "metadata": {},
   "outputs": [
    {
     "data": {
      "text/plain": [
       "malaria                         67\n",
       "Malaria                         33\n",
       "fever                           18\n",
       "MALARIA                         17\n",
       "ulcer                            8\n",
       "                                ..\n",
       "blood pressure and malaria       1\n",
       "diabetes and malaria             1\n",
       "cut                              1\n",
       "rhematism                        1\n",
       "waist pain and heart problem     1\n",
       "Name: What is the nature of the major sickness?, Length: 83, dtype: int64"
      ]
     },
     "execution_count": 988,
     "metadata": {},
     "output_type": "execute_result"
    }
   ],
   "source": [
    "ghana_data['What is the nature of the major sickness?'].value_counts()"
   ]
  },
  {
   "cell_type": "code",
   "execution_count": 989,
   "metadata": {},
   "outputs": [
    {
     "data": {
      "text/plain": [
       "1.0    287\n",
       "2.0     91\n",
       "Name: Did any other household members fall sick?, dtype: int64"
      ]
     },
     "execution_count": 989,
     "metadata": {},
     "output_type": "execute_result"
    }
   ],
   "source": [
    "ghana_data['Did any other household members fall sick?'].value_counts()"
   ]
  },
  {
   "cell_type": "code",
   "execution_count": 990,
   "metadata": {},
   "outputs": [
    {
     "data": {
      "text/plain": [
       "2.0    215\n",
       "1.0    163\n",
       "Name: Did you miss regular cocoa spraying due to illness during the last cocoa season?, dtype: int64"
      ]
     },
     "execution_count": 990,
     "metadata": {},
     "output_type": "execute_result"
    }
   ],
   "source": [
    "ghana_data['Did you miss regular cocoa spraying due to illness during the last cocoa season?'].value_counts()"
   ]
  },
  {
   "cell_type": "code",
   "execution_count": 991,
   "metadata": {},
   "outputs": [
    {
     "data": {
      "text/plain": [
       "2.0    233\n",
       "1.0    144\n",
       "3.0      1\n",
       "Name: Did you delay cocoa farming clearing due to illness last season?, dtype: int64"
      ]
     },
     "execution_count": 991,
     "metadata": {},
     "output_type": "execute_result"
    }
   ],
   "source": [
    "ghana_data['Did you delay cocoa farming clearing due to illness last season?'].value_counts()"
   ]
  },
  {
   "cell_type": "code",
   "execution_count": 992,
   "metadata": {},
   "outputs": [
    {
     "data": {
      "text/plain": [
       "1.0    161\n",
       "2.0    120\n",
       "3.0     67\n",
       "4.0     16\n",
       "5.0      7\n",
       "6.0      5\n",
       "7.0      2\n",
       "Name: How many cocoa farms do you have in this village?, dtype: int64"
      ]
     },
     "execution_count": 992,
     "metadata": {},
     "output_type": "execute_result"
    }
   ],
   "source": [
    "ghana_data['How many cocoa farms do you have in this village?'].value_counts()"
   ]
  },
  {
   "cell_type": "code",
   "execution_count": 993,
   "metadata": {},
   "outputs": [
    {
     "data": {
      "text/plain": [
       "1.0    278\n",
       "4.0     56\n",
       "2.0     31\n",
       "3.0      8\n",
       "5.0      4\n",
       "7.0      1\n",
       "Name: What is the type of farm ownership for a particular cocoa pod producing farm?, dtype: int64"
      ]
     },
     "execution_count": 993,
     "metadata": {},
     "output_type": "execute_result"
    }
   ],
   "source": [
    "ghana_data['What is the type of farm ownership for a particular cocoa pod producing farm?'].value_counts()"
   ]
  },
  {
   "cell_type": "code",
   "execution_count": 994,
   "metadata": {},
   "outputs": [
    {
     "data": {
      "text/plain": [
       "10.0     39\n",
       "15.0     38\n",
       "5.0      24\n",
       "8.0      23\n",
       "12.0     19\n",
       "20.0     18\n",
       "6.0      16\n",
       "7.0      16\n",
       "4.0      15\n",
       "3.0      14\n",
       "9.0      13\n",
       "14.0     13\n",
       "30.0     13\n",
       "2.0      13\n",
       "13.0      8\n",
       "11.0      8\n",
       "18.0      7\n",
       "25.0      6\n",
       "1.0       5\n",
       "16.0      5\n",
       "22.0      5\n",
       "32.0      4\n",
       "45.0      4\n",
       "51.0      3\n",
       "17.0      3\n",
       "27.0      3\n",
       "34.0      2\n",
       "6.5       2\n",
       "21.0      2\n",
       "3.5       2\n",
       "50.0      2\n",
       "23.0      2\n",
       "35.0      2\n",
       "26.0      2\n",
       "37.0      2\n",
       "40.0      2\n",
       "44.0      1\n",
       "47.0      1\n",
       "95.0      1\n",
       "29.0      1\n",
       "28.0      1\n",
       "11.5      1\n",
       "79.0      1\n",
       "57.0      1\n",
       "9.2       1\n",
       "80.0      1\n",
       "36.0      1\n",
       "78.0      1\n",
       "17.5      1\n",
       "90.0      1\n",
       "7.5       1\n",
       "2.5       1\n",
       "1.5       1\n",
       "100.0     1\n",
       "5.8       1\n",
       "4.5       1\n",
       "42.0      1\n",
       "5.2       1\n",
       "19.0      1\n",
       "Name: What is the land area (acres) for a particular cocoa pod producing farm?, dtype: int64"
      ]
     },
     "execution_count": 994,
     "metadata": {},
     "output_type": "execute_result"
    }
   ],
   "source": [
    "ghana_data['What is the land area (acres) for a particular cocoa pod producing farm?'].value_counts()"
   ]
  },
  {
   "cell_type": "code",
   "execution_count": 995,
   "metadata": {},
   "outputs": [
    {
     "data": {
      "text/plain": [
       "100.00      89\n",
       "#NULL!      79\n",
       "90.00       64\n",
       "80.00       41\n",
       "70.00       19\n",
       "50.00       13\n",
       "60.00       11\n",
       "40.00        7\n",
       "85.00        5\n",
       "95.00        4\n",
       "65.00        4\n",
       "98.00        4\n",
       "30.00        3\n",
       "75.00        3\n",
       "99.00        3\n",
       "16.00        2\n",
       "92.00        2\n",
       "52.00        2\n",
       "45.00        2\n",
       "96.00        2\n",
       "97.00        1\n",
       "2,010.00     1\n",
       "18.00        1\n",
       "10.00        1\n",
       "61.00        1\n",
       "72.00        1\n",
       "150.00       1\n",
       "120.00       1\n",
       "12.00        1\n",
       "63.00        1\n",
       "73.00        1\n",
       "4.00         1\n",
       "67.00        1\n",
       "89.00        1\n",
       "20.00        1\n",
       "49.00        1\n",
       "71.00        1\n",
       "82.00        1\n",
       "78.00        1\n",
       "Name: What is the proportion of cocoa (%) for a particular cocoa pod producing farm?, dtype: int64"
      ]
     },
     "execution_count": 995,
     "metadata": {},
     "output_type": "execute_result"
    }
   ],
   "source": [
    "ghana_data['What is the proportion of cocoa (%) for a particular cocoa pod producing farm?'].value_counts()"
   ]
  },
  {
   "cell_type": "code",
   "execution_count": 996,
   "metadata": {},
   "outputs": [
    {
     "data": {
      "text/plain": [
       "#NULL!      35\n",
       "2,005.00    31\n",
       "1,995.00    27\n",
       "2,000.00    25\n",
       "2,015.00    19\n",
       "            ..\n",
       "6.00         1\n",
       "14.00        1\n",
       "4.00         1\n",
       "1,950.00     1\n",
       "200.00       1\n",
       "Name: What is the year of cocoa tree planting for a particular cocoa pod producing farm?, Length: 68, dtype: int64"
      ]
     },
     "execution_count": 996,
     "metadata": {},
     "output_type": "execute_result"
    }
   ],
   "source": [
    "ghana_data['What is the year of cocoa tree planting for a particular cocoa pod producing farm?'].value_counts()"
   ]
  },
  {
   "cell_type": "code",
   "execution_count": 997,
   "metadata": {},
   "outputs": [
    {
     "data": {
      "text/plain": [
       "#NULL!      167\n",
       "2,015.00    113\n",
       "2,014.00     35\n",
       "2,011.00     17\n",
       "2,013.00     16\n",
       "2,012.00      7\n",
       "2,009.00      5\n",
       "2,010.00      4\n",
       "2,000.00      3\n",
       "2,001.00      2\n",
       "2,005.00      2\n",
       "2,006.00      1\n",
       "201.00        1\n",
       "2,002.00      1\n",
       "1,013.00      1\n",
       "1,975.00      1\n",
       "1,995.00      1\n",
       "105.00        1\n",
       "Name: What is the year of cocoa tree rehabilitation for a particular cocoa pod producing farm?, dtype: int64"
      ]
     },
     "execution_count": 997,
     "metadata": {},
     "output_type": "execute_result"
    }
   ],
   "source": [
    "ghana_data['What is the year of cocoa tree rehabilitation for a particular cocoa pod producing farm?'].value_counts()"
   ]
  },
  {
   "cell_type": "code",
   "execution_count": 998,
   "metadata": {},
   "outputs": [
    {
     "data": {
      "text/plain": [
       "1            43\n",
       "2            22\n",
       "3            21\n",
       "1MILE        15\n",
       "2MILES       14\n",
       "             ..\n",
       "9KM           1\n",
       "100METERS     1\n",
       "500METERS     1\n",
       "2.5           1\n",
       " 0.5miles     1\n",
       "Name: What is the distance to the village (miles) for a particular cocoa pod producing farm?, Length: 72, dtype: int64"
      ]
     },
     "execution_count": 998,
     "metadata": {},
     "output_type": "execute_result"
    }
   ],
   "source": [
    "ghana_data['What is the distance to the village (miles) for a particular cocoa pod producing farm?'].value_counts()"
   ]
  },
  {
   "cell_type": "code",
   "execution_count": 999,
   "metadata": {},
   "outputs": [
    {
     "data": {
      "text/plain": [
       "#NULL!    82\n",
       "100       25\n",
       "500       24\n",
       "1,000     22\n",
       "200       20\n",
       "          ..\n",
       "420        1\n",
       "455        1\n",
       "70         1\n",
       "520        1\n",
       "2          1\n",
       "Name: Estimate of labour inputs (Amount Spent) - Hired labor, Length: 63, dtype: int64"
      ]
     },
     "execution_count": 999,
     "metadata": {},
     "output_type": "execute_result"
    }
   ],
   "source": [
    "ghana_data['Estimate of labour inputs (Amount Spent) - Hired labor'].value_counts()"
   ]
  },
  {
   "cell_type": "code",
   "execution_count": 1000,
   "metadata": {},
   "outputs": [
    {
     "data": {
      "text/plain": [
       "#NULL!    218\n",
       "500        15\n",
       "150        15\n",
       "100        14\n",
       "50         14\n",
       "200        13\n",
       "300        13\n",
       "250         8\n",
       "1,000       6\n",
       "60          5\n",
       "80          5\n",
       "600         4\n",
       "1,500       4\n",
       "400         3\n",
       "3,000       3\n",
       "350         3\n",
       "30          2\n",
       "260         2\n",
       "40          2\n",
       "10          2\n",
       "120         2\n",
       "700         2\n",
       "234         1\n",
       "647         1\n",
       "55          1\n",
       "550         1\n",
       "90          1\n",
       "115         1\n",
       "20          1\n",
       "800         1\n",
       "1           1\n",
       "128         1\n",
       "140         1\n",
       "320         1\n",
       "2,300       1\n",
       "2,500       1\n",
       "1,800       1\n",
       "1,100       1\n",
       "110         1\n",
       "15          1\n",
       "265         1\n",
       "2,000       1\n",
       "3,600       1\n",
       "6,000       1\n",
       "432         1\n",
       "Name: Estimate of labour inputs (Amount Spent) - Family labor, dtype: int64"
      ]
     },
     "execution_count": 1000,
     "metadata": {},
     "output_type": "execute_result"
    }
   ],
   "source": [
    "ghana_data['Estimate of labour inputs (Amount Spent) - Family labor'].value_counts()"
   ]
  },
  {
   "cell_type": "code",
   "execution_count": 1001,
   "metadata": {},
   "outputs": [
    {
     "data": {
      "text/plain": [
       "#NULL!    151\n",
       "2.00       84\n",
       "1.00       68\n",
       "3.00       38\n",
       "4.00       18\n",
       "5.00        7\n",
       "6.00        6\n",
       "10.00       2\n",
       "330.00      1\n",
       "12.00       1\n",
       "7.00        1\n",
       "9.00        1\n",
       "Name: How many hoes were used on your cocoa farm(s)?, dtype: int64"
      ]
     },
     "execution_count": 1001,
     "metadata": {},
     "output_type": "execute_result"
    }
   ],
   "source": [
    "ghana_data['How many hoes were used on your cocoa farm(s)?'].value_counts()"
   ]
  },
  {
   "cell_type": "code",
   "execution_count": 1002,
   "metadata": {},
   "outputs": [
    {
     "data": {
      "text/plain": [
       "#NULL!    149\n",
       "10.00      59\n",
       "20.00      36\n",
       "30.00      19\n",
       "15.00      18\n",
       "5.00       16\n",
       "60.00       9\n",
       "24.00       6\n",
       "50.00       6\n",
       "40.00       5\n",
       "8.00        4\n",
       "7.00        4\n",
       "36.00       4\n",
       "16.00       3\n",
       "2.00        3\n",
       "25.00       3\n",
       "1.00        3\n",
       "75.00       2\n",
       "3.00        2\n",
       "4.00        2\n",
       "18.00       2\n",
       "6.00        2\n",
       "400.00      2\n",
       "22.00       2\n",
       "45.00       2\n",
       "13.00       2\n",
       "32.00       2\n",
       "345.00      1\n",
       "460.00      1\n",
       "125.00      1\n",
       "80.00       1\n",
       "90.00       1\n",
       "12.00       1\n",
       "55.00       1\n",
       "26.00       1\n",
       "68.00       1\n",
       "42.00       1\n",
       "95.00       1\n",
       "Name: What is the estimated value of hoes used on your cocoa farm(s)?, dtype: int64"
      ]
     },
     "execution_count": 1002,
     "metadata": {},
     "output_type": "execute_result"
    }
   ],
   "source": [
    "ghana_data['What is the estimated value of hoes used on your cocoa farm(s)?'].value_counts()"
   ]
  },
  {
   "cell_type": "code",
   "execution_count": 1003,
   "metadata": {},
   "outputs": [
    {
     "data": {
      "text/plain": [
       "3.00      99\n",
       "2.00      77\n",
       "1.00      45\n",
       "4.00      43\n",
       "5.00      33\n",
       "#NULL!    20\n",
       "6.00      13\n",
       "10.00     11\n",
       "7.00       9\n",
       "15.00      6\n",
       "20.00      6\n",
       "8.00       5\n",
       "30.00      2\n",
       "12.00      2\n",
       "9.00       1\n",
       "13.00      1\n",
       "21.00      1\n",
       "424.00     1\n",
       "550.00     1\n",
       "154.00     1\n",
       "11.00      1\n",
       "Name: How many machetes were used on your cocoa farm(s)?, dtype: int64"
      ]
     },
     "execution_count": 1003,
     "metadata": {},
     "output_type": "execute_result"
    }
   ],
   "source": [
    "ghana_data['How many machetes were used on your cocoa farm(s)?'].value_counts()"
   ]
  },
  {
   "cell_type": "code",
   "execution_count": 1004,
   "metadata": {},
   "outputs": [
    {
     "data": {
      "text/plain": [
       "60.00     38\n",
       "20.00     35\n",
       "45.00     33\n",
       "#NULL!    30\n",
       "30.00     28\n",
       "          ..\n",
       "160.00     1\n",
       "360.00     1\n",
       "900.00     1\n",
       "72.00      1\n",
       "205.00     1\n",
       "Name: What is the estimated value of machetes used on your cocoa farm(s)?, Length: 69, dtype: int64"
      ]
     },
     "execution_count": 1004,
     "metadata": {},
     "output_type": "execute_result"
    }
   ],
   "source": [
    "ghana_data['What is the estimated value of machetes used on your cocoa farm(s)?'].value_counts()"
   ]
  },
  {
   "cell_type": "code",
   "execution_count": 1005,
   "metadata": {},
   "outputs": [
    {
     "data": {
      "text/plain": [
       "10.00     47\n",
       "4.00      44\n",
       "3.00      40\n",
       "5.00      36\n",
       "#NULL!    34\n",
       "6.00      31\n",
       "2.00      30\n",
       "15.00     21\n",
       "7.00      18\n",
       "12.00     16\n",
       "8.00      14\n",
       "1.00      13\n",
       "20.00      8\n",
       "9.00       7\n",
       "11.00      3\n",
       "23.00      3\n",
       "50.00      3\n",
       "45.00      3\n",
       "75.00      2\n",
       "130.00     1\n",
       "18.00      1\n",
       "30.00      1\n",
       "32.00      1\n",
       "16.00      1\n",
       "Name: How many baskets were used on your cocoa farm(s)?, dtype: int64"
      ]
     },
     "execution_count": 1005,
     "metadata": {},
     "output_type": "execute_result"
    }
   ],
   "source": [
    "ghana_data['How many baskets were used on your cocoa farm(s)?'].value_counts()"
   ]
  },
  {
   "cell_type": "code",
   "execution_count": 1006,
   "metadata": {},
   "outputs": [
    {
     "data": {
      "text/plain": [
       "#NULL!    44\n",
       "40.00     26\n",
       "20.00     24\n",
       "50.00     23\n",
       "30.00     20\n",
       "          ..\n",
       "750.00     1\n",
       "600.00     1\n",
       "42.00      1\n",
       "350.00     1\n",
       "245.00     1\n",
       "Name: What is the estimated value of baskets used on your cocoa farm(s)?, Length: 68, dtype: int64"
      ]
     },
     "execution_count": 1006,
     "metadata": {},
     "output_type": "execute_result"
    }
   ],
   "source": [
    "ghana_data['What is the estimated value of baskets used on your cocoa farm(s)?'].value_counts()"
   ]
  },
  {
   "cell_type": "code",
   "execution_count": 1007,
   "metadata": {},
   "outputs": [
    {
     "data": {
      "text/plain": [
       "1.00      134\n",
       "#NULL!    127\n",
       "2.00       74\n",
       "3.00       22\n",
       "4.00        4\n",
       "30.00       4\n",
       "5.00        3\n",
       "70.00       2\n",
       "7.00        2\n",
       "80.00       1\n",
       "20.00       1\n",
       "6.00        1\n",
       "11.00       1\n",
       "60.00       1\n",
       "12.00       1\n",
       "Name: How many sprayers were used on your cocoa farm(s)?, dtype: int64"
      ]
     },
     "execution_count": 1007,
     "metadata": {},
     "output_type": "execute_result"
    }
   ],
   "source": [
    "ghana_data['How many sprayers were used on your cocoa farm(s)?'].value_counts()"
   ]
  },
  {
   "cell_type": "code",
   "execution_count": 1008,
   "metadata": {},
   "outputs": [
    {
     "data": {
      "text/plain": [
       "#NULL!      134\n",
       "100.00       22\n",
       "50.00        21\n",
       "150.00       17\n",
       "120.00       13\n",
       "           ... \n",
       "55.00         1\n",
       "60.00         1\n",
       "176.00        1\n",
       "2,000.00      1\n",
       "2,400.00      1\n",
       "Name: What is the estimated value of sprayers used on your cocoa farm(s)?, Length: 73, dtype: int64"
      ]
     },
     "execution_count": 1008,
     "metadata": {},
     "output_type": "execute_result"
    }
   ],
   "source": [
    "ghana_data['What is the estimated value of sprayers used on your cocoa farm(s)?'].value_counts()"
   ]
  },
  {
   "cell_type": "code",
   "execution_count": 1009,
   "metadata": {},
   "outputs": [
    {
     "data": {
      "text/plain": [
       "#NULL!      147\n",
       "1.00         59\n",
       "2.00         55\n",
       "3.00         42\n",
       "4.00         37\n",
       "5.00         14\n",
       "6.00          4\n",
       "100.00        3\n",
       "8.00          3\n",
       "7.00          2\n",
       "10.00         2\n",
       "21.00         1\n",
       "1,200.00      1\n",
       "120.00        1\n",
       "18.00         1\n",
       "11.00         1\n",
       "15.00         1\n",
       "12.00         1\n",
       "9.00          1\n",
       "600.00        1\n",
       "13.00         1\n",
       "Name: How many spreading mats were used on your cocoa farm(s)?, dtype: int64"
      ]
     },
     "execution_count": 1009,
     "metadata": {},
     "output_type": "execute_result"
    }
   ],
   "source": [
    "ghana_data['How many spreading mats were used on your cocoa farm(s)?'].value_counts()"
   ]
  },
  {
   "cell_type": "code",
   "execution_count": 1010,
   "metadata": {},
   "outputs": [
    {
     "data": {
      "text/plain": [
       "#NULL!      151\n",
       "300.00       28\n",
       "200.00       26\n",
       "600.00       23\n",
       "100.00       23\n",
       "450.00       20\n",
       "150.00       16\n",
       "400.00       10\n",
       "500.00        6\n",
       "1,000.00      5\n",
       "1.00          5\n",
       "750.00        4\n",
       "120.00        4\n",
       "2.00          4\n",
       "1,200.00      3\n",
       "260.00        3\n",
       "20.00         3\n",
       "250.00        3\n",
       "360.00        2\n",
       "140.00        2\n",
       "240.00        2\n",
       "420.00        2\n",
       "650.00        2\n",
       "1,800.00      2\n",
       "700.00        2\n",
       "25.00         2\n",
       "30.00         2\n",
       "130.00        2\n",
       "480.00        2\n",
       "800.00        1\n",
       "320.00        1\n",
       "80.00         1\n",
       "24.00         1\n",
       "180.00        1\n",
       "900.00        1\n",
       "550.00        1\n",
       "42.00         1\n",
       "1,050.00      1\n",
       "1,650.00      1\n",
       "2,700.00      1\n",
       "1,500.00      1\n",
       "160.00        1\n",
       "2,000.00      1\n",
       "840.00        1\n",
       "350.00        1\n",
       "40.00         1\n",
       "10.00         1\n",
       "1,025.00      1\n",
       "Name: What is the estimated value of spraying mats used on your cocoa farm(s)?, dtype: int64"
      ]
     },
     "execution_count": 1010,
     "metadata": {},
     "output_type": "execute_result"
    }
   ],
   "source": [
    "ghana_data['What is the estimated value of spraying mats used on your cocoa farm(s)?'].value_counts()"
   ]
  },
  {
   "cell_type": "code",
   "execution_count": 1011,
   "metadata": {},
   "outputs": [
    {
     "data": {
      "text/plain": [
       "#NULL!    356\n",
       "1.00        7\n",
       "200.00      4\n",
       "2.00        4\n",
       "300.00      2\n",
       "10.00       1\n",
       "60.00       1\n",
       "35.00       1\n",
       "9.00        1\n",
       "4.00        1\n",
       "Name: How many irrigation pumps were used on your cocoa farm(s)?, dtype: int64"
      ]
     },
     "execution_count": 1011,
     "metadata": {},
     "output_type": "execute_result"
    }
   ],
   "source": [
    "ghana_data['How many irrigation pumps were used on your cocoa farm(s)?'].value_counts()"
   ]
  },
  {
   "cell_type": "code",
   "execution_count": 1012,
   "metadata": {},
   "outputs": [
    {
     "data": {
      "text/plain": [
       "#NULL!      357\n",
       "2.00          3\n",
       "35.00         2\n",
       "3.00          2\n",
       "1.00          2\n",
       "100.00        1\n",
       "500.00        1\n",
       "1,000.00      1\n",
       "1,100.00      1\n",
       "800.00        1\n",
       "260.00        1\n",
       "1,400.00      1\n",
       "600.00        1\n",
       "700.00        1\n",
       "20.00         1\n",
       "300.00        1\n",
       "4.00          1\n",
       "Name: What is the estimated value of irrigation pumps used on your cocoa farm(s)?, dtype: int64"
      ]
     },
     "execution_count": 1012,
     "metadata": {},
     "output_type": "execute_result"
    }
   ],
   "source": [
    "ghana_data['What is the estimated value of irrigation pumps used on your cocoa farm(s)?'].value_counts()"
   ]
  },
  {
   "cell_type": "code",
   "execution_count": 1013,
   "metadata": {},
   "outputs": [
    {
     "data": {
      "text/plain": [
       "#NULL!    157\n",
       "1.00       77\n",
       "2.00       70\n",
       "3.00       44\n",
       "4.00       12\n",
       "5.00        4\n",
       "35.00       2\n",
       "15.00       2\n",
       "7.00        2\n",
       "6.00        1\n",
       "12.00       1\n",
       "60.00       1\n",
       "80.00       1\n",
       "10.00       1\n",
       "70.00       1\n",
       "8.00        1\n",
       "20.00       1\n",
       "Name: How many rain boots were used on your cocoa farm(s)?, dtype: int64"
      ]
     },
     "execution_count": 1013,
     "metadata": {},
     "output_type": "execute_result"
    }
   ],
   "source": [
    "ghana_data['How many rain boots were used on your cocoa farm(s)?'].value_counts()"
   ]
  },
  {
   "cell_type": "code",
   "execution_count": 1014,
   "metadata": {},
   "outputs": [
    {
     "data": {
      "text/plain": [
       "#NULL!    167\n",
       "35.00      38\n",
       "70.00      30\n",
       "90.00      19\n",
       "30.00      14\n",
       "60.00      12\n",
       "40.00      10\n",
       "100.00      7\n",
       "20.00       6\n",
       "105.00      6\n",
       "36.00       5\n",
       "2.00        4\n",
       "75.00       4\n",
       "45.00       4\n",
       "15.00       3\n",
       "25.00       3\n",
       "350.00      3\n",
       "160.00      3\n",
       "80.00       3\n",
       "240.00      2\n",
       "500.00      2\n",
       "650.00      2\n",
       "700.00      2\n",
       "120.00      2\n",
       "42.00       2\n",
       "750.00      2\n",
       "17.00       2\n",
       "200.00      2\n",
       "280.00      2\n",
       "12.00       2\n",
       "55.00       2\n",
       "450.00      1\n",
       "76.00       1\n",
       "140.00      1\n",
       "210.00      1\n",
       "18.00       1\n",
       "471.00      1\n",
       "54.00       1\n",
       "10.00       1\n",
       "3.00        1\n",
       "600.00      1\n",
       "50.00       1\n",
       "5.00        1\n",
       "158.00      1\n",
       "Name: What is the estimated value of rain boots used on your cocoa farm(s)?, dtype: int64"
      ]
     },
     "execution_count": 1014,
     "metadata": {},
     "output_type": "execute_result"
    }
   ],
   "source": [
    "ghana_data['What is the estimated value of rain boots used on your cocoa farm(s)?'].value_counts()"
   ]
  },
  {
   "cell_type": "code",
   "execution_count": 1015,
   "metadata": {},
   "outputs": [
    {
     "data": {
      "text/plain": [
       "asaasewura      33\n",
       "asasewura       23\n",
       "ASAASEWURA      13\n",
       "SIDALCO         13\n",
       "COCOA MASTER    11\n",
       "cocofeed        11\n",
       "Asasewura        9\n",
       "assasewura       6\n",
       "Adwumawura       6\n",
       "Asaasewura       5\n",
       "COCOFEED         5\n",
       "kokofeed         5\n",
       "confidor         5\n",
       "cocomaster       4\n",
       "cocolead         3\n",
       "cocofed          3\n",
       "agricult         3\n",
       "asesewura        3\n",
       "sidalco          3\n",
       "Asasawura        2\n",
       "glyphosphate     2\n",
       "COCOA FERT       2\n",
       "LIQUID           2\n",
       "ammonia          1\n",
       "cocafeed         1\n",
       "Cocofeed         1\n",
       "sarosate         1\n",
       "Agricult         1\n",
       "mpk_1919         1\n",
       "sidfalco         1\n",
       "asaaseewura      1\n",
       "cocoamaster      1\n",
       "Sunphrate        1\n",
       "LITHORITE        1\n",
       "supergro         1\n",
       "NPK              1\n",
       "AGYENKWA         1\n",
       "AGRICULT         1\n",
       "CHAMPION         1\n",
       "COCOA FEED       1\n",
       "asaewura         1\n",
       "Name: What type of fertilizers were used on your cocoa farm(s) during last season?, dtype: int64"
      ]
     },
     "execution_count": 1015,
     "metadata": {},
     "output_type": "execute_result"
    }
   ],
   "source": [
    "ghana_data['What type of fertilizers were used on your cocoa farm(s) during last season?'].value_counts()"
   ]
  },
  {
   "cell_type": "code",
   "execution_count": 1016,
   "metadata": {},
   "outputs": [
    {
     "data": {
      "text/plain": [
       "#NULL!    193\n",
       "30.00      19\n",
       "15.00      15\n",
       "12.00      15\n",
       "20.00      15\n",
       "25.00      10\n",
       "40.00       9\n",
       "3.00        9\n",
       "1.00        8\n",
       "2.00        8\n",
       "6.00        7\n",
       "9.00        7\n",
       "8.00        7\n",
       "5.00        7\n",
       "18.00       6\n",
       "7.00        5\n",
       "4.00        3\n",
       "10.00       3\n",
       "24.00       2\n",
       "21.00       2\n",
       "60.00       2\n",
       "27.00       2\n",
       "13.00       2\n",
       "35.00       2\n",
       "45.00       2\n",
       "80.00       2\n",
       "36.00       2\n",
       "28.00       2\n",
       "73.00       1\n",
       "50.00       1\n",
       "11.00       1\n",
       "16.00       1\n",
       "17.00       1\n",
       "14.00       1\n",
       "32.00       1\n",
       "23.00       1\n",
       "22.00       1\n",
       "26.00       1\n",
       "42.00       1\n",
       "41.00       1\n",
       "Name: What was the quantity of fertilizer used on your cocoa farm(s) during last season?, dtype: int64"
      ]
     },
     "execution_count": 1016,
     "metadata": {},
     "output_type": "execute_result"
    }
   ],
   "source": [
    "ghana_data['What was the quantity of fertilizer used on your cocoa farm(s) during last season?'].value_counts()"
   ]
  },
  {
   "cell_type": "code",
   "execution_count": 1017,
   "metadata": {},
   "outputs": [
    {
     "data": {
      "text/plain": [
       "#NULL!      280\n",
       "2,500.00      5\n",
       "4,000.00      5\n",
       "75.00         5\n",
       "1,500.00      5\n",
       "25.00         4\n",
       "2,000.00      4\n",
       "40.00         4\n",
       "45.00         3\n",
       "50.00         3\n",
       "2,200.00      3\n",
       "3,000.00      2\n",
       "84.00         2\n",
       "750.00        2\n",
       "160.00        2\n",
       "200.00        2\n",
       "8,000.00      2\n",
       "144.00        2\n",
       "2,100.00      2\n",
       "720.00        2\n",
       "1,800.00      2\n",
       "60.00         2\n",
       "35.00         1\n",
       "400.00        1\n",
       "600.00        1\n",
       "3.00          1\n",
       "365.00        1\n",
       "715.00        1\n",
       "1,650.00      1\n",
       "3,290.00      1\n",
       "1,600.00      1\n",
       "4,500.00      1\n",
       "355.00        1\n",
       "8,502.00      1\n",
       "7,000.00      1\n",
       "500.00        1\n",
       "1,485.00      1\n",
       "100.00        1\n",
       "700.00        1\n",
       "3,100.00      1\n",
       "85.00         1\n",
       "120.00        1\n",
       "136.00        1\n",
       "240.00        1\n",
       "80.00         1\n",
       "396.00        1\n",
       "2,190.00      1\n",
       "1,200.00      1\n",
       "150.00        1\n",
       "250.00        1\n",
       "90.00         1\n",
       "300.00        1\n",
       "420.00        1\n",
       "630.00        1\n",
       "770.00        1\n",
       "70.00         1\n",
       "1,375.00      1\n",
       "Name: What was the cost of fertilizer used on your cocoa farm(s) during last season?, dtype: int64"
      ]
     },
     "execution_count": 1017,
     "metadata": {},
     "output_type": "execute_result"
    }
   ],
   "source": [
    "ghana_data['What was the cost of fertilizer used on your cocoa farm(s) during last season?'].value_counts()"
   ]
  },
  {
   "cell_type": "code",
   "execution_count": 1018,
   "metadata": {},
   "outputs": [
    {
     "data": {
      "text/plain": [
       "#NULL!    235\n",
       "1.00       81\n",
       "2.00       62\n",
       "Name: Did you have adequate fertilizer in supply or not?, dtype: int64"
      ]
     },
     "execution_count": 1018,
     "metadata": {},
     "output_type": "execute_result"
    }
   ],
   "source": [
    "ghana_data['Did you have adequate fertilizer in supply or not?'].value_counts()"
   ]
  },
  {
   "cell_type": "code",
   "execution_count": 1019,
   "metadata": {},
   "outputs": [
    {
     "data": {
      "text/plain": [
       "suniphosate       23\n",
       "sunphosate        17\n",
       "SUNPHOSATE        12\n",
       "sarosate           8\n",
       "sanfosate          6\n",
       "ADWUMAWURA         4\n",
       "glyphosphate       4\n",
       "confidor           4\n",
       "sinophosate        4\n",
       "adwumawura         4\n",
       "Sanfosate          4\n",
       "power              3\n",
       "suniphosphate      3\n",
       "glyphosate         3\n",
       "adumwura           3\n",
       "roundup            3\n",
       "Glyphosate         2\n",
       "akate master       2\n",
       "Sunsophate         2\n",
       "round_up           2\n",
       "adwumara           2\n",
       "Suniphosate        2\n",
       "sanfosat           2\n",
       "GLYPHOSATE         2\n",
       "adumawura          2\n",
       "Glyphoshate        2\n",
       "Glyphosphate       2\n",
       "POWER              2\n",
       "suniphhosphate     2\n",
       "akete master       1\n",
       "CONDEMN            1\n",
       "AKUAFO ADANFO      1\n",
       "GRAMAZONE          1\n",
       "MIXED              1\n",
       "Suphosate          1\n",
       "WINNER             1\n",
       "Awurasuro          1\n",
       "ACETOSTA           1\n",
       "muup               1\n",
       "wilmar             1\n",
       "Sisophosate        1\n",
       "Akate master       1\n",
       "Name: What types of herbicide were used on your cocoa farm during last season?, dtype: int64"
      ]
     },
     "execution_count": 1019,
     "metadata": {},
     "output_type": "execute_result"
    }
   ],
   "source": [
    "ghana_data['What types of herbicide were used on your cocoa farm during last season?'].value_counts()"
   ]
  },
  {
   "cell_type": "code",
   "execution_count": 1020,
   "metadata": {},
   "outputs": [
    {
     "data": {
      "text/plain": [
       "#NULL!    234\n",
       "12.00      38\n",
       "1.00       18\n",
       "4.00       13\n",
       "3.00       10\n",
       "2.00       10\n",
       "5.00        9\n",
       "36.00       6\n",
       "6.00        6\n",
       "10.00       6\n",
       "15.00       5\n",
       "24.00       4\n",
       "9.00        4\n",
       "30.00       2\n",
       "55.00       2\n",
       "14.00       2\n",
       "7.00        1\n",
       "8.00        1\n",
       "20.00       1\n",
       "16.00       1\n",
       "40.00       1\n",
       "124.00      1\n",
       "60.00       1\n",
       "1.50        1\n",
       "13.00       1\n",
       "Name: What was the quantity of herbicide used on your cocoa farm during last season?, dtype: int64"
      ]
     },
     "execution_count": 1020,
     "metadata": {},
     "output_type": "execute_result"
    }
   ],
   "source": [
    "ghana_data['What was the quantity of herbicide used on your cocoa farm during last season?'].value_counts()"
   ]
  },
  {
   "cell_type": "code",
   "execution_count": 1021,
   "metadata": {},
   "outputs": [
    {
     "data": {
      "text/plain": [
       "#NULL!    243\n",
       "144.00     22\n",
       "150.00      7\n",
       "450.00      6\n",
       "156.00      6\n",
       "         ... \n",
       "384.00      1\n",
       "75.00       1\n",
       "180.00      1\n",
       "90.00       1\n",
       "342.00      1\n",
       "Name: What was the cost of herbicide used on your cocoa farm(s) during last season?, Length: 64, dtype: int64"
      ]
     },
     "execution_count": 1021,
     "metadata": {},
     "output_type": "execute_result"
    }
   ],
   "source": [
    "ghana_data['What was the cost of herbicide used on your cocoa farm(s) during last season?'].value_counts()"
   ]
  },
  {
   "cell_type": "code",
   "execution_count": 1022,
   "metadata": {},
   "outputs": [
    {
     "data": {
      "text/plain": [
       "#NULL!    246\n",
       "1.00       85\n",
       "2.00       47\n",
       "Name: Did you have adequate herbicide in supply or not?, dtype: int64"
      ]
     },
     "execution_count": 1022,
     "metadata": {},
     "output_type": "execute_result"
    }
   ],
   "source": [
    "ghana_data['Did you have adequate herbicide in supply or not?'].value_counts()"
   ]
  },
  {
   "cell_type": "code",
   "execution_count": 1023,
   "metadata": {},
   "outputs": [
    {
     "data": {
      "text/plain": [
       "CONFIDOR        65\n",
       "confidor        25\n",
       "Akatimaster      6\n",
       "akatimaster      3\n",
       "glyphosate       2\n",
       "suniphosate      2\n",
       "adwumawura       2\n",
       "sinphosate       2\n",
       "Akatemaster      1\n",
       "1                1\n",
       "sidalco          1\n",
       "Adumawura        1\n",
       "Actara           1\n",
       "Confidor         1\n",
       "akate master     1\n",
       "Name: What types of germicide were used on your cocoa farm during last season?, dtype: int64"
      ]
     },
     "execution_count": 1023,
     "metadata": {},
     "output_type": "execute_result"
    }
   ],
   "source": [
    "ghana_data['What types of germicide were used on your cocoa farm during last season?'].value_counts()"
   ]
  },
  {
   "cell_type": "code",
   "execution_count": 1024,
   "metadata": {},
   "outputs": [
    {
     "data": {
      "text/plain": [
       "#NULL!    268\n",
       "3.00       17\n",
       "2.00       16\n",
       "1.00       15\n",
       "6.00       15\n",
       "4.00       14\n",
       "5.00        9\n",
       "12.00       8\n",
       "8.00        4\n",
       "10.00       4\n",
       "7.00        2\n",
       "36.00       2\n",
       "16.00       1\n",
       "15.00       1\n",
       "24.00       1\n",
       "9.00        1\n",
       "Name: What was the quantity of germicides used on your cocoa farm(s) during last season?, dtype: int64"
      ]
     },
     "execution_count": 1024,
     "metadata": {},
     "output_type": "execute_result"
    }
   ],
   "source": [
    "ghana_data['What was the quantity of germicides used on your cocoa farm(s) during last season?'].value_counts()"
   ]
  },
  {
   "cell_type": "code",
   "execution_count": 1025,
   "metadata": {},
   "outputs": [
    {
     "data": {
      "text/plain": [
       "#NULL!      283\n",
       "240.00        8\n",
       "300.00        5\n",
       "140.00        5\n",
       "150.00        4\n",
       "180.00        4\n",
       "60.00         3\n",
       "120.00        3\n",
       "360.00        3\n",
       "50.00         3\n",
       "35.00         3\n",
       "168.00        3\n",
       "80.00         3\n",
       "100.00        3\n",
       "480.00        3\n",
       "210.00        3\n",
       "280.00        3\n",
       "400.00        2\n",
       "56.00         2\n",
       "144.00        2\n",
       "7,501.00      2\n",
       "225.00        2\n",
       "250.00        2\n",
       "138.00        1\n",
       "45.00         1\n",
       "220.00        1\n",
       "205.00        1\n",
       "40.00         1\n",
       "25.00         1\n",
       "105.00        1\n",
       "260.00        1\n",
       "350.00        1\n",
       "90.00         1\n",
       "720.00        1\n",
       "420.00        1\n",
       "800.00        1\n",
       "160.00        1\n",
       "1,200.00      1\n",
       "200.00        1\n",
       "195.00        1\n",
       "14.00         1\n",
       "96.00         1\n",
       "84.00         1\n",
       "75.00         1\n",
       "70.00         1\n",
       "320.00        1\n",
       "440.00        1\n",
       "Name: What was the cost of germicides used on your cocoa farm(s) during last season?, dtype: int64"
      ]
     },
     "execution_count": 1025,
     "metadata": {},
     "output_type": "execute_result"
    }
   ],
   "source": [
    "ghana_data['What was the cost of germicides used on your cocoa farm(s) during last season?'].value_counts()"
   ]
  },
  {
   "cell_type": "code",
   "execution_count": 1026,
   "metadata": {},
   "outputs": [
    {
     "data": {
      "text/plain": [
       "#NULL!    281\n",
       "1.00       67\n",
       "2.00       29\n",
       "4.00        1\n",
       "Name: Did you have adequate germicide in supply or not?, dtype: int64"
      ]
     },
     "execution_count": 1026,
     "metadata": {},
     "output_type": "execute_result"
    }
   ],
   "source": [
    "ghana_data['Did you have adequate germicide in supply or not?'].value_counts()"
   ]
  },
  {
   "cell_type": "code",
   "execution_count": 1027,
   "metadata": {},
   "outputs": [
    {
     "data": {
      "text/plain": [
       "confidor                    135\n",
       "AKATE MASTER                 44\n",
       "Akatemaster                  12\n",
       "akate master                  8\n",
       "AKATE SURO                    8\n",
       "Akatimaster                   6\n",
       "sidalco                       3\n",
       "confidor and akatemaster      3\n",
       "AkateMaster                   2\n",
       "akatemaster                   2\n",
       "akatimaster                   2\n",
       "confidore                     2\n",
       "asasewura                     2\n",
       "ACETER STAR                   2\n",
       "AKATESURO                     1\n",
       "confodor                      1\n",
       "acetasta                      1\n",
       "onfidor                       1\n",
       "Acestostar                    1\n",
       "Acetasta                      1\n",
       "coco master                   1\n",
       "bufalo                        1\n",
       "Name: What types of pesticides were used on your cocoa farm(s) during last season?, dtype: int64"
      ]
     },
     "execution_count": 1027,
     "metadata": {},
     "output_type": "execute_result"
    }
   ],
   "source": [
    "ghana_data['What types of pesticides were used on your cocoa farm(s) during last season?'].value_counts()"
   ]
  },
  {
   "cell_type": "code",
   "execution_count": 1028,
   "metadata": {},
   "outputs": [
    {
     "data": {
      "text/plain": [
       "#NULL!      147\n",
       "2.00         43\n",
       "4.00         41\n",
       "6.00         31\n",
       "3.00         29\n",
       "5.00         20\n",
       "1.00         15\n",
       "8.00         10\n",
       "12.00         9\n",
       "10.00         9\n",
       "15.00         3\n",
       "7.00          2\n",
       "32.00         2\n",
       "40.00         2\n",
       "42.00         2\n",
       "34.00         2\n",
       "30.00         2\n",
       "80.00         1\n",
       "160.00        1\n",
       "60.00         1\n",
       "45.00         1\n",
       "19.00         1\n",
       "1,247.00      1\n",
       "36.00         1\n",
       "50.00         1\n",
       "9.00          1\n",
       "Name: What was the quantity of pesticide used on your cocoa farm(s) during last season?, dtype: int64"
      ]
     },
     "execution_count": 1028,
     "metadata": {},
     "output_type": "execute_result"
    }
   ],
   "source": [
    "ghana_data['What was the quantity of pesticide used on your cocoa farm(s) during last season?'].value_counts()"
   ]
  },
  {
   "cell_type": "code",
   "execution_count": 1029,
   "metadata": {},
   "outputs": [
    {
     "data": {
      "text/plain": [
       "#NULL!      166\n",
       "120.00       17\n",
       "100.00       16\n",
       "80.00        14\n",
       "180.00       11\n",
       "240.00        9\n",
       "300.00        9\n",
       "600.00        8\n",
       "40.00         7\n",
       "200.00        7\n",
       "35.00         7\n",
       "160.00        7\n",
       "360.00        5\n",
       "280.00        5\n",
       "320.00        5\n",
       "250.00        5\n",
       "70.00         5\n",
       "25.00         5\n",
       "50.00         4\n",
       "60.00         4\n",
       "480.00        4\n",
       "350.00        3\n",
       "700.00        3\n",
       "20.00         3\n",
       "96.00         3\n",
       "400.00        2\n",
       "150.00        2\n",
       "24.00         2\n",
       "900.00        2\n",
       "130.00        2\n",
       "140.00        2\n",
       "1,700.00      2\n",
       "175.00        2\n",
       "42.00         2\n",
       "86.00         2\n",
       "84.00         2\n",
       "105.00        2\n",
       "145.00        2\n",
       "500.00        1\n",
       "135.00        1\n",
       "90.00         1\n",
       "370.00        1\n",
       "380.00        1\n",
       "210.00        1\n",
       "125.00        1\n",
       "2.00          1\n",
       "665.00        1\n",
       "108.00        1\n",
       "840.00        1\n",
       "2,160.00      1\n",
       "3.00          1\n",
       "420.00        1\n",
       "75.00         1\n",
       "1,260.00      1\n",
       "12.00         1\n",
       "168.00        1\n",
       "800.00        1\n",
       "960.00        1\n",
       "Name: What was the cost of pesticides used on your cocoa farm(s) during last season?, dtype: int64"
      ]
     },
     "execution_count": 1029,
     "metadata": {},
     "output_type": "execute_result"
    }
   ],
   "source": [
    "ghana_data['What was the cost of pesticides used on your cocoa farm(s) during last season?'].value_counts()"
   ]
  },
  {
   "cell_type": "code",
   "execution_count": 1030,
   "metadata": {},
   "outputs": [
    {
     "data": {
      "text/plain": [
       "#NULL!    189\n",
       "1.00      102\n",
       "2.00       87\n",
       "Name: Did you have adequate pesticide in supply or not?, dtype: int64"
      ]
     },
     "execution_count": 1030,
     "metadata": {},
     "output_type": "execute_result"
    }
   ],
   "source": [
    "ghana_data['Did you have adequate pesticide in supply or not?'].value_counts()"
   ]
  },
  {
   "cell_type": "code",
   "execution_count": 1031,
   "metadata": {},
   "outputs": [
    {
     "data": {
      "text/plain": [
       "confidor       17\n",
       "akatemaster     3\n",
       "ANSASA STAR     2\n",
       "Akatemaster     2\n",
       "Akatimaster     2\n",
       "akatimaster     2\n",
       "BUFALO          1\n",
       "ASITA           1\n",
       "FUNGICIDE       1\n",
       "confidoer       1\n",
       "akatemster      1\n",
       "Name: What other chemicals were used on your cocoa farm(s) during last season?, dtype: int64"
      ]
     },
     "execution_count": 1031,
     "metadata": {},
     "output_type": "execute_result"
    }
   ],
   "source": [
    "ghana_data['What other chemicals were used on your cocoa farm(s) during last season?'].value_counts()"
   ]
  },
  {
   "cell_type": "code",
   "execution_count": 1032,
   "metadata": {},
   "outputs": [
    {
     "data": {
      "text/plain": [
       "#NULL!    345\n",
       "2.00        8\n",
       "12.00       4\n",
       "3.00        3\n",
       "10.00       3\n",
       "8.00        2\n",
       "6.00        2\n",
       "0.50        2\n",
       "4.00        2\n",
       "24.00       2\n",
       "1.00        2\n",
       "22.00       1\n",
       "20.00       1\n",
       "42.00       1\n",
       "Name: What was the quantity of other chemicals used on your cocoa farm(s) during last season?, dtype: int64"
      ]
     },
     "execution_count": 1032,
     "metadata": {},
     "output_type": "execute_result"
    }
   ],
   "source": [
    "ghana_data['What was the quantity of other chemicals used on your cocoa farm(s) during last season?'].value_counts()"
   ]
  },
  {
   "cell_type": "code",
   "execution_count": 1033,
   "metadata": {},
   "outputs": [
    {
     "data": {
      "text/plain": [
       "#NULL!    347\n",
       "50.00       4\n",
       "480.00      3\n",
       "400.00      2\n",
       "240.00      2\n",
       "300.00      2\n",
       "30.00       2\n",
       "64.00       2\n",
       "55.00       2\n",
       "120.00      2\n",
       "135.00      1\n",
       "380.00      1\n",
       "840.00      1\n",
       "216.00      1\n",
       "80.00       1\n",
       "160.00      1\n",
       "990.00      1\n",
       "25.00       1\n",
       "180.00      1\n",
       "280.00      1\n",
       "Name: What was the cost of quantity used for other chemicals used on your cocoa farm(s) during last season?, dtype: int64"
      ]
     },
     "execution_count": 1033,
     "metadata": {},
     "output_type": "execute_result"
    }
   ],
   "source": [
    "ghana_data['What was the cost of quantity used for other chemicals used on your cocoa farm(s) during last season?'].value_counts()"
   ]
  },
  {
   "cell_type": "code",
   "execution_count": 1034,
   "metadata": {},
   "outputs": [
    {
     "data": {
      "text/plain": [
       "#NULL!      73\n",
       "2.00        26\n",
       "1.00        21\n",
       "4.00        17\n",
       "3.00        17\n",
       "            ..\n",
       "28.00        1\n",
       "1,792.00     1\n",
       "2,560.00     1\n",
       "36.00        1\n",
       "26.00        1\n",
       "Name: Estimate of dried cocoa beans output during January-March 2014 - Dried beans (kg), Length: 86, dtype: int64"
      ]
     },
     "execution_count": 1034,
     "metadata": {},
     "output_type": "execute_result"
    }
   ],
   "source": [
    "ghana_data['Estimate of dried cocoa beans output during January-March 2014 - Dried beans (kg)'].value_counts()"
   ]
  },
  {
   "cell_type": "code",
   "execution_count": 1035,
   "metadata": {},
   "outputs": [
    {
     "data": {
      "text/plain": [
       "#NULL!    83\n",
       "350       47\n",
       "700       15\n",
       "430       10\n",
       "1,400     10\n",
       "          ..\n",
       "10,320     1\n",
       "140        1\n",
       "5,200      1\n",
       "2,112      1\n",
       "520        1\n",
       "Name: Estimate of dried cocoa beans output during January-March 2014 - Amount (GC), Length: 108, dtype: int64"
      ]
     },
     "execution_count": 1035,
     "metadata": {},
     "output_type": "execute_result"
    }
   ],
   "source": [
    "ghana_data['Estimate of dried cocoa beans output during January-March 2014 - Amount (GC)'].value_counts()"
   ]
  },
  {
   "cell_type": "code",
   "execution_count": 1036,
   "metadata": {},
   "outputs": [
    {
     "data": {
      "text/plain": [
       "#NULL!    280\n",
       "1          11\n",
       "64         10\n",
       "100         9\n",
       "20          9\n",
       "3           9\n",
       "5           7\n",
       "6           6\n",
       "200         4\n",
       "50          4\n",
       "2           3\n",
       "4           3\n",
       "400         3\n",
       "15          3\n",
       "300         2\n",
       "8           2\n",
       "18          2\n",
       "21          2\n",
       "10          1\n",
       "7           1\n",
       "128         1\n",
       "108         1\n",
       "250         1\n",
       "32          1\n",
       "4,200       1\n",
       "1,000       1\n",
       "12          1\n",
       "Name: Estimate of dried cocoa beans output during January-March 2014 - Losses to Black pod (kg), dtype: int64"
      ]
     },
     "execution_count": 1036,
     "metadata": {},
     "output_type": "execute_result"
    }
   ],
   "source": [
    "ghana_data['Estimate of dried cocoa beans output during January-March 2014 - Losses to Black pod (kg)'].value_counts()"
   ]
  },
  {
   "cell_type": "code",
   "execution_count": 1037,
   "metadata": {},
   "outputs": [
    {
     "data": {
      "text/plain": [
       "#NULL!      284\n",
       "350.00       29\n",
       "100.00        9\n",
       "25.00         5\n",
       "175.00        5\n",
       "1,050.00      5\n",
       "700.00        5\n",
       "18.00         5\n",
       "1,400.00      4\n",
       "300.00        4\n",
       "70.00         2\n",
       "110.00        2\n",
       "630.00        2\n",
       "15.00         2\n",
       "6.00          2\n",
       "24.00         2\n",
       "3,500.00      2\n",
       "3.39          1\n",
       "105.00        1\n",
       "750.00        1\n",
       "150.00        1\n",
       "2,400.00      1\n",
       "420.00        1\n",
       "3,225.00      1\n",
       "5.00          1\n",
       "2,100.00      1\n",
       "Name: Estimate of dried cocoa beans output during January-March 2014 - Estimated value (GC), dtype: int64"
      ]
     },
     "execution_count": 1037,
     "metadata": {},
     "output_type": "execute_result"
    }
   ],
   "source": [
    "ghana_data['Estimate of dried cocoa beans output during January-March 2014 - Estimated value (GC)'].value_counts()"
   ]
  },
  {
   "cell_type": "code",
   "execution_count": 1038,
   "metadata": {},
   "outputs": [
    {
     "data": {
      "text/plain": [
       "#NULL!    340\n",
       "50          7\n",
       "100         6\n",
       "1           6\n",
       "2           4\n",
       "25          3\n",
       "30          2\n",
       "4           2\n",
       "150         1\n",
       "200         1\n",
       "3           1\n",
       "32          1\n",
       "10          1\n",
       "5           1\n",
       "20          1\n",
       "350         1\n",
       "Name: Estimate of dried cocoa beans output during January-March 2014 - Losses to Rodents (kg), dtype: int64"
      ]
     },
     "execution_count": 1038,
     "metadata": {},
     "output_type": "execute_result"
    }
   ],
   "source": [
    "ghana_data['Estimate of dried cocoa beans output during January-March 2014 - Losses to Rodents (kg)'].value_counts()"
   ]
  },
  {
   "cell_type": "code",
   "execution_count": 1039,
   "metadata": {},
   "outputs": [
    {
     "data": {
      "text/plain": [
       "#NULL!      284\n",
       "350.00       29\n",
       "100.00        9\n",
       "25.00         5\n",
       "175.00        5\n",
       "1,050.00      5\n",
       "700.00        5\n",
       "18.00         5\n",
       "1,400.00      4\n",
       "300.00        4\n",
       "70.00         2\n",
       "110.00        2\n",
       "630.00        2\n",
       "15.00         2\n",
       "6.00          2\n",
       "24.00         2\n",
       "3,500.00      2\n",
       "3.39          1\n",
       "105.00        1\n",
       "750.00        1\n",
       "150.00        1\n",
       "2,400.00      1\n",
       "420.00        1\n",
       "3,225.00      1\n",
       "5.00          1\n",
       "2,100.00      1\n",
       "Name: Estimate of dried cocoa beans output during January-March 2014 - Estimated value (GC), dtype: int64"
      ]
     },
     "execution_count": 1039,
     "metadata": {},
     "output_type": "execute_result"
    }
   ],
   "source": [
    "ghana_data['Estimate of dried cocoa beans output during January-March 2014 - Estimated value (GC)'].value_counts()"
   ]
  },
  {
   "cell_type": "code",
   "execution_count": 1040,
   "metadata": {},
   "outputs": [
    {
     "data": {
      "text/plain": [
       "#NULL!    161\n",
       "2.00       15\n",
       "64.00      13\n",
       "5.00       11\n",
       "6.00        9\n",
       "         ... \n",
       "28.00       1\n",
       "600.00      1\n",
       "80.00       1\n",
       "78.00       1\n",
       "400.00      1\n",
       "Name: Estimate of dried cocoa beans output during April-June 2014 - Dried beans (kg), Length: 75, dtype: int64"
      ]
     },
     "execution_count": 1040,
     "metadata": {},
     "output_type": "execute_result"
    }
   ],
   "source": [
    "ghana_data['Estimate of dried cocoa beans output during April-June 2014 - Dried beans (kg)'].value_counts()"
   ]
  },
  {
   "cell_type": "code",
   "execution_count": 1041,
   "metadata": {},
   "outputs": [
    {
     "data": {
      "text/plain": [
       "#NULL!       166\n",
       "350.00        18\n",
       "700.00        12\n",
       "2,135.00       7\n",
       "2,100.00       6\n",
       "            ... \n",
       "8.00           1\n",
       "64.00          1\n",
       "25,800.00      1\n",
       "1,760.00       1\n",
       "3,200.00       1\n",
       "Name: Estimate of dried cocoa beans output during April-June 2014 - Amount (GC), Length: 104, dtype: int64"
      ]
     },
     "execution_count": 1041,
     "metadata": {},
     "output_type": "execute_result"
    }
   ],
   "source": [
    "ghana_data['Estimate of dried cocoa beans output during April-June 2014 - Amount (GC)'].value_counts()"
   ]
  },
  {
   "cell_type": "code",
   "execution_count": 1042,
   "metadata": {},
   "outputs": [
    {
     "data": {
      "text/plain": [
       "#NULL!      326\n",
       "64.00         8\n",
       "20.00         7\n",
       "8.00          7\n",
       "5.00          5\n",
       "15.00         4\n",
       "1.00          3\n",
       "3.00          3\n",
       "22.00         2\n",
       "2.00          2\n",
       "1,000.00      2\n",
       "100.00        2\n",
       "30.00         1\n",
       "400.00        1\n",
       "500.00        1\n",
       "128.00        1\n",
       "350.00        1\n",
       "1,720.00      1\n",
       "448.00        1\n",
       "Name: Estimate of dried cocoa beans output during April-June 2014 - Losses to Black pod (kg), dtype: int64"
      ]
     },
     "execution_count": 1042,
     "metadata": {},
     "output_type": "execute_result"
    }
   ],
   "source": [
    "ghana_data['Estimate of dried cocoa beans output during April-June 2014 - Losses to Black pod (kg)'].value_counts()"
   ]
  },
  {
   "cell_type": "code",
   "execution_count": 1043,
   "metadata": {},
   "outputs": [
    {
     "data": {
      "text/plain": [
       "#NULL!      328\n",
       "350.00       13\n",
       "100.00        7\n",
       "24.00         5\n",
       "25.00         5\n",
       "70.00         2\n",
       "60.00         2\n",
       "9.00          2\n",
       "30.00         2\n",
       "120.00        2\n",
       "625.00        1\n",
       "64.00         1\n",
       "750.00        1\n",
       "700.00        1\n",
       "101.76        1\n",
       "50.00         1\n",
       "3.39          1\n",
       "356.00        1\n",
       "150.00        1\n",
       "2,464.00      1\n",
       "Name: Estimate of dried cocoa beans output during April-June 2014 - Estimated value (GC), dtype: int64"
      ]
     },
     "execution_count": 1043,
     "metadata": {},
     "output_type": "execute_result"
    }
   ],
   "source": [
    "ghana_data['Estimate of dried cocoa beans output during April-June 2014 - Estimated value (GC)'].value_counts()"
   ]
  },
  {
   "cell_type": "code",
   "execution_count": 1044,
   "metadata": {},
   "outputs": [
    {
     "data": {
      "text/plain": [
       "#NULL!    369\n",
       "5.00        2\n",
       "20.00       2\n",
       "15.00       1\n",
       "1.00        1\n",
       "32.00       1\n",
       "350.00      1\n",
       "10.00       1\n",
       "Name: Estimate of dried cocoa beans output during April-June 2014 - Losses to Rodents (kg), dtype: int64"
      ]
     },
     "execution_count": 1044,
     "metadata": {},
     "output_type": "execute_result"
    }
   ],
   "source": [
    "ghana_data['Estimate of dried cocoa beans output during April-June 2014 - Losses to Rodents (kg)'].value_counts()"
   ]
  },
  {
   "cell_type": "code",
   "execution_count": 1045,
   "metadata": {},
   "outputs": [
    {
     "data": {
      "text/plain": [
       "#NULL!      328\n",
       "350.00       13\n",
       "100.00        7\n",
       "24.00         5\n",
       "25.00         5\n",
       "70.00         2\n",
       "60.00         2\n",
       "9.00          2\n",
       "30.00         2\n",
       "120.00        2\n",
       "625.00        1\n",
       "64.00         1\n",
       "750.00        1\n",
       "700.00        1\n",
       "101.76        1\n",
       "50.00         1\n",
       "3.39          1\n",
       "356.00        1\n",
       "150.00        1\n",
       "2,464.00      1\n",
       "Name: Estimate of dried cocoa beans output during April-June 2014 - Estimated value (GC), dtype: int64"
      ]
     },
     "execution_count": 1045,
     "metadata": {},
     "output_type": "execute_result"
    }
   ],
   "source": [
    "ghana_data['Estimate of dried cocoa beans output during April-June 2014 - Estimated value (GC)'].value_counts()"
   ]
  },
  {
   "cell_type": "code",
   "execution_count": 1046,
   "metadata": {},
   "outputs": [
    {
     "data": {
      "text/plain": [
       "#NULL!      239\n",
       "4.00         14\n",
       "10.00        13\n",
       "5.00         11\n",
       "3.00         11\n",
       "1.00          9\n",
       "6.00          6\n",
       "195.00        5\n",
       "64.00         5\n",
       "2.00          4\n",
       "32.00         4\n",
       "300.00        3\n",
       "192.00        3\n",
       "11.00         3\n",
       "8.00          2\n",
       "600.00        2\n",
       "211.00        2\n",
       "15.00         2\n",
       "12.00         2\n",
       "320.00        2\n",
       "200.00        2\n",
       "130.00        2\n",
       "520.00        2\n",
       "611.00        2\n",
       "234.00        2\n",
       "146.00        1\n",
       "106.00        1\n",
       "390.00        1\n",
       "1,600.00      1\n",
       "585.00        1\n",
       "187.00        1\n",
       "325.00        1\n",
       "145.00        1\n",
       "175.00        1\n",
       "384.00        1\n",
       "2.50          1\n",
       "540.00        1\n",
       "136.00        1\n",
       "140.00        1\n",
       "65.00         1\n",
       "900.00        1\n",
       "34.00         1\n",
       "168.00        1\n",
       "52.00         1\n",
       "380.00        1\n",
       "9,000.00      1\n",
       "100.00        1\n",
       "312.50        1\n",
       "210.00        1\n",
       "1,500.00      1\n",
       "9.00          1\n",
       "Name: Estimate of dried cocoa beans output during July-Sept 2014 - Dried beans (kg), dtype: int64"
      ]
     },
     "execution_count": 1046,
     "metadata": {},
     "output_type": "execute_result"
    }
   ],
   "source": [
    "ghana_data['Estimate of dried cocoa beans output during July-Sept 2014 - Dried beans (kg)'].value_counts()"
   ]
  },
  {
   "cell_type": "code",
   "execution_count": 1047,
   "metadata": {},
   "outputs": [
    {
     "data": {
      "text/plain": [
       "#NULL!       243\n",
       "645.00         9\n",
       "350.00         9\n",
       "3,500.00       9\n",
       "2,100.00       8\n",
       "            ... \n",
       "784.80         1\n",
       "1,181.60       1\n",
       "761.60         1\n",
       "11,000.00      1\n",
       "1,935.00       1\n",
       "Name: Estimate of dried cocoa beans output during July-Sept 2014 - Amount (GC), Length: 65, dtype: int64"
      ]
     },
     "execution_count": 1047,
     "metadata": {},
     "output_type": "execute_result"
    }
   ],
   "source": [
    "ghana_data['Estimate of dried cocoa beans output during July-Sept 2014 - Amount (GC)'].value_counts()"
   ]
  },
  {
   "cell_type": "code",
   "execution_count": 1048,
   "metadata": {},
   "outputs": [
    {
     "data": {
      "text/plain": [
       "#NULL!      343\n",
       "20.00        12\n",
       "64.00         5\n",
       "5.00          4\n",
       "1.00          3\n",
       "100.00        2\n",
       "15.00         2\n",
       "10.00         2\n",
       "3,000.00      1\n",
       "32.00         1\n",
       "700.00        1\n",
       "430.00        1\n",
       "3.00          1\n",
       "Name: Estimate of dried cocoa beans output during July-Sept 2014 - Losses to Black pod (kg), dtype: int64"
      ]
     },
     "execution_count": 1048,
     "metadata": {},
     "output_type": "execute_result"
    }
   ],
   "source": [
    "ghana_data['Estimate of dried cocoa beans output during July-Sept 2014 - Losses to Black pod (kg)'].value_counts()"
   ]
  },
  {
   "cell_type": "code",
   "execution_count": 1049,
   "metadata": {},
   "outputs": [
    {
     "data": {
      "text/plain": [
       "#NULL!    347\n",
       "100.00     11\n",
       "350.00      6\n",
       "25.00       3\n",
       "60.00       2\n",
       "50.00       2\n",
       "925.00      1\n",
       "3.39        1\n",
       "175.00      1\n",
       "90.00       1\n",
       "860.00      1\n",
       "10.00       1\n",
       "64.00       1\n",
       "Name: Estimate of dried cocoa beans output during July-Sept 2014 - Estimated value (GC), dtype: int64"
      ]
     },
     "execution_count": 1049,
     "metadata": {},
     "output_type": "execute_result"
    }
   ],
   "source": [
    "ghana_data['Estimate of dried cocoa beans output during July-Sept 2014 - Estimated value (GC)'].value_counts()"
   ]
  },
  {
   "cell_type": "code",
   "execution_count": 1050,
   "metadata": {},
   "outputs": [
    {
     "data": {
      "text/plain": [
       "#NULL!    371\n",
       "3.00        1\n",
       "30.00       1\n",
       "1.00        1\n",
       "32.00       1\n",
       "504.00      1\n",
       "35.00       1\n",
       "20.00       1\n",
       "Name: Estimate of dried cocoa beans output during July-Sept 2014 - Losses to Rodents (kg), dtype: int64"
      ]
     },
     "execution_count": 1050,
     "metadata": {},
     "output_type": "execute_result"
    }
   ],
   "source": [
    "ghana_data['Estimate of dried cocoa beans output during July-Sept 2014 - Losses to Rodents (kg)'].value_counts()"
   ]
  },
  {
   "cell_type": "code",
   "execution_count": 1051,
   "metadata": {},
   "outputs": [
    {
     "data": {
      "text/plain": [
       "#NULL!    347\n",
       "100.00     11\n",
       "350.00      6\n",
       "25.00       3\n",
       "60.00       2\n",
       "50.00       2\n",
       "925.00      1\n",
       "3.39        1\n",
       "175.00      1\n",
       "90.00       1\n",
       "860.00      1\n",
       "10.00       1\n",
       "64.00       1\n",
       "Name: Estimate of dried cocoa beans output during July-Sept 2014 - Estimated value (GC), dtype: int64"
      ]
     },
     "execution_count": 1051,
     "metadata": {},
     "output_type": "execute_result"
    }
   ],
   "source": [
    "ghana_data['Estimate of dried cocoa beans output during July-Sept 2014 - Estimated value (GC)'].value_counts()"
   ]
  },
  {
   "cell_type": "code",
   "execution_count": 1052,
   "metadata": {},
   "outputs": [
    {
     "data": {
      "text/plain": [
       "#NULL!      201\n",
       "10.00        17\n",
       "4.00         10\n",
       "20.00         8\n",
       "2,500.00      5\n",
       "           ... \n",
       "448.00        1\n",
       "1,280.00      1\n",
       "32.00         1\n",
       "502.00        1\n",
       "384.00        1\n",
       "Name: Estimate of dried cocoa beans output during Oct-Dec 2014 - Dried beans (kg), Length: 95, dtype: int64"
      ]
     },
     "execution_count": 1052,
     "metadata": {},
     "output_type": "execute_result"
    }
   ],
   "source": [
    "ghana_data['Estimate of dried cocoa beans output during Oct-Dec 2014 - Dried beans (kg)'].value_counts()"
   ]
  },
  {
   "cell_type": "code",
   "execution_count": 1053,
   "metadata": {},
   "outputs": [
    {
     "data": {
      "text/plain": [
       "#NULL!      208\n",
       "3,500.00     14\n",
       "1,400.00     12\n",
       "350.00        8\n",
       "5,250.00      7\n",
       "           ... \n",
       "5,720.00      1\n",
       "6,000.00      1\n",
       "4,928.00      1\n",
       "3,872.00      1\n",
       "2,112.00      1\n",
       "Name: Estimate of dried cocoa beans output during Oct-Dec 2014 - Amount (GC), Length: 86, dtype: int64"
      ]
     },
     "execution_count": 1053,
     "metadata": {},
     "output_type": "execute_result"
    }
   ],
   "source": [
    "ghana_data['Estimate of dried cocoa beans output during Oct-Dec 2014 - Amount (GC)'].value_counts()"
   ]
  },
  {
   "cell_type": "code",
   "execution_count": 1054,
   "metadata": {},
   "outputs": [
    {
     "data": {
      "text/plain": [
       "#NULL!      327\n",
       "10.00         9\n",
       "20.00         9\n",
       "64.00         6\n",
       "5.00          4\n",
       "1.00          3\n",
       "200.00        2\n",
       "88.00         2\n",
       "8.00          2\n",
       "19.00         2\n",
       "15.00         2\n",
       "7,700.00      1\n",
       "18.00         1\n",
       "700.00        1\n",
       "350.00        1\n",
       "30.00         1\n",
       "1,075.00      1\n",
       "0.50          1\n",
       "100.00        1\n",
       "21.00         1\n",
       "50.00         1\n",
       "Name: Estimate of dried cocoa beans output during Oct-Dec 2014 - Losses to Black pod (kg), dtype: int64"
      ]
     },
     "execution_count": 1054,
     "metadata": {},
     "output_type": "execute_result"
    }
   ],
   "source": [
    "ghana_data['Estimate of dried cocoa beans output during Oct-Dec 2014 - Losses to Black pod (kg)'].value_counts()"
   ]
  },
  {
   "cell_type": "code",
   "execution_count": 1055,
   "metadata": {},
   "outputs": [
    {
     "data": {
      "text/plain": [
       "#NULL!      329\n",
       "100.00        9\n",
       "350.00        8\n",
       "30.00         5\n",
       "60.00         4\n",
       "50.00         4\n",
       "25.00         3\n",
       "24.00         2\n",
       "264.00        2\n",
       "700.00        2\n",
       "64.00         1\n",
       "168.00        1\n",
       "3.39          1\n",
       "750.00        1\n",
       "35.00         1\n",
       "2.00          1\n",
       "45.00         1\n",
       "6,300.00      1\n",
       "280.00        1\n",
       "28.00         1\n",
       "Name: Estimate of dried cocoa beans output during Oct-Dec 2014 - Estimated value (GC), dtype: int64"
      ]
     },
     "execution_count": 1055,
     "metadata": {},
     "output_type": "execute_result"
    }
   ],
   "source": [
    "ghana_data['Estimate of dried cocoa beans output during Oct-Dec 2014 - Estimated value (GC)'].value_counts()"
   ]
  },
  {
   "cell_type": "code",
   "execution_count": 1056,
   "metadata": {},
   "outputs": [
    {
     "data": {
      "text/plain": [
       "#NULL!    362\n",
       "7.00        4\n",
       "20.00       2\n",
       "30.00       1\n",
       "25.00       1\n",
       "1.00        1\n",
       "32.00       1\n",
       "192.00      1\n",
       "700.00      1\n",
       "252.00      1\n",
       "4.00        1\n",
       "38.00       1\n",
       "5.00        1\n",
       "Name: Estimate of dried cocoa beans output during Oct-Dec 2014 - Losses to Rodents (kg), dtype: int64"
      ]
     },
     "execution_count": 1056,
     "metadata": {},
     "output_type": "execute_result"
    }
   ],
   "source": [
    "ghana_data['Estimate of dried cocoa beans output during Oct-Dec 2014 - Losses to Rodents (kg)'].value_counts()"
   ]
  },
  {
   "cell_type": "code",
   "execution_count": 1057,
   "metadata": {},
   "outputs": [
    {
     "data": {
      "text/plain": [
       "#NULL!      329\n",
       "100.00        9\n",
       "350.00        8\n",
       "30.00         5\n",
       "60.00         4\n",
       "50.00         4\n",
       "25.00         3\n",
       "24.00         2\n",
       "264.00        2\n",
       "700.00        2\n",
       "64.00         1\n",
       "168.00        1\n",
       "3.39          1\n",
       "750.00        1\n",
       "35.00         1\n",
       "2.00          1\n",
       "45.00         1\n",
       "6,300.00      1\n",
       "280.00        1\n",
       "28.00         1\n",
       "Name: Estimate of dried cocoa beans output during Oct-Dec 2014 - Estimated value (GC), dtype: int64"
      ]
     },
     "execution_count": 1057,
     "metadata": {},
     "output_type": "execute_result"
    }
   ],
   "source": [
    "ghana_data['Estimate of dried cocoa beans output during Oct-Dec 2014 - Estimated value (GC)'].value_counts()"
   ]
  },
  {
   "cell_type": "code",
   "execution_count": 1058,
   "metadata": {},
   "outputs": [
    {
     "data": {
      "text/plain": [
       "1.00      270\n",
       "#NULL!     84\n",
       "2.00       24\n",
       "Name: Have you noticed some changes in climate or weather parameters in this village?, dtype: int64"
      ]
     },
     "execution_count": 1058,
     "metadata": {},
     "output_type": "execute_result"
    }
   ],
   "source": [
    "ghana_data['Have you noticed some changes in climate or weather parameters in this village?'].value_counts()"
   ]
  },
  {
   "cell_type": "code",
   "execution_count": 1059,
   "metadata": {},
   "outputs": [
    {
     "data": {
      "text/plain": [
       "1.0    275\n",
       "2.0    103\n",
       "Name: Did you notice extremely high temperatures last year?, dtype: int64"
      ]
     },
     "execution_count": 1059,
     "metadata": {},
     "output_type": "execute_result"
    }
   ],
   "source": [
    "ghana_data['Did you notice extremely high temperatures last year?'].value_counts()"
   ]
  },
  {
   "cell_type": "code",
   "execution_count": 1060,
   "metadata": {},
   "outputs": [
    {
     "data": {
      "text/plain": [
       "1.0    243\n",
       "2.0    133\n",
       "3.0      2\n",
       "Name: Did you notice extremely high temperatures this year?, dtype: int64"
      ]
     },
     "execution_count": 1060,
     "metadata": {},
     "output_type": "execute_result"
    }
   ],
   "source": [
    "ghana_data['Did you notice extremely high temperatures this year?'].value_counts()"
   ]
  },
  {
   "cell_type": "code",
   "execution_count": 1061,
   "metadata": {},
   "outputs": [
    {
     "data": {
      "text/plain": [
       "#NULL!    127\n",
       "1.00      117\n",
       "3.00       93\n",
       "2.00       41\n",
       "Name: Have you noticed an upward, downward or similar trend in terms of extremely high temperatures?, dtype: int64"
      ]
     },
     "execution_count": 1061,
     "metadata": {},
     "output_type": "execute_result"
    }
   ],
   "source": [
    "ghana_data['Have you noticed an upward, downward or similar trend in terms of extremely high temperatures?'].value_counts()"
   ]
  },
  {
   "cell_type": "code",
   "execution_count": 1062,
   "metadata": {},
   "outputs": [
    {
     "data": {
      "text/plain": [
       "1.00      181\n",
       "2.00      139\n",
       "#NULL!     58\n",
       "Name: Did you notice extremely low temperatures last year?, dtype: int64"
      ]
     },
     "execution_count": 1062,
     "metadata": {},
     "output_type": "execute_result"
    }
   ],
   "source": [
    "ghana_data['Did you notice extremely low temperatures last year?'].value_counts()"
   ]
  },
  {
   "cell_type": "code",
   "execution_count": 1063,
   "metadata": {},
   "outputs": [
    {
     "data": {
      "text/plain": [
       "1.00      174\n",
       "2.00      137\n",
       "#NULL!     67\n",
       "Name: Did you notice extremely low temperatures this year?, dtype: int64"
      ]
     },
     "execution_count": 1063,
     "metadata": {},
     "output_type": "execute_result"
    }
   ],
   "source": [
    "ghana_data['Did you notice extremely low temperatures this year?'].value_counts()"
   ]
  },
  {
   "cell_type": "code",
   "execution_count": 1064,
   "metadata": {},
   "outputs": [
    {
     "data": {
      "text/plain": [
       "#NULL!    141\n",
       "1.00      123\n",
       "3.00       81\n",
       "2.00       33\n",
       "Name: Have you noticed an upward, downward or similar trend in terms of extremely low temperatures?, dtype: int64"
      ]
     },
     "execution_count": 1064,
     "metadata": {},
     "output_type": "execute_result"
    }
   ],
   "source": [
    "ghana_data['Have you noticed an upward, downward or similar trend in terms of extremely low temperatures?'].value_counts()"
   ]
  },
  {
   "cell_type": "code",
   "execution_count": 1065,
   "metadata": {},
   "outputs": [
    {
     "data": {
      "text/plain": [
       "1.00      206\n",
       "2.00      115\n",
       "#NULL!     56\n",
       "3.00        1\n",
       "Name: Did you notice too much rainfall last year?, dtype: int64"
      ]
     },
     "execution_count": 1065,
     "metadata": {},
     "output_type": "execute_result"
    }
   ],
   "source": [
    "ghana_data['Did you notice too much rainfall last year?'].value_counts()"
   ]
  },
  {
   "cell_type": "code",
   "execution_count": 1066,
   "metadata": {},
   "outputs": [
    {
     "data": {
      "text/plain": [
       "1.00      234\n",
       "2.00       87\n",
       "#NULL!     57\n",
       "Name: Did you notice too much rainfall this year?, dtype: int64"
      ]
     },
     "execution_count": 1066,
     "metadata": {},
     "output_type": "execute_result"
    }
   ],
   "source": [
    "ghana_data['Did you notice too much rainfall this year?'].value_counts()"
   ]
  },
  {
   "cell_type": "code",
   "execution_count": 1067,
   "metadata": {},
   "outputs": [
    {
     "data": {
      "text/plain": [
       "#NULL!    135\n",
       "1.00      105\n",
       "3.00       87\n",
       "2.00       51\n",
       "Name: Have you noticed an upward, downward or similar trend in terms of too much rainfall?, dtype: int64"
      ]
     },
     "execution_count": 1067,
     "metadata": {},
     "output_type": "execute_result"
    }
   ],
   "source": [
    "ghana_data['Have you noticed an upward, downward or similar trend in terms of too much rainfall?'].value_counts()"
   ]
  },
  {
   "cell_type": "code",
   "execution_count": 1068,
   "metadata": {},
   "outputs": [
    {
     "data": {
      "text/plain": [
       "1.00      203\n",
       "2.00      120\n",
       "#NULL!     55\n",
       "Name: Did you notice too low rainfall last year?, dtype: int64"
      ]
     },
     "execution_count": 1068,
     "metadata": {},
     "output_type": "execute_result"
    }
   ],
   "source": [
    "ghana_data['Did you notice too low rainfall last year?'].value_counts()"
   ]
  },
  {
   "cell_type": "code",
   "execution_count": 1069,
   "metadata": {},
   "outputs": [
    {
     "data": {
      "text/plain": [
       "1.00      180\n",
       "2.00      136\n",
       "#NULL!     62\n",
       "Name: Did you notice too low rainfall this year?, dtype: int64"
      ]
     },
     "execution_count": 1069,
     "metadata": {},
     "output_type": "execute_result"
    }
   ],
   "source": [
    "ghana_data['Did you notice too low rainfall this year?'].value_counts()"
   ]
  },
  {
   "cell_type": "code",
   "execution_count": 1070,
   "metadata": {},
   "outputs": [
    {
     "data": {
      "text/plain": [
       "#NULL!    139\n",
       "3.00      101\n",
       "1.00       88\n",
       "2.00       50\n",
       "Name: Have you noticed an upward, downward or similar trend in terms of too low rainfall?, dtype: int64"
      ]
     },
     "execution_count": 1070,
     "metadata": {},
     "output_type": "execute_result"
    }
   ],
   "source": [
    "ghana_data['Have you noticed an upward, downward or similar trend in terms of too low rainfall?'].value_counts()"
   ]
  },
  {
   "cell_type": "code",
   "execution_count": 1071,
   "metadata": {},
   "outputs": [
    {
     "data": {
      "text/plain": [
       "1.00      230\n",
       "2.00       93\n",
       "#NULL!     55\n",
       "Name: Did you notice a delay in rainfall commencement last year?, dtype: int64"
      ]
     },
     "execution_count": 1071,
     "metadata": {},
     "output_type": "execute_result"
    }
   ],
   "source": [
    "ghana_data['Did you notice a delay in rainfall commencement last year?'].value_counts()"
   ]
  },
  {
   "cell_type": "code",
   "execution_count": 1072,
   "metadata": {},
   "outputs": [
    {
     "data": {
      "text/plain": [
       "1.00      197\n",
       "2.00      125\n",
       "#NULL!     56\n",
       "Name: Did you notice a delay in rainfall commencement this year?, dtype: int64"
      ]
     },
     "execution_count": 1072,
     "metadata": {},
     "output_type": "execute_result"
    }
   ],
   "source": [
    "ghana_data['Did you notice a delay in rainfall commencement this year?'].value_counts()"
   ]
  },
  {
   "cell_type": "code",
   "execution_count": 1073,
   "metadata": {},
   "outputs": [
    {
     "data": {
      "text/plain": [
       "#NULL!    135\n",
       "3.00      102\n",
       "1.00       97\n",
       "2.00       44\n",
       "Name: Have you noticed an upward, downward or similar trend in terms of rainfall commencement?, dtype: int64"
      ]
     },
     "execution_count": 1073,
     "metadata": {},
     "output_type": "execute_result"
    }
   ],
   "source": [
    "ghana_data['Have you noticed an upward, downward or similar trend in terms of rainfall commencement?'].value_counts()"
   ]
  },
  {
   "cell_type": "code",
   "execution_count": 1074,
   "metadata": {},
   "outputs": [
    {
     "data": {
      "text/plain": [
       "1         172\n",
       "2         142\n",
       "#NULL!     64\n",
       "Name: Did you notice a delay in rainfall stopping last year?, dtype: int64"
      ]
     },
     "execution_count": 1074,
     "metadata": {},
     "output_type": "execute_result"
    }
   ],
   "source": [
    "ghana_data['Did you notice a delay in rainfall stopping last year?'].value_counts()"
   ]
  },
  {
   "cell_type": "code",
   "execution_count": 1075,
   "metadata": {},
   "outputs": [
    {
     "data": {
      "text/plain": [
       "1         163\n",
       "2         138\n",
       "#NULL!     77\n",
       "Name: Did you notice a delay in rainfall stopping this year?, dtype: int64"
      ]
     },
     "execution_count": 1075,
     "metadata": {},
     "output_type": "execute_result"
    }
   ],
   "source": [
    "ghana_data['Did you notice a delay in rainfall stopping this year?'].value_counts()"
   ]
  },
  {
   "cell_type": "code",
   "execution_count": 1076,
   "metadata": {},
   "outputs": [
    {
     "data": {
      "text/plain": [
       "#NULL!    145\n",
       "3         116\n",
       "1          85\n",
       "2          32\n",
       "Name: Have you noticed an upward, downward or similar trend in terms of rainfall stopping?, dtype: int64"
      ]
     },
     "execution_count": 1076,
     "metadata": {},
     "output_type": "execute_result"
    }
   ],
   "source": [
    "ghana_data['Have you noticed an upward, downward or similar trend in terms of rainfall stopping?'].value_counts()"
   ]
  },
  {
   "cell_type": "code",
   "execution_count": 1077,
   "metadata": {},
   "outputs": [
    {
     "data": {
      "text/plain": [
       "1         223\n",
       "2         105\n",
       "#NULL!     49\n",
       "22          1\n",
       "Name: Did you notice too stormy rainfall last year?, dtype: int64"
      ]
     },
     "execution_count": 1077,
     "metadata": {},
     "output_type": "execute_result"
    }
   ],
   "source": [
    "ghana_data['Did you notice too stormy rainfall last year?'].value_counts()"
   ]
  },
  {
   "cell_type": "code",
   "execution_count": 1078,
   "metadata": {},
   "outputs": [
    {
     "data": {
      "text/plain": [
       "1         243\n",
       "2          82\n",
       "#NULL!     53\n",
       "Name: Did you notice too stormy rainfall this year?, dtype: int64"
      ]
     },
     "execution_count": 1078,
     "metadata": {},
     "output_type": "execute_result"
    }
   ],
   "source": [
    "ghana_data['Did you notice too stormy rainfall this year?'].value_counts()"
   ]
  },
  {
   "cell_type": "code",
   "execution_count": 1079,
   "metadata": {},
   "outputs": [
    {
     "data": {
      "text/plain": [
       "#NULL!    126\n",
       "3         113\n",
       "1         102\n",
       "2          37\n",
       "Name: Have you noticed an upward, downward or similar trend in terms of too stormy rainfall?, dtype: int64"
      ]
     },
     "execution_count": 1079,
     "metadata": {},
     "output_type": "execute_result"
    }
   ],
   "source": [
    "ghana_data['Have you noticed an upward, downward or similar trend in terms of too stormy rainfall?'].value_counts()"
   ]
  },
  {
   "cell_type": "code",
   "execution_count": 1080,
   "metadata": {},
   "outputs": [
    {
     "data": {
      "text/plain": [
       "1         214\n",
       "2         110\n",
       "#NULL!     53\n",
       "3           1\n",
       "Name: Did you notice thicker cloud covers last year?, dtype: int64"
      ]
     },
     "execution_count": 1080,
     "metadata": {},
     "output_type": "execute_result"
    }
   ],
   "source": [
    "ghana_data['Did you notice thicker cloud covers last year?'].value_counts()"
   ]
  },
  {
   "cell_type": "code",
   "execution_count": 1081,
   "metadata": {},
   "outputs": [
    {
     "data": {
      "text/plain": [
       "1         202\n",
       "2         112\n",
       "#NULL!     64\n",
       "Name: Did you notice thicker cloud covers this year?, dtype: int64"
      ]
     },
     "execution_count": 1081,
     "metadata": {},
     "output_type": "execute_result"
    }
   ],
   "source": [
    "ghana_data['Did you notice thicker cloud covers this year?'].value_counts()"
   ]
  },
  {
   "cell_type": "code",
   "execution_count": 1082,
   "metadata": {},
   "outputs": [
    {
     "data": {
      "text/plain": [
       "#NULL!    131\n",
       "3         128\n",
       "1          85\n",
       "2          34\n",
       "Name: Have you noticed an upward, downward or similar trend in terms of thicker cloud covers?, dtype: int64"
      ]
     },
     "execution_count": 1082,
     "metadata": {},
     "output_type": "execute_result"
    }
   ],
   "source": [
    "ghana_data['Have you noticed an upward, downward or similar trend in terms of thicker cloud covers?'].value_counts()"
   ]
  },
  {
   "cell_type": "code",
   "execution_count": null,
   "metadata": {},
   "outputs": [],
   "source": [
    "ghana_data[\"Do these changes impart negatively on households' health?\"].value_counts()"
   ]
  },
  {
   "cell_type": "code",
   "execution_count": null,
   "metadata": {},
   "outputs": [
    {
     "data": {
      "text/plain": [
       "Malaria                                            38\n",
       "MALARIA                                            33\n",
       "malaria                                            28\n",
       "fever                                               5\n",
       "Malaria and BP                                      5\n",
       "headache                                            3\n",
       "waist pain                                          2\n",
       "MALARIA, HEADACHE                                   2\n",
       "MAARIA, WAIST PAINS                                 1\n",
       "blackpod                                            1\n",
       "headach                                             1\n",
       "cholera                                             1\n",
       "malaeria                                            1\n",
       "chest pain                                          1\n",
       "malari                                              1\n",
       "BP                                                  1\n",
       "jaundice                                            1\n",
       "blood_pressure                                      1\n",
       "general_body_pain                                   1\n",
       "Fever                                               1\n",
       "MALARIA, HEADACHE, WAIST PAINS                      1\n",
       "MALARIA, EYE PROBLEMS, WAIST PAINS, CHEST PAINS     1\n",
       "FLU                                                 1\n",
       "MALARIA, EYE IRRITATION, HEADACHE                   1\n",
       "MALARIA, EYE IRRITATION                             1\n",
       "MALARIA, EYE PROBLEM                                1\n",
       "RHEUMATISM, MALARIA                                 1\n",
       "MALARIA, EYE INFECTION, WAIST PAINS                 1\n",
       "RHEUMATISM                                          1\n",
       "BLACK POD                                           1\n",
       "diabetes                                            1\n",
       "Name: If yes, what disease is most rampant?, dtype: int64"
      ]
     },
     "execution_count": 260,
     "metadata": {},
     "output_type": "execute_result"
    }
   ],
   "source": [
    "ghana_data['If yes, what disease is most rampant?'].value_counts()"
   ]
  },
  {
   "cell_type": "code",
   "execution_count": null,
   "metadata": {},
   "outputs": [
    {
     "data": {
      "text/plain": [
       "1         261\n",
       "2          73\n",
       "#NULL!     44\n",
       "Name: Have you noticed an increase in the number of pests in the last year?, dtype: int64"
      ]
     },
     "execution_count": 261,
     "metadata": {},
     "output_type": "execute_result"
    }
   ],
   "source": [
    "ghana_data['Have you noticed an increase in the number of pests in the last year?'].value_counts()"
   ]
  },
  {
   "cell_type": "code",
   "execution_count": null,
   "metadata": {},
   "outputs": [
    {
     "data": {
      "text/plain": [
       "1         245\n",
       "2          88\n",
       "#NULL!     44\n",
       "22          1\n",
       "Name: Have you noticed an increase in the number of pests this year?, dtype: int64"
      ]
     },
     "execution_count": 262,
     "metadata": {},
     "output_type": "execute_result"
    }
   ],
   "source": [
    "ghana_data['Have you noticed an increase in the number of pests this year?'].value_counts()"
   ]
  },
  {
   "cell_type": "code",
   "execution_count": null,
   "metadata": {},
   "outputs": [
    {
     "data": {
      "text/plain": [
       "3         128\n",
       "#NULL!    124\n",
       "1          85\n",
       "2          41\n",
       "Name: Have you noticed an upward, downward or similar trend in the increase in the number of pests?, dtype: int64"
      ]
     },
     "execution_count": 263,
     "metadata": {},
     "output_type": "execute_result"
    }
   ],
   "source": [
    "ghana_data['Have you noticed an upward, downward or similar trend in the increase in the number of pests?'].value_counts()"
   ]
  },
  {
   "cell_type": "code",
   "execution_count": null,
   "metadata": {},
   "outputs": [
    {
     "data": {
      "text/plain": [
       "1         282\n",
       "2          55\n",
       "#NULL!     41\n",
       "Name: Have you noticed an increase in difficulties in weed control in the last year?, dtype: int64"
      ]
     },
     "execution_count": 264,
     "metadata": {},
     "output_type": "execute_result"
    }
   ],
   "source": [
    "ghana_data['Have you noticed an increase in difficulties in weed control in the last year?'].value_counts()"
   ]
  },
  {
   "cell_type": "code",
   "execution_count": null,
   "metadata": {},
   "outputs": [
    {
     "data": {
      "text/plain": [
       "1         256\n",
       "2          83\n",
       "#NULL!     39\n",
       "Name: Have you noticed an increase in weed control this year?, dtype: int64"
      ]
     },
     "execution_count": 265,
     "metadata": {},
     "output_type": "execute_result"
    }
   ],
   "source": [
    "ghana_data['Have you noticed an increase in weed control this year?'].value_counts()"
   ]
  },
  {
   "cell_type": "code",
   "execution_count": null,
   "metadata": {},
   "outputs": [
    {
     "data": {
      "text/plain": [
       "3         136\n",
       "#NULL!    110\n",
       "1         102\n",
       "2          30\n",
       "Name: Have you noticed an upward, downward or similar trend in the increase in difficulties in weed control?, dtype: int64"
      ]
     },
     "execution_count": 266,
     "metadata": {},
     "output_type": "execute_result"
    }
   ],
   "source": [
    "ghana_data['Have you noticed an upward, downward or similar trend in the increase in difficulties in weed control?'].value_counts()"
   ]
  },
  {
   "cell_type": "code",
   "execution_count": null,
   "metadata": {},
   "outputs": [
    {
     "data": {
      "text/plain": [
       "1         246\n",
       "2         100\n",
       "#NULL!     32\n",
       "Name: Have you noticed an increase in malaria incidences in the last year?, dtype: int64"
      ]
     },
     "execution_count": 267,
     "metadata": {},
     "output_type": "execute_result"
    }
   ],
   "source": [
    "ghana_data['Have you noticed an increase in malaria incidences in the last year?'].value_counts()"
   ]
  },
  {
   "cell_type": "code",
   "execution_count": null,
   "metadata": {},
   "outputs": [
    {
     "data": {
      "text/plain": [
       "1.00      231\n",
       "2.00      105\n",
       "#NULL!     40\n",
       "11.00       2\n",
       "Name: Have you noticed an increase in malaria incidences this year?, dtype: int64"
      ]
     },
     "execution_count": 268,
     "metadata": {},
     "output_type": "execute_result"
    }
   ],
   "source": [
    "ghana_data['Have you noticed an increase in malaria incidences this year?'].value_counts()"
   ]
  },
  {
   "cell_type": "code",
   "execution_count": null,
   "metadata": {},
   "outputs": [
    {
     "data": {
      "text/plain": [
       "3.00      130\n",
       "#NULL!    111\n",
       "1.00       99\n",
       "2.00       38\n",
       "Name: Have you noticed an upward, downward or similar trend in malaria incidences?, dtype: int64"
      ]
     },
     "execution_count": 269,
     "metadata": {},
     "output_type": "execute_result"
    }
   ],
   "source": [
    "ghana_data['Have you noticed an upward, downward or similar trend in malaria incidences?'].value_counts()"
   ]
  },
  {
   "cell_type": "code",
   "execution_count": null,
   "metadata": {},
   "outputs": [
    {
     "data": {
      "text/plain": [
       "2.00      208\n",
       "1.00      130\n",
       "#NULL!     39\n",
       "3.00        1\n",
       "Name: Have you noticed a scarcity of drinking water in the last year?, dtype: int64"
      ]
     },
     "execution_count": 270,
     "metadata": {},
     "output_type": "execute_result"
    }
   ],
   "source": [
    "ghana_data['Have you noticed a scarcity of drinking water in the last year?'].value_counts()"
   ]
  },
  {
   "cell_type": "code",
   "execution_count": null,
   "metadata": {},
   "outputs": [
    {
     "data": {
      "text/plain": [
       "2.00      210\n",
       "1.00      123\n",
       "#NULL!     43\n",
       "3.00        2\n",
       "Name: Have you noticed a scarcity of drinking water this year?, dtype: int64"
      ]
     },
     "execution_count": 271,
     "metadata": {},
     "output_type": "execute_result"
    }
   ],
   "source": [
    "ghana_data['Have you noticed a scarcity of drinking water this year?'].value_counts()"
   ]
  },
  {
   "cell_type": "code",
   "execution_count": null,
   "metadata": {},
   "outputs": [
    {
     "data": {
      "text/plain": [
       "3.00      149\n",
       "#NULL!    115\n",
       "1.00       68\n",
       "2.00       45\n",
       "23.00       1\n",
       "Name: Have you noticed an upward, downward or similar trend in the scarcity of drinking water?, dtype: int64"
      ]
     },
     "execution_count": 272,
     "metadata": {},
     "output_type": "execute_result"
    }
   ],
   "source": [
    "ghana_data['Have you noticed an upward, downward or similar trend in the scarcity of drinking water?'].value_counts()"
   ]
  },
  {
   "cell_type": "code",
   "execution_count": null,
   "metadata": {},
   "outputs": [
    {
     "data": {
      "text/plain": [
       "2.00      228\n",
       "1.00      114\n",
       "#NULL!     35\n",
       "3.00        1\n",
       "Name: Have you noticed a scarcity of cooking water in the last year?, dtype: int64"
      ]
     },
     "execution_count": 273,
     "metadata": {},
     "output_type": "execute_result"
    }
   ],
   "source": [
    "ghana_data['Have you noticed a scarcity of cooking water in the last year?'].value_counts()"
   ]
  },
  {
   "cell_type": "code",
   "execution_count": null,
   "metadata": {},
   "outputs": [
    {
     "data": {
      "text/plain": [
       "2.00      220\n",
       "1.00      114\n",
       "#NULL!     42\n",
       "3.00        2\n",
       "Name: Have you noticed a scarcity of cooking water this year?, dtype: int64"
      ]
     },
     "execution_count": 274,
     "metadata": {},
     "output_type": "execute_result"
    }
   ],
   "source": [
    "ghana_data['Have you noticed a scarcity of cooking water this year?'].value_counts()"
   ]
  },
  {
   "cell_type": "code",
   "execution_count": null,
   "metadata": {},
   "outputs": [
    {
     "data": {
      "text/plain": [
       "3.00      155\n",
       "#NULL!    117\n",
       "1.00       63\n",
       "2.00       43\n",
       "Name: Have you noticed an upward, downward or similar trend in the scarcity of cooking water?, dtype: int64"
      ]
     },
     "execution_count": 275,
     "metadata": {},
     "output_type": "execute_result"
    }
   ],
   "source": [
    "ghana_data['Have you noticed an upward, downward or similar trend in the scarcity of cooking water?'].value_counts()"
   ]
  },
  {
   "cell_type": "code",
   "execution_count": null,
   "metadata": {},
   "outputs": [
    {
     "data": {
      "text/plain": [
       "2.00      226\n",
       "1.00      109\n",
       "#NULL!     40\n",
       "3.00        3\n",
       "Name: Have you noticed a higher incidence of pneumonia in the last year?, dtype: int64"
      ]
     },
     "execution_count": 276,
     "metadata": {},
     "output_type": "execute_result"
    }
   ],
   "source": [
    "ghana_data['Have you noticed a higher incidence of pneumonia in the last year?'].value_counts()"
   ]
  },
  {
   "cell_type": "code",
   "execution_count": null,
   "metadata": {},
   "outputs": [
    {
     "data": {
      "text/plain": [
       "2.00      238\n",
       "1.00       99\n",
       "#NULL!     39\n",
       "3.00        2\n",
       "Name: Have you noticed a higher incidence of pneumonia this year?, dtype: int64"
      ]
     },
     "execution_count": 277,
     "metadata": {},
     "output_type": "execute_result"
    }
   ],
   "source": [
    "ghana_data['Have you noticed a higher incidence of pneumonia this year?'].value_counts()"
   ]
  },
  {
   "cell_type": "code",
   "execution_count": null,
   "metadata": {},
   "outputs": [
    {
     "data": {
      "text/plain": [
       "3.00      154\n",
       "#NULL!    120\n",
       "1.00       60\n",
       "2.00       44\n",
       "Name: Have you noticed an upward, downward or similar trend in the higher incidence of pneumonia?, dtype: int64"
      ]
     },
     "execution_count": 278,
     "metadata": {},
     "output_type": "execute_result"
    }
   ],
   "source": [
    "ghana_data['Have you noticed an upward, downward or similar trend in the higher incidence of pneumonia?'].value_counts()"
   ]
  },
  {
   "cell_type": "code",
   "execution_count": null,
   "metadata": {},
   "outputs": [
    {
     "data": {
      "text/plain": [
       "2.00      240\n",
       "1.00       94\n",
       "#NULL!     44\n",
       "Name: Have you noticed a higher incidence of cholera in the last year?, dtype: int64"
      ]
     },
     "execution_count": 279,
     "metadata": {},
     "output_type": "execute_result"
    }
   ],
   "source": [
    "ghana_data['Have you noticed a higher incidence of cholera in the last year?'].value_counts()"
   ]
  },
  {
   "cell_type": "code",
   "execution_count": null,
   "metadata": {},
   "outputs": [
    {
     "data": {
      "text/plain": [
       "2.00      247\n",
       "1.00       88\n",
       "#NULL!     43\n",
       "Name: Have you noticed a higher incidence of cholera this year?, dtype: int64"
      ]
     },
     "execution_count": 280,
     "metadata": {},
     "output_type": "execute_result"
    }
   ],
   "source": [
    "ghana_data['Have you noticed a higher incidence of cholera this year?'].value_counts()"
   ]
  },
  {
   "cell_type": "code",
   "execution_count": null,
   "metadata": {},
   "outputs": [
    {
     "data": {
      "text/plain": [
       "3.00      165\n",
       "#NULL!    123\n",
       "1.00       56\n",
       "2.00       33\n",
       "23.00       1\n",
       "Name: Have you noticed an upward, downware or similar trend in the higher incidence of cholera?, dtype: int64"
      ]
     },
     "execution_count": 281,
     "metadata": {},
     "output_type": "execute_result"
    }
   ],
   "source": [
    "ghana_data['Have you noticed an upward, downware or similar trend in the higher incidence of cholera?'].value_counts()"
   ]
  },
  {
   "cell_type": "code",
   "execution_count": null,
   "metadata": {},
   "outputs": [
    {
     "data": {
      "text/plain": [
       "1.00      247\n",
       "2.00      119\n",
       "#NULL!     12\n",
       "Name: Has death of young cocoa plants affected cocoa production in the last year?, dtype: int64"
      ]
     },
     "execution_count": 282,
     "metadata": {},
     "output_type": "execute_result"
    }
   ],
   "source": [
    "ghana_data['Has death of young cocoa plants affected cocoa production in the last year?'].value_counts()"
   ]
  },
  {
   "cell_type": "code",
   "execution_count": null,
   "metadata": {},
   "outputs": [
    {
     "data": {
      "text/plain": [
       "2.00      186\n",
       "1.00      175\n",
       "#NULL!     17\n",
       "Name: Has death of young cocoa plants affected cocoa production this year?, dtype: int64"
      ]
     },
     "execution_count": 283,
     "metadata": {},
     "output_type": "execute_result"
    }
   ],
   "source": [
    "ghana_data['Has death of young cocoa plants affected cocoa production this year?'].value_counts()"
   ]
  },
  {
   "cell_type": "code",
   "execution_count": null,
   "metadata": {},
   "outputs": [
    {
     "data": {
      "text/plain": [
       "3.00      130\n",
       "1.00      102\n",
       "#NULL!     91\n",
       "2.00       55\n",
       "Name: Have you noticed an upward, downward or similar trend in the death of young cocoa plants?, dtype: int64"
      ]
     },
     "execution_count": 284,
     "metadata": {},
     "output_type": "execute_result"
    }
   ],
   "source": [
    "ghana_data['Have you noticed an upward, downward or similar trend in the death of young cocoa plants?'].value_counts()"
   ]
  },
  {
   "cell_type": "code",
   "execution_count": null,
   "metadata": {},
   "outputs": [
    {
     "data": {
      "text/plain": [
       "1.00      217\n",
       "2.00      142\n",
       "#NULL!     19\n",
       "Name: Has cocoa plants falling off affected cocoa production in the last year?, dtype: int64"
      ]
     },
     "execution_count": 285,
     "metadata": {},
     "output_type": "execute_result"
    }
   ],
   "source": [
    "ghana_data['Has cocoa plants falling off affected cocoa production in the last year?'].value_counts()"
   ]
  },
  {
   "cell_type": "code",
   "execution_count": null,
   "metadata": {},
   "outputs": [
    {
     "data": {
      "text/plain": [
       "1.00      184\n",
       "2.00      171\n",
       "#NULL!     23\n",
       "Name: Has cocoa plants falling off affected cocoa production this year?, dtype: int64"
      ]
     },
     "execution_count": 286,
     "metadata": {},
     "output_type": "execute_result"
    }
   ],
   "source": [
    "ghana_data['Has cocoa plants falling off affected cocoa production this year?'].value_counts()"
   ]
  },
  {
   "cell_type": "code",
   "execution_count": null,
   "metadata": {},
   "outputs": [
    {
     "data": {
      "text/plain": [
       "3.00      144\n",
       "1.00      104\n",
       "#NULL!     97\n",
       "2.00       32\n",
       "11.00       1\n",
       "Name: Have you noticed an upward, downward or similar trend in cocoa plants falling off?, dtype: int64"
      ]
     },
     "execution_count": 287,
     "metadata": {},
     "output_type": "execute_result"
    }
   ],
   "source": [
    "ghana_data['Have you noticed an upward, downward or similar trend in cocoa plants falling off?'].value_counts()"
   ]
  },
  {
   "cell_type": "code",
   "execution_count": null,
   "metadata": {},
   "outputs": [
    {
     "data": {
      "text/plain": [
       "1.00      258\n",
       "2.00       95\n",
       "#NULL!     25\n",
       "Name: Has a reduction in cocoa yield affected cocoa production in the last year?, dtype: int64"
      ]
     },
     "execution_count": 288,
     "metadata": {},
     "output_type": "execute_result"
    }
   ],
   "source": [
    "ghana_data['Has a reduction in cocoa yield affected cocoa production in the last year?'].value_counts()"
   ]
  },
  {
   "cell_type": "code",
   "execution_count": null,
   "metadata": {},
   "outputs": [
    {
     "data": {
      "text/plain": [
       "1.00      206\n",
       "2.00      143\n",
       "#NULL!     27\n",
       "22.00       1\n",
       "3.00        1\n",
       "Name: Has a reduction in cocoa yield affected cocoa production this year?, dtype: int64"
      ]
     },
     "execution_count": 289,
     "metadata": {},
     "output_type": "execute_result"
    }
   ],
   "source": [
    "ghana_data['Has a reduction in cocoa yield affected cocoa production this year?'].value_counts()"
   ]
  },
  {
   "cell_type": "code",
   "execution_count": null,
   "metadata": {},
   "outputs": [
    {
     "data": {
      "text/plain": [
       "3.00      125\n",
       "#NULL!    101\n",
       "1.00       99\n",
       "2.00       52\n",
       "11.00       1\n",
       "Name: Have you noticed an upward, downward or similar trend in the reduction in cocoa yield?, dtype: int64"
      ]
     },
     "execution_count": 290,
     "metadata": {},
     "output_type": "execute_result"
    }
   ],
   "source": [
    "ghana_data['Have you noticed an upward, downward or similar trend in the reduction in cocoa yield?'].value_counts()"
   ]
  },
  {
   "cell_type": "code",
   "execution_count": null,
   "metadata": {},
   "outputs": [
    {
     "data": {
      "text/plain": [
       "1.00      237\n",
       "2.00      115\n",
       "#NULL!     26\n",
       "Name: Has a higher incidence of black pod disease affected cocoa production in the last year?, dtype: int64"
      ]
     },
     "execution_count": 291,
     "metadata": {},
     "output_type": "execute_result"
    }
   ],
   "source": [
    "ghana_data['Has a higher incidence of black pod disease affected cocoa production in the last year?'].value_counts()"
   ]
  },
  {
   "cell_type": "code",
   "execution_count": null,
   "metadata": {},
   "outputs": [
    {
     "data": {
      "text/plain": [
       "1.00      175\n",
       "2.00      168\n",
       "#NULL!     34\n",
       "3.00        1\n",
       "Name: Has a higher incidence of black pod disease affected cocoa production this year?, dtype: int64"
      ]
     },
     "execution_count": 292,
     "metadata": {},
     "output_type": "execute_result"
    }
   ],
   "source": [
    "ghana_data['Has a higher incidence of black pod disease affected cocoa production this year?'].value_counts()"
   ]
  },
  {
   "cell_type": "code",
   "execution_count": null,
   "metadata": {},
   "outputs": [
    {
     "data": {
      "text/plain": [
       "3.00      144\n",
       "#NULL!     94\n",
       "1.00       88\n",
       "2.00       52\n",
       "Name: Have you noticed an upward, downward or similar trend in a higher incidence of black pod disease?, dtype: int64"
      ]
     },
     "execution_count": 293,
     "metadata": {},
     "output_type": "execute_result"
    }
   ],
   "source": [
    "ghana_data['Have you noticed an upward, downward or similar trend in a higher incidence of black pod disease?'].value_counts()"
   ]
  },
  {
   "cell_type": "code",
   "execution_count": null,
   "metadata": {},
   "outputs": [
    {
     "data": {
      "text/plain": [
       "2.00      220\n",
       "1.00      136\n",
       "#NULL!     22\n",
       "Name: Has a higher incidence of wild fire affected cocoa production in the last year?, dtype: int64"
      ]
     },
     "execution_count": 294,
     "metadata": {},
     "output_type": "execute_result"
    }
   ],
   "source": [
    "ghana_data['Has a higher incidence of wild fire affected cocoa production in the last year?'].value_counts()"
   ]
  },
  {
   "cell_type": "code",
   "execution_count": null,
   "metadata": {},
   "outputs": [
    {
     "data": {
      "text/plain": [
       "2.00      241\n",
       "1.00      113\n",
       "#NULL!     24\n",
       "Name: Has a higher incidence of wild fire affected cocoa production this year?, dtype: int64"
      ]
     },
     "execution_count": 295,
     "metadata": {},
     "output_type": "execute_result"
    }
   ],
   "source": [
    "ghana_data['Has a higher incidence of wild fire affected cocoa production this year?'].value_counts()"
   ]
  },
  {
   "cell_type": "code",
   "execution_count": null,
   "metadata": {},
   "outputs": [
    {
     "data": {
      "text/plain": [
       "3.00      169\n",
       "#NULL!    100\n",
       "1.00       62\n",
       "2.00       46\n",
       "11.00       1\n",
       "Name: Have you noticed an upward, downward or similar trend in a higher incidence of wild fire?, dtype: int64"
      ]
     },
     "execution_count": 296,
     "metadata": {},
     "output_type": "execute_result"
    }
   ],
   "source": [
    "ghana_data['Have you noticed an upward, downward or similar trend in a higher incidence of wild fire?'].value_counts()"
   ]
  },
  {
   "cell_type": "code",
   "execution_count": null,
   "metadata": {},
   "outputs": [
    {
     "data": {
      "text/plain": [
       "1.00      176\n",
       "2.00      174\n",
       "#NULL!     28\n",
       "Name: Has an inability to spray cocoa pods effectively affected cocoa production in the last year?, dtype: int64"
      ]
     },
     "execution_count": 297,
     "metadata": {},
     "output_type": "execute_result"
    }
   ],
   "source": [
    "ghana_data['Has an inability to spray cocoa pods effectively affected cocoa production in the last year?'].value_counts()"
   ]
  },
  {
   "cell_type": "code",
   "execution_count": null,
   "metadata": {},
   "outputs": [
    {
     "data": {
      "text/plain": [
       "2.00      192\n",
       "1.00      154\n",
       "#NULL!     32\n",
       "Name: Has an inability to spray cocoa pods effectively affected cocoa production this year?, dtype: int64"
      ]
     },
     "execution_count": 298,
     "metadata": {},
     "output_type": "execute_result"
    }
   ],
   "source": [
    "ghana_data['Has an inability to spray cocoa pods effectively affected cocoa production this year?'].value_counts()"
   ]
  },
  {
   "cell_type": "code",
   "execution_count": null,
   "metadata": {},
   "outputs": [
    {
     "data": {
      "text/plain": [
       "3.00      170\n",
       "#NULL!    100\n",
       "1.00       72\n",
       "2.00       36\n",
       "Name: Have you noticed an upward, downward or similar trend in the inability to spray cocoa pods effectively?, dtype: int64"
      ]
     },
     "execution_count": 299,
     "metadata": {},
     "output_type": "execute_result"
    }
   ],
   "source": [
    "ghana_data['Have you noticed an upward, downward or similar trend in the inability to spray cocoa pods effectively?'].value_counts()"
   ]
  },
  {
   "cell_type": "code",
   "execution_count": null,
   "metadata": {},
   "outputs": [
    {
     "data": {
      "text/plain": [
       "2.00      188\n",
       "1.00      155\n",
       "#NULL!     35\n",
       "Name: Has an inability to dry cocoa pods effectively affected cocoa production in the last year?, dtype: int64"
      ]
     },
     "execution_count": 300,
     "metadata": {},
     "output_type": "execute_result"
    }
   ],
   "source": [
    "ghana_data['Has an inability to dry cocoa pods effectively affected cocoa production in the last year?'].value_counts()"
   ]
  },
  {
   "cell_type": "code",
   "execution_count": null,
   "metadata": {},
   "outputs": [
    {
     "data": {
      "text/plain": [
       "2.00      207\n",
       "1.00      140\n",
       "#NULL!     31\n",
       "Name: Has an inability to dry cocoa pods effectively affected cocoa production this year?, dtype: int64"
      ]
     },
     "execution_count": 301,
     "metadata": {},
     "output_type": "execute_result"
    }
   ],
   "source": [
    "ghana_data['Has an inability to dry cocoa pods effectively affected cocoa production this year?'].value_counts()"
   ]
  },
  {
   "cell_type": "code",
   "execution_count": null,
   "metadata": {},
   "outputs": [
    {
     "data": {
      "text/plain": [
       "3.00      151\n",
       "#NULL!    106\n",
       "1.00       81\n",
       "2.00       40\n",
       "Name: Have you noticed an upward, downward or similar trend in the inability to dry cocoa pods effectively?, dtype: int64"
      ]
     },
     "execution_count": 302,
     "metadata": {},
     "output_type": "execute_result"
    }
   ],
   "source": [
    "ghana_data['Have you noticed an upward, downward or similar trend in the inability to dry cocoa pods effectively?'].value_counts()"
   ]
  },
  {
   "cell_type": "code",
   "execution_count": null,
   "metadata": {},
   "outputs": [
    {
     "data": {
      "text/plain": [
       "1.00      305\n",
       "2.00       50\n",
       "#NULL!     23\n",
       "Name: Do extremely high temperatures affect your cocoa production activities?, dtype: int64"
      ]
     },
     "execution_count": 303,
     "metadata": {},
     "output_type": "execute_result"
    }
   ],
   "source": [
    "ghana_data['Do extremely high temperatures affect your cocoa production activities?'].value_counts()"
   ]
  },
  {
   "cell_type": "code",
   "execution_count": null,
   "metadata": {},
   "outputs": [
    {
     "data": {
      "text/plain": [
       "1.00      194\n",
       "2.00      140\n",
       "#NULL!     44\n",
       "Name: Do extremely low temperatures affect your cocoa production activities?, dtype: int64"
      ]
     },
     "execution_count": 304,
     "metadata": {},
     "output_type": "execute_result"
    }
   ],
   "source": [
    "ghana_data['Do extremely low temperatures affect your cocoa production activities?'].value_counts()"
   ]
  },
  {
   "cell_type": "code",
   "execution_count": null,
   "metadata": {},
   "outputs": [
    {
     "data": {
      "text/plain": [
       "1.00      263\n",
       "2.00       80\n",
       "#NULL!     35\n",
       "Name: Does too much rainfall affect your cocoa production activities?, dtype: int64"
      ]
     },
     "execution_count": 305,
     "metadata": {},
     "output_type": "execute_result"
    }
   ],
   "source": [
    "ghana_data['Does too much rainfall affect your cocoa production activities?'].value_counts()"
   ]
  },
  {
   "cell_type": "code",
   "execution_count": null,
   "metadata": {},
   "outputs": [
    {
     "data": {
      "text/plain": [
       "1.00      290\n",
       "2.00       53\n",
       "#NULL!     34\n",
       "4.00        1\n",
       "Name: Does stormy rainfall affect your cocoa production activities?, dtype: int64"
      ]
     },
     "execution_count": 306,
     "metadata": {},
     "output_type": "execute_result"
    }
   ],
   "source": [
    "ghana_data['Does stormy rainfall affect your cocoa production activities?'].value_counts()"
   ]
  },
  {
   "cell_type": "code",
   "execution_count": null,
   "metadata": {},
   "outputs": [
    {
     "data": {
      "text/plain": [
       "1.00      236\n",
       "2.00      100\n",
       "#NULL!     42\n",
       "Name: Does too low of rainfall affect your cocoa production activities?, dtype: int64"
      ]
     },
     "execution_count": 307,
     "metadata": {},
     "output_type": "execute_result"
    }
   ],
   "source": [
    "ghana_data['Does too low of rainfall affect your cocoa production activities?'].value_counts()"
   ]
  },
  {
   "cell_type": "code",
   "execution_count": null,
   "metadata": {},
   "outputs": [
    {
     "data": {
      "text/plain": [
       "1.00      266\n",
       "2.00       78\n",
       "#NULL!     34\n",
       "Name: Does a delay in rainfall commencement affect your cocoa production activities?, dtype: int64"
      ]
     },
     "execution_count": 308,
     "metadata": {},
     "output_type": "execute_result"
    }
   ],
   "source": [
    "ghana_data['Does a delay in rainfall commencement affect your cocoa production activities?'].value_counts()"
   ]
  },
  {
   "cell_type": "code",
   "execution_count": null,
   "metadata": {},
   "outputs": [
    {
     "data": {
      "text/plain": [
       "1         194\n",
       "2         152\n",
       "#NULL!     32\n",
       "Name: Does a delay in rainfall stopping affect your cocoa production activities?, dtype: int64"
      ]
     },
     "execution_count": 309,
     "metadata": {},
     "output_type": "execute_result"
    }
   ],
   "source": [
    "ghana_data['Does a delay in rainfall stopping affect your cocoa production activities?'].value_counts()"
   ]
  },
  {
   "cell_type": "code",
   "execution_count": null,
   "metadata": {},
   "outputs": [
    {
     "data": {
      "text/plain": [
       "1         175\n",
       "2         171\n",
       "#NULL!     32\n",
       "Name: When you spray chemicals on cocoa farms, do you spray against the wind?, dtype: int64"
      ]
     },
     "execution_count": 310,
     "metadata": {},
     "output_type": "execute_result"
    }
   ],
   "source": [
    "ghana_data['When you spray chemicals on cocoa farms, do you spray against the wind?'].value_counts()"
   ]
  },
  {
   "cell_type": "code",
   "execution_count": null,
   "metadata": {},
   "outputs": [
    {
     "data": {
      "text/plain": [
       "1         258\n",
       "2          94\n",
       "#NULL!     25\n",
       "12          1\n",
       "Name: When you spray chemicals on cocoa farms, do you wear hand gloves?, dtype: int64"
      ]
     },
     "execution_count": 311,
     "metadata": {},
     "output_type": "execute_result"
    }
   ],
   "source": [
    "ghana_data['When you spray chemicals on cocoa farms, do you wear hand gloves?'].value_counts()"
   ]
  },
  {
   "cell_type": "code",
   "execution_count": null,
   "metadata": {},
   "outputs": [
    {
     "data": {
      "text/plain": [
       "1         221\n",
       "2         130\n",
       "#NULL!     27\n",
       "Name: When you spray chemicals on cocoa farms, do you wear spectacles?, dtype: int64"
      ]
     },
     "execution_count": 312,
     "metadata": {},
     "output_type": "execute_result"
    }
   ],
   "source": [
    "ghana_data['When you spray chemicals on cocoa farms, do you wear spectacles?'].value_counts()"
   ]
  },
  {
   "cell_type": "code",
   "execution_count": null,
   "metadata": {},
   "outputs": [
    {
     "data": {
      "text/plain": [
       "1.00      259\n",
       "2.00       98\n",
       "#NULL!     21\n",
       "Name: When you spray chemicals on cocoa farms, do you wear protective boot and overalls?, dtype: int64"
      ]
     },
     "execution_count": 313,
     "metadata": {},
     "output_type": "execute_result"
    }
   ],
   "source": [
    "ghana_data['When you spray chemicals on cocoa farms, do you wear protective boot and overalls?'].value_counts()"
   ]
  },
  {
   "cell_type": "code",
   "execution_count": null,
   "metadata": {},
   "outputs": [
    {
     "data": {
      "text/plain": [
       "2.00      285\n",
       "1.00       73\n",
       "#NULL!     20\n",
       "Name: When you spray chemicals on cocoa farms, do you pour or spray chemical in streams?, dtype: int64"
      ]
     },
     "execution_count": 314,
     "metadata": {},
     "output_type": "execute_result"
    }
   ],
   "source": [
    "ghana_data['When you spray chemicals on cocoa farms, do you pour or spray chemical in streams?'].value_counts()"
   ]
  },
  {
   "cell_type": "code",
   "execution_count": null,
   "metadata": {},
   "outputs": [
    {
     "data": {
      "text/plain": [
       "2.00      304\n",
       "1.00       52\n",
       "#NULL!     21\n",
       "22.00       1\n",
       "Name: When you spray chemicals on cocoa farms, can you taste the chemicals?, dtype: int64"
      ]
     },
     "execution_count": 315,
     "metadata": {},
     "output_type": "execute_result"
    }
   ],
   "source": [
    "ghana_data['When you spray chemicals on cocoa farms, can you taste the chemicals?'].value_counts()"
   ]
  },
  {
   "cell_type": "code",
   "execution_count": null,
   "metadata": {},
   "outputs": [
    {
     "data": {
      "text/plain": [
       "1.00      267\n",
       "2.00       99\n",
       "#NULL!     12\n",
       "Name: Do you diversify more into other crops as an adaptation method?, dtype: int64"
      ]
     },
     "execution_count": 316,
     "metadata": {},
     "output_type": "execute_result"
    }
   ],
   "source": [
    "ghana_data['Do you diversify more into other crops as an adaptation method?'].value_counts()"
   ]
  },
  {
   "cell_type": "code",
   "execution_count": null,
   "metadata": {},
   "outputs": [
    {
     "data": {
      "text/plain": [
       "2.00      197\n",
       "1.00      167\n",
       "#NULL!     14\n",
       "Name: Do you diversify into non-farm activities as an adaptation method?, dtype: int64"
      ]
     },
     "execution_count": 317,
     "metadata": {},
     "output_type": "execute_result"
    }
   ],
   "source": [
    "ghana_data['Do you diversify into non-farm activities as an adaptation method?'].value_counts()"
   ]
  },
  {
   "cell_type": "code",
   "execution_count": null,
   "metadata": {},
   "outputs": [
    {
     "data": {
      "text/plain": [
       "2.00      214\n",
       "1.00      148\n",
       "#NULL!     16\n",
       "Name: Do you invest in cocoa drying machines as an adaptation method?, dtype: int64"
      ]
     },
     "execution_count": 318,
     "metadata": {},
     "output_type": "execute_result"
    }
   ],
   "source": [
    "ghana_data['Do you invest in cocoa drying machines as an adaptation method?'].value_counts()"
   ]
  },
  {
   "cell_type": "code",
   "execution_count": null,
   "metadata": {},
   "outputs": [
    {
     "data": {
      "text/plain": [
       "1.00      224\n",
       "2.00      135\n",
       "#NULL!     19\n",
       "Name: Do you monitor weather changes by indigenous knowledge as an adaptation method?, dtype: int64"
      ]
     },
     "execution_count": 319,
     "metadata": {},
     "output_type": "execute_result"
    }
   ],
   "source": [
    "ghana_data['Do you monitor weather changes by indigenous knowledge as an adaptation method?'].value_counts()"
   ]
  },
  {
   "cell_type": "code",
   "execution_count": null,
   "metadata": {},
   "outputs": [
    {
     "data": {
      "text/plain": [
       "1.00      192\n",
       "2.00      164\n",
       "#NULL!     22\n",
       "Name: Do you re-spray cocoa as an adaptation method?, dtype: int64"
      ]
     },
     "execution_count": 320,
     "metadata": {},
     "output_type": "execute_result"
    }
   ],
   "source": [
    "ghana_data['Do you re-spray cocoa as an adaptation method?'].value_counts()"
   ]
  },
  {
   "cell_type": "code",
   "execution_count": null,
   "metadata": {},
   "outputs": [
    {
     "data": {
      "text/plain": [
       "2.00      180\n",
       "1.00      177\n",
       "#NULL!     21\n",
       "Name: Do you reduce the time interval for cocoa spraying as an adaptation method?, dtype: int64"
      ]
     },
     "execution_count": 321,
     "metadata": {},
     "output_type": "execute_result"
    }
   ],
   "source": [
    "ghana_data['Do you reduce the time interval for cocoa spraying as an adaptation method?'].value_counts()"
   ]
  },
  {
   "cell_type": "code",
   "execution_count": null,
   "metadata": {},
   "outputs": [
    {
     "data": {
      "text/plain": [
       "2.00      190\n",
       "1.00      166\n",
       "#NULL!     22\n",
       "Name: Do you use irrigation as an adaptation method?, dtype: int64"
      ]
     },
     "execution_count": 322,
     "metadata": {},
     "output_type": "execute_result"
    }
   ],
   "source": [
    "ghana_data['Do you use irrigation as an adaptation method?'].value_counts()"
   ]
  },
  {
   "cell_type": "code",
   "execution_count": null,
   "metadata": {},
   "outputs": [
    {
     "data": {
      "text/plain": [
       "1.00      226\n",
       "2.00      124\n",
       "#NULL!     28\n",
       "Name: Do you monitor weather change through the media as an adaptation method?, dtype: int64"
      ]
     },
     "execution_count": 323,
     "metadata": {},
     "output_type": "execute_result"
    }
   ],
   "source": [
    "ghana_data['Do you monitor weather change through the media as an adaptation method?'].value_counts()"
   ]
  },
  {
   "cell_type": "code",
   "execution_count": null,
   "metadata": {},
   "outputs": [
    {
     "data": {
      "text/plain": [
       "1.00      259\n",
       "2.00       92\n",
       "#NULL!     26\n",
       "12.00       1\n",
       "Name: Do you plant hybrid seeds as an adapatation method?, dtype: int64"
      ]
     },
     "execution_count": 324,
     "metadata": {},
     "output_type": "execute_result"
    }
   ],
   "source": [
    "ghana_data['Do you plant hybrid seeds as an adapatation method?'].value_counts()"
   ]
  },
  {
   "cell_type": "code",
   "execution_count": null,
   "metadata": {},
   "outputs": [
    {
     "data": {
      "text/plain": [
       "1.00      283\n",
       "2.00       79\n",
       "#NULL!     16\n",
       "Name: Do you do regular cocoa spraying as an adaptation method?, dtype: int64"
      ]
     },
     "execution_count": 325,
     "metadata": {},
     "output_type": "execute_result"
    }
   ],
   "source": [
    "ghana_data['Do you do regular cocoa spraying as an adaptation method?'].value_counts()"
   ]
  },
  {
   "cell_type": "code",
   "execution_count": null,
   "metadata": {},
   "outputs": [
    {
     "data": {
      "text/plain": [
       "1.00      250\n",
       "2.00      108\n",
       "#NULL!     19\n",
       "22.00       1\n",
       "Name: Do you change planting and harvesting time as an adaptation method?, dtype: int64"
      ]
     },
     "execution_count": 326,
     "metadata": {},
     "output_type": "execute_result"
    }
   ],
   "source": [
    "ghana_data['Do you change planting and harvesting time as an adaptation method?'].value_counts()"
   ]
  },
  {
   "cell_type": "code",
   "execution_count": 1084,
   "metadata": {},
   "outputs": [
    {
     "data": {
      "text/plain": [
       "IRRIGATION                                                           6\n",
       "DELAY IN HARVESTING                                                  6\n",
       "MIXED CROPPING                                                       5\n",
       "early weeding to avoid motality                                      4\n",
       "hot weather                                                          3\n",
       "MIXED CROPPING YIELDS                                                2\n",
       "dry_leaves                                                           2\n",
       "appearance of flowers                                                2\n",
       "CONSECUTIVE RAINFALL PATTERNS                                        1\n",
       "hot-waether                                                          1\n",
       "determine_by_heat                                                    1\n",
       "brownish_leaves                                                      1\n",
       "heavy_fog                                                            1\n",
       "cickets_noise                                                        1\n",
       "presence_of_many_flowers                                             1\n",
       "presence_of-hawk                                                     1\n",
       "cloud_formation_indicate_rain                                        1\n",
       "appearance_of_more_flowers                                           1\n",
       "frogs_coming_out                                                     1\n",
       "hot_weather                                                          1\n",
       "dry_weeds                                                            1\n",
       "soil become very hot                                                 1\n",
       "dryness of soil                                                      1\n",
       "cool weather                                                         1\n",
       "figgy weather                                                        1\n",
       "hot soil                                                             1\n",
       "leqave shaking                                                       1\n",
       "frogs coming from hidden places                                      1\n",
       "brownish leaves                                                      1\n",
       "hot air                                                              1\n",
       "fog weather                                                          1\n",
       "dusty environment                                                    1\n",
       "upcoming of white birds                                              1\n",
       "when_the_cloud_move_from_west_to_East-meaning_that_rain_will_fall    1\n",
       "PRESENCE OF CRICKETS                                                 1\n",
       "MULCHING                                                             1\n",
       "RAINBOW OBSERVATION                                                  1\n",
       "USING THE MONTH TO STUDY THE WEATHER                                 1\n",
       "THE ROLE OF CRICKET                                                  1\n",
       "THE ROLE OF CRICKETS                                                 1\n",
       "MONITORING THE WEATHER WITH THE CLOUD                                1\n",
       "STUDYING RAIN PATTERN FOR UP COMING YEARS                            1\n",
       "PREDICTING THE WEATHER PATTERNS                                      1\n",
       "DELAY PLANTING AND HARVESTING                                        1\n",
       "irrigate                                                             1\n",
       "fogy weather                                                         1\n",
       "wind_blow                                                            1\n",
       "Appearance_of_cricket                                                1\n",
       "appearanceof flowers                                                 1\n",
       "appaerance of criket                                                 1\n",
       "more criket                                                          1\n",
       "appaerance of some insect                                            1\n",
       "appearcane of flowers                                                1\n",
       "prsence of creket show dry season                                    1\n",
       "heavy fog                                                            1\n",
       "dusty ennvironment                                                   1\n",
       "mixed cropping                                                       1\n",
       "Name: Indicate any indigenous knowledge you use to cope with climate change response 1, dtype: int64"
      ]
     },
     "execution_count": 1084,
     "metadata": {},
     "output_type": "execute_result"
    }
   ],
   "source": [
    "ghana_data['Indicate any indigenous knowledge you use to cope with climate change response 1'].value_counts()"
   ]
  },
  {
   "cell_type": "code",
   "execution_count": 1085,
   "metadata": {},
   "outputs": [
    {
     "data": {
      "text/plain": [
       "IRRIGATION                                   6\n",
       "MULCHING                                     3\n",
       "dry leaves                                   3\n",
       "foggy_weather                                2\n",
       "hot air                                      2\n",
       "more_clouds_in_the_sky                       1\n",
       "fog_condition_indicate_dry_season            1\n",
       "hot_environment                              1\n",
       "rise-temperature                             1\n",
       "hot-weather                                  1\n",
       "foggy-weather                                1\n",
       "hot_weather                                  1\n",
       "APPEARANCE OF THE RAINBOW                    1\n",
       "1                                            1\n",
       "noisemaking_by_frogs                         1\n",
       "cricket noise making                         1\n",
       "foggy weather                                1\n",
       "fogy weather                                 1\n",
       "noise making  by frogs                       1\n",
       "yellowish leaves                             1\n",
       "shelling-of dry leaves                       1\n",
       "noise making by frogs                        1\n",
       "hot weather                                  1\n",
       "thunder_strike                               1\n",
       "DELAY HARVEST                                1\n",
       "DELAY HARVESTING                             1\n",
       "PLANT ADAPTIVE CROPS                         1\n",
       "COMMENCEMENT OF DRY SEASON                   1\n",
       "STUDYING RAIN PATTERN FOR UP COMING YEARS    1\n",
       "MONITORING THE WEATHER WITH THE CLOUD        1\n",
       "mixed_cropping                               1\n",
       "Cloud_formation                              1\n",
       "dark condition                               1\n",
       "more flowers                                 1\n",
       "cloudy conditions                            1\n",
       "more  cloud                                  1\n",
       "cloud                                        1\n",
       "appaearance of birds                         1\n",
       "low teemperature                             1\n",
       "cloudy condition                             1\n",
       "cutting of mistolto                          1\n",
       "Name: Indicate any indigenous knowledge you use to cope with climate change response 2, dtype: int64"
      ]
     },
     "execution_count": 1085,
     "metadata": {},
     "output_type": "execute_result"
    }
   ],
   "source": [
    "ghana_data['Indicate any indigenous knowledge you use to cope with climate change response 2'].value_counts()"
   ]
  },
  {
   "cell_type": "code",
   "execution_count": 1086,
   "metadata": {},
   "outputs": [
    {
     "data": {
      "text/plain": [
       "brownish_leaves                      2\n",
       "DELAY HARVEST                        1\n",
       "dry-leaves                           1\n",
       "dry weeds                            1\n",
       "leave shelling                       1\n",
       "dryness of stream                    1\n",
       "leaves shelling                      1\n",
       "cricket noise making                 1\n",
       "2                                    1\n",
       "making noise by criket               1\n",
       "DELAY HARVESTING                     1\n",
       "brownwish leavs                      1\n",
       "flowers from tree                    1\n",
       "capok flowers                        1\n",
       "mor fog                              1\n",
       "more clouds in the sku               1\n",
       "Capok_flowers                        1\n",
       "MULCHING                             1\n",
       "noise making by crikets and frogs    1\n",
       "Name: Indicate any indigenous knowledge you use to cope with climate change response 3, dtype: int64"
      ]
     },
     "execution_count": 1086,
     "metadata": {},
     "output_type": "execute_result"
    }
   ],
   "source": [
    "ghana_data['Indicate any indigenous knowledge you use to cope with climate change response 3'].value_counts()"
   ]
  },
  {
   "cell_type": "code",
   "execution_count": 1087,
   "metadata": {},
   "outputs": [
    {
     "data": {
      "text/plain": [
       "1.00      316\n",
       "2.00       48\n",
       "#NULL!     14\n",
       "Name: Do you involve in casual labors as a coping method against climate change?, dtype: int64"
      ]
     },
     "execution_count": 1087,
     "metadata": {},
     "output_type": "execute_result"
    }
   ],
   "source": [
    "ghana_data['Do you involve in casual labors as a coping method against climate change?'].value_counts()"
   ]
  },
  {
   "cell_type": "code",
   "execution_count": 1088,
   "metadata": {},
   "outputs": [
    {
     "data": {
      "text/plain": [
       "2.00      326\n",
       "1.00       41\n",
       "#NULL!     11\n",
       "Name: Do you withdraw children from schools as a coping method against climate change?, dtype: int64"
      ]
     },
     "execution_count": 1088,
     "metadata": {},
     "output_type": "execute_result"
    }
   ],
   "source": [
    "ghana_data['Do you withdraw children from schools as a coping method against climate change?'].value_counts()"
   ]
  },
  {
   "cell_type": "code",
   "execution_count": 1089,
   "metadata": {},
   "outputs": [
    {
     "data": {
      "text/plain": [
       "2.00      300\n",
       "1.00       69\n",
       "#NULL!      9\n",
       "Name: Do you reduce household food intakes as a coping method against climate change?, dtype: int64"
      ]
     },
     "execution_count": 1089,
     "metadata": {},
     "output_type": "execute_result"
    }
   ],
   "source": [
    "ghana_data['Do you reduce household food intakes as a coping method against climate change?'].value_counts()"
   ]
  },
  {
   "cell_type": "code",
   "execution_count": 1090,
   "metadata": {},
   "outputs": [
    {
     "data": {
      "text/plain": [
       "2.00      327\n",
       "1.00       41\n",
       "#NULL!      9\n",
       "22.00       1\n",
       "Name: Do you beg for food from friends as a coping method against climate change?, dtype: int64"
      ]
     },
     "execution_count": 1090,
     "metadata": {},
     "output_type": "execute_result"
    }
   ],
   "source": [
    "ghana_data['Do you beg for food from friends as a coping method against climate change?'].value_counts()"
   ]
  },
  {
   "cell_type": "code",
   "execution_count": 1091,
   "metadata": {},
   "outputs": [
    {
     "data": {
      "text/plain": [
       "2.00      302\n",
       "1.00       67\n",
       "#NULL!      9\n",
       "Name: Have you borrowed money from friends to meet family needs as a coping method against climate change?, dtype: int64"
      ]
     },
     "execution_count": 1091,
     "metadata": {},
     "output_type": "execute_result"
    }
   ],
   "source": [
    "ghana_data['Have you borrowed money from friends to meet family needs as a coping method against climate change?'].value_counts()"
   ]
  },
  {
   "cell_type": "code",
   "execution_count": 1092,
   "metadata": {},
   "outputs": [
    {
     "data": {
      "text/plain": [
       "2.00      331\n",
       "1.00       38\n",
       "#NULL!      9\n",
       "Name: Have you migrated from the village to another village as a coping method against climate change?, dtype: int64"
      ]
     },
     "execution_count": 1092,
     "metadata": {},
     "output_type": "execute_result"
    }
   ],
   "source": [
    "ghana_data['Have you migrated from the village to another village as a coping method against climate change?'].value_counts()"
   ]
  },
  {
   "cell_type": "code",
   "execution_count": 1093,
   "metadata": {},
   "outputs": [
    {
     "data": {
      "text/plain": [
       "2.00      298\n",
       "1.00       68\n",
       "#NULL!     11\n",
       "22.00       1\n",
       "Name: Have you migrated from the village to another city as a coping method against climate change?, dtype: int64"
      ]
     },
     "execution_count": 1093,
     "metadata": {},
     "output_type": "execute_result"
    }
   ],
   "source": [
    "ghana_data['Have you migrated from the village to another city as a coping method against climate change?'].value_counts()"
   ]
  },
  {
   "cell_type": "code",
   "execution_count": 1094,
   "metadata": {},
   "outputs": [
    {
     "data": {
      "text/plain": [
       "1.00      369\n",
       "2.00        8\n",
       "#NULL!      1\n",
       "Name: Do you take more alcohol as a coping method against climate change?, dtype: int64"
      ]
     },
     "execution_count": 1094,
     "metadata": {},
     "output_type": "execute_result"
    }
   ],
   "source": [
    "ghana_data['Do you take more alcohol as a coping method against climate change?'].value_counts()"
   ]
  },
  {
   "cell_type": "code",
   "execution_count": 1095,
   "metadata": {},
   "outputs": [
    {
     "data": {
      "text/plain": [
       "2.00      320\n",
       "1.00       48\n",
       "#NULL!     10\n",
       "Name: Do you smoke more cigarettes as a coping method against climate change?, dtype: int64"
      ]
     },
     "execution_count": 1095,
     "metadata": {},
     "output_type": "execute_result"
    }
   ],
   "source": [
    "ghana_data['Do you smoke more cigarettes as a coping method against climate change?'].value_counts()"
   ]
  },
  {
   "cell_type": "code",
   "execution_count": 1096,
   "metadata": {},
   "outputs": [
    {
     "data": {
      "text/plain": [
       "2.00      296\n",
       "1.00       71\n",
       "#NULL!     11\n",
       "Name: Do you burn fire at home as a coping method against climate change?, dtype: int64"
      ]
     },
     "execution_count": 1096,
     "metadata": {},
     "output_type": "execute_result"
    }
   ],
   "source": [
    "ghana_data['Do you burn fire at home as a coping method against climate change?'].value_counts()"
   ]
  },
  {
   "cell_type": "code",
   "execution_count": 1097,
   "metadata": {},
   "outputs": [
    {
     "data": {
      "text/plain": [
       "1.00      138\n",
       "2.00      132\n",
       "3.00       83\n",
       "#NULL!     25\n",
       "Name: How do you rank collective efforts by all the villagers as an effort to address climate change?, dtype: int64"
      ]
     },
     "execution_count": 1097,
     "metadata": {},
     "output_type": "execute_result"
    }
   ],
   "source": [
    "ghana_data['How do you rank collective efforts by all the villagers as an effort to address climate change?'].value_counts()"
   ]
  },
  {
   "cell_type": "code",
   "execution_count": 1098,
   "metadata": {},
   "outputs": [
    {
     "data": {
      "text/plain": [
       "1.00      207\n",
       "2.00       79\n",
       "#NULL!     61\n",
       "3.00       30\n",
       "11.00       1\n",
       "Name: How do you rank individual efforts as an effort to address climate change?, dtype: int64"
      ]
     },
     "execution_count": 1098,
     "metadata": {},
     "output_type": "execute_result"
    }
   ],
   "source": [
    "ghana_data['How do you rank individual efforts as an effort to address climate change?'].value_counts()"
   ]
  },
  {
   "cell_type": "code",
   "execution_count": 1099,
   "metadata": {},
   "outputs": [
    {
     "data": {
      "text/plain": [
       "1.00      150\n",
       "3.00       86\n",
       "2.00       71\n",
       "#NULL!     69\n",
       "13.00       2\n",
       "Name: How do you rank local/state motivated efforts as an effort to address climate change?, dtype: int64"
      ]
     },
     "execution_count": 1099,
     "metadata": {},
     "output_type": "execute_result"
    }
   ],
   "source": [
    "ghana_data['How do you rank local/state motivated efforts as an effort to address climate change?'].value_counts()"
   ]
  },
  {
   "cell_type": "code",
   "execution_count": 1100,
   "metadata": {},
   "outputs": [
    {
     "data": {
      "text/plain": [
       "2.00      151\n",
       "1.00       92\n",
       "3.00       82\n",
       "#NULL!     50\n",
       "22.00       2\n",
       "11.00       1\n",
       "Name: How do you rank collective weather monitoring as an effort to address climate change?, dtype: int64"
      ]
     },
     "execution_count": 1100,
     "metadata": {},
     "output_type": "execute_result"
    }
   ],
   "source": [
    "ghana_data['How do you rank collective weather monitoring as an effort to address climate change?'].value_counts()"
   ]
  },
  {
   "cell_type": "code",
   "execution_count": 1101,
   "metadata": {},
   "outputs": [
    {
     "data": {
      "text/plain": [
       "1.00      153\n",
       "2.00      132\n",
       "#NULL!     50\n",
       "3.00       43\n",
       "Name: How do you rank group cocoa spraying as an effort to address climate change?, dtype: int64"
      ]
     },
     "execution_count": 1101,
     "metadata": {},
     "output_type": "execute_result"
    }
   ],
   "source": [
    "ghana_data['How do you rank group cocoa spraying as an effort to address climate change?'].value_counts()"
   ]
  },
  {
   "cell_type": "code",
   "execution_count": 1102,
   "metadata": {},
   "outputs": [
    {
     "data": {
      "text/plain": [
       "1.00      115\n",
       "3.00      109\n",
       "#NULL!     79\n",
       "2.00       74\n",
       "22.00       1\n",
       "Name: How do you rank irrigation as an effort to address climate change?, dtype: int64"
      ]
     },
     "execution_count": 1102,
     "metadata": {},
     "output_type": "execute_result"
    }
   ],
   "source": [
    "ghana_data['How do you rank irrigation as an effort to address climate change?'].value_counts()"
   ]
  },
  {
   "cell_type": "code",
   "execution_count": 1103,
   "metadata": {},
   "outputs": [
    {
     "data": {
      "text/plain": [
       "1.00      154\n",
       "2.00      128\n",
       "3.00       56\n",
       "#NULL!     40\n",
       "Name: How do you rank monitoring weather through the media as an effort to address climate change?, dtype: int64"
      ]
     },
     "execution_count": 1103,
     "metadata": {},
     "output_type": "execute_result"
    }
   ],
   "source": [
    "ghana_data['How do you rank monitoring weather through the media as an effort to address climate change?'].value_counts()"
   ]
  },
  {
   "cell_type": "code",
   "execution_count": 1104,
   "metadata": {},
   "outputs": [
    {
     "data": {
      "text/plain": [
       "2.00      141\n",
       "3.00      102\n",
       "1.00       70\n",
       "#NULL!     65\n",
       "Name: How do you rank credit support from friends and relatives as an effort to address climate change?, dtype: int64"
      ]
     },
     "execution_count": 1104,
     "metadata": {},
     "output_type": "execute_result"
    }
   ],
   "source": [
    "ghana_data['How do you rank credit support from friends and relatives as an effort to address climate change?'].value_counts()"
   ]
  },
  {
   "cell_type": "code",
   "execution_count": 108,
   "metadata": {},
   "outputs": [
    {
     "name": "stdout",
     "output_type": "stream",
     "text": [
      "                                          vendors            sectors regions  \\\n",
      "0                                  Re-spray cocoa  Impact Mitigation           \n",
      "1                 Diversify more into other crops  Impact Mitigation           \n",
      "2                                      Irrigation  Impact Mitigation           \n",
      "3  Monitor weather change by indigenous knowledge  Impact Mitigation           \n",
      "4        Monitor weather change through the media  Impact Mitigation           \n",
      "5                 Invest in cocoa drying machines  Impact Mitigation           \n",
      "6             Change planting and harvesting time  Impact Mitigation           \n",
      "7                          Regular cocoa spraying  Impact Mitigation           \n",
      "8                        Planting of hybrid seeds  Impact Mitigation           \n",
      "9         Reduce time interval for cocoa spraying  Impact Mitigation           \n",
      "\n",
      "   sales  \n",
      "0    192  \n",
      "1    267  \n",
      "2    166  \n",
      "3    224  \n",
      "4    226  \n",
      "5    148  \n",
      "6    250  \n",
      "7    283  \n",
      "8    259  \n",
      "9    177  \n"
     ]
    },
    {
     "data": {
      "application/vnd.plotly.v1+json": {
       "config": {
        "plotlyServerURL": "https://plot.ly"
       },
       "data": [
        {
         "branchvalues": "total",
         "domain": {
          "x": [
           0,
           1
          ],
          "y": [
           0,
           1
          ]
         },
         "hovertemplate": "labels=%{label}<br>sales=%{value}<br>parent=%{parent}<br>id=%{id}<extra></extra>",
         "ids": [
          "/Impact Mitigation/Change planting and harvesting time",
          "/Impact Mitigation/Diversify more into other crops",
          "/Impact Mitigation/Invest in cocoa drying machines",
          "/Impact Mitigation/Irrigation",
          "/Impact Mitigation/Monitor weather change by indigenous knowledge",
          "/Impact Mitigation/Monitor weather change through the media",
          "/Impact Mitigation/Planting of hybrid seeds",
          "/Impact Mitigation/Re-spray cocoa",
          "/Impact Mitigation/Reduce time interval for cocoa spraying",
          "/Impact Mitigation/Regular cocoa spraying",
          "/Impact Mitigation",
          ""
         ],
         "labels": [
          "Change planting and harvesting time",
          "Diversify more into other crops",
          "Invest in cocoa drying machines",
          "Irrigation",
          "Monitor weather change by indigenous knowledge",
          "Monitor weather change through the media",
          "Planting of hybrid seeds",
          "Re-spray cocoa",
          "Reduce time interval for cocoa spraying",
          "Regular cocoa spraying",
          "Impact Mitigation",
          ""
         ],
         "name": "",
         "parents": [
          "/Impact Mitigation",
          "/Impact Mitigation",
          "/Impact Mitigation",
          "/Impact Mitigation",
          "/Impact Mitigation",
          "/Impact Mitigation",
          "/Impact Mitigation",
          "/Impact Mitigation",
          "/Impact Mitigation",
          "/Impact Mitigation",
          "",
          ""
         ],
         "type": "sunburst",
         "values": [
          250,
          267,
          148,
          166,
          224,
          226,
          259,
          192,
          177,
          283,
          2192,
          2192
         ]
        }
       ],
       "layout": {
        "legend": {
         "tracegroupgap": 0
        },
        "template": {
         "data": {
          "bar": [
           {
            "error_x": {
             "color": "#2a3f5f"
            },
            "error_y": {
             "color": "#2a3f5f"
            },
            "marker": {
             "line": {
              "color": "#E5ECF6",
              "width": 0.5
             },
             "pattern": {
              "fillmode": "overlay",
              "size": 10,
              "solidity": 0.2
             }
            },
            "type": "bar"
           }
          ],
          "barpolar": [
           {
            "marker": {
             "line": {
              "color": "#E5ECF6",
              "width": 0.5
             },
             "pattern": {
              "fillmode": "overlay",
              "size": 10,
              "solidity": 0.2
             }
            },
            "type": "barpolar"
           }
          ],
          "carpet": [
           {
            "aaxis": {
             "endlinecolor": "#2a3f5f",
             "gridcolor": "white",
             "linecolor": "white",
             "minorgridcolor": "white",
             "startlinecolor": "#2a3f5f"
            },
            "baxis": {
             "endlinecolor": "#2a3f5f",
             "gridcolor": "white",
             "linecolor": "white",
             "minorgridcolor": "white",
             "startlinecolor": "#2a3f5f"
            },
            "type": "carpet"
           }
          ],
          "choropleth": [
           {
            "colorbar": {
             "outlinewidth": 0,
             "ticks": ""
            },
            "type": "choropleth"
           }
          ],
          "contour": [
           {
            "colorbar": {
             "outlinewidth": 0,
             "ticks": ""
            },
            "colorscale": [
             [
              0,
              "#0d0887"
             ],
             [
              0.1111111111111111,
              "#46039f"
             ],
             [
              0.2222222222222222,
              "#7201a8"
             ],
             [
              0.3333333333333333,
              "#9c179e"
             ],
             [
              0.4444444444444444,
              "#bd3786"
             ],
             [
              0.5555555555555556,
              "#d8576b"
             ],
             [
              0.6666666666666666,
              "#ed7953"
             ],
             [
              0.7777777777777778,
              "#fb9f3a"
             ],
             [
              0.8888888888888888,
              "#fdca26"
             ],
             [
              1,
              "#f0f921"
             ]
            ],
            "type": "contour"
           }
          ],
          "contourcarpet": [
           {
            "colorbar": {
             "outlinewidth": 0,
             "ticks": ""
            },
            "type": "contourcarpet"
           }
          ],
          "heatmap": [
           {
            "colorbar": {
             "outlinewidth": 0,
             "ticks": ""
            },
            "colorscale": [
             [
              0,
              "#0d0887"
             ],
             [
              0.1111111111111111,
              "#46039f"
             ],
             [
              0.2222222222222222,
              "#7201a8"
             ],
             [
              0.3333333333333333,
              "#9c179e"
             ],
             [
              0.4444444444444444,
              "#bd3786"
             ],
             [
              0.5555555555555556,
              "#d8576b"
             ],
             [
              0.6666666666666666,
              "#ed7953"
             ],
             [
              0.7777777777777778,
              "#fb9f3a"
             ],
             [
              0.8888888888888888,
              "#fdca26"
             ],
             [
              1,
              "#f0f921"
             ]
            ],
            "type": "heatmap"
           }
          ],
          "heatmapgl": [
           {
            "colorbar": {
             "outlinewidth": 0,
             "ticks": ""
            },
            "colorscale": [
             [
              0,
              "#0d0887"
             ],
             [
              0.1111111111111111,
              "#46039f"
             ],
             [
              0.2222222222222222,
              "#7201a8"
             ],
             [
              0.3333333333333333,
              "#9c179e"
             ],
             [
              0.4444444444444444,
              "#bd3786"
             ],
             [
              0.5555555555555556,
              "#d8576b"
             ],
             [
              0.6666666666666666,
              "#ed7953"
             ],
             [
              0.7777777777777778,
              "#fb9f3a"
             ],
             [
              0.8888888888888888,
              "#fdca26"
             ],
             [
              1,
              "#f0f921"
             ]
            ],
            "type": "heatmapgl"
           }
          ],
          "histogram": [
           {
            "marker": {
             "pattern": {
              "fillmode": "overlay",
              "size": 10,
              "solidity": 0.2
             }
            },
            "type": "histogram"
           }
          ],
          "histogram2d": [
           {
            "colorbar": {
             "outlinewidth": 0,
             "ticks": ""
            },
            "colorscale": [
             [
              0,
              "#0d0887"
             ],
             [
              0.1111111111111111,
              "#46039f"
             ],
             [
              0.2222222222222222,
              "#7201a8"
             ],
             [
              0.3333333333333333,
              "#9c179e"
             ],
             [
              0.4444444444444444,
              "#bd3786"
             ],
             [
              0.5555555555555556,
              "#d8576b"
             ],
             [
              0.6666666666666666,
              "#ed7953"
             ],
             [
              0.7777777777777778,
              "#fb9f3a"
             ],
             [
              0.8888888888888888,
              "#fdca26"
             ],
             [
              1,
              "#f0f921"
             ]
            ],
            "type": "histogram2d"
           }
          ],
          "histogram2dcontour": [
           {
            "colorbar": {
             "outlinewidth": 0,
             "ticks": ""
            },
            "colorscale": [
             [
              0,
              "#0d0887"
             ],
             [
              0.1111111111111111,
              "#46039f"
             ],
             [
              0.2222222222222222,
              "#7201a8"
             ],
             [
              0.3333333333333333,
              "#9c179e"
             ],
             [
              0.4444444444444444,
              "#bd3786"
             ],
             [
              0.5555555555555556,
              "#d8576b"
             ],
             [
              0.6666666666666666,
              "#ed7953"
             ],
             [
              0.7777777777777778,
              "#fb9f3a"
             ],
             [
              0.8888888888888888,
              "#fdca26"
             ],
             [
              1,
              "#f0f921"
             ]
            ],
            "type": "histogram2dcontour"
           }
          ],
          "mesh3d": [
           {
            "colorbar": {
             "outlinewidth": 0,
             "ticks": ""
            },
            "type": "mesh3d"
           }
          ],
          "parcoords": [
           {
            "line": {
             "colorbar": {
              "outlinewidth": 0,
              "ticks": ""
             }
            },
            "type": "parcoords"
           }
          ],
          "pie": [
           {
            "automargin": true,
            "type": "pie"
           }
          ],
          "scatter": [
           {
            "marker": {
             "colorbar": {
              "outlinewidth": 0,
              "ticks": ""
             }
            },
            "type": "scatter"
           }
          ],
          "scatter3d": [
           {
            "line": {
             "colorbar": {
              "outlinewidth": 0,
              "ticks": ""
             }
            },
            "marker": {
             "colorbar": {
              "outlinewidth": 0,
              "ticks": ""
             }
            },
            "type": "scatter3d"
           }
          ],
          "scattercarpet": [
           {
            "marker": {
             "colorbar": {
              "outlinewidth": 0,
              "ticks": ""
             }
            },
            "type": "scattercarpet"
           }
          ],
          "scattergeo": [
           {
            "marker": {
             "colorbar": {
              "outlinewidth": 0,
              "ticks": ""
             }
            },
            "type": "scattergeo"
           }
          ],
          "scattergl": [
           {
            "marker": {
             "colorbar": {
              "outlinewidth": 0,
              "ticks": ""
             }
            },
            "type": "scattergl"
           }
          ],
          "scattermapbox": [
           {
            "marker": {
             "colorbar": {
              "outlinewidth": 0,
              "ticks": ""
             }
            },
            "type": "scattermapbox"
           }
          ],
          "scatterpolar": [
           {
            "marker": {
             "colorbar": {
              "outlinewidth": 0,
              "ticks": ""
             }
            },
            "type": "scatterpolar"
           }
          ],
          "scatterpolargl": [
           {
            "marker": {
             "colorbar": {
              "outlinewidth": 0,
              "ticks": ""
             }
            },
            "type": "scatterpolargl"
           }
          ],
          "scatterternary": [
           {
            "marker": {
             "colorbar": {
              "outlinewidth": 0,
              "ticks": ""
             }
            },
            "type": "scatterternary"
           }
          ],
          "surface": [
           {
            "colorbar": {
             "outlinewidth": 0,
             "ticks": ""
            },
            "colorscale": [
             [
              0,
              "#0d0887"
             ],
             [
              0.1111111111111111,
              "#46039f"
             ],
             [
              0.2222222222222222,
              "#7201a8"
             ],
             [
              0.3333333333333333,
              "#9c179e"
             ],
             [
              0.4444444444444444,
              "#bd3786"
             ],
             [
              0.5555555555555556,
              "#d8576b"
             ],
             [
              0.6666666666666666,
              "#ed7953"
             ],
             [
              0.7777777777777778,
              "#fb9f3a"
             ],
             [
              0.8888888888888888,
              "#fdca26"
             ],
             [
              1,
              "#f0f921"
             ]
            ],
            "type": "surface"
           }
          ],
          "table": [
           {
            "cells": {
             "fill": {
              "color": "#EBF0F8"
             },
             "line": {
              "color": "white"
             }
            },
            "header": {
             "fill": {
              "color": "#C8D4E3"
             },
             "line": {
              "color": "white"
             }
            },
            "type": "table"
           }
          ]
         },
         "layout": {
          "annotationdefaults": {
           "arrowcolor": "#2a3f5f",
           "arrowhead": 0,
           "arrowwidth": 1
          },
          "autotypenumbers": "strict",
          "coloraxis": {
           "colorbar": {
            "outlinewidth": 0,
            "ticks": ""
           }
          },
          "colorscale": {
           "diverging": [
            [
             0,
             "#8e0152"
            ],
            [
             0.1,
             "#c51b7d"
            ],
            [
             0.2,
             "#de77ae"
            ],
            [
             0.3,
             "#f1b6da"
            ],
            [
             0.4,
             "#fde0ef"
            ],
            [
             0.5,
             "#f7f7f7"
            ],
            [
             0.6,
             "#e6f5d0"
            ],
            [
             0.7,
             "#b8e186"
            ],
            [
             0.8,
             "#7fbc41"
            ],
            [
             0.9,
             "#4d9221"
            ],
            [
             1,
             "#276419"
            ]
           ],
           "sequential": [
            [
             0,
             "#0d0887"
            ],
            [
             0.1111111111111111,
             "#46039f"
            ],
            [
             0.2222222222222222,
             "#7201a8"
            ],
            [
             0.3333333333333333,
             "#9c179e"
            ],
            [
             0.4444444444444444,
             "#bd3786"
            ],
            [
             0.5555555555555556,
             "#d8576b"
            ],
            [
             0.6666666666666666,
             "#ed7953"
            ],
            [
             0.7777777777777778,
             "#fb9f3a"
            ],
            [
             0.8888888888888888,
             "#fdca26"
            ],
            [
             1,
             "#f0f921"
            ]
           ],
           "sequentialminus": [
            [
             0,
             "#0d0887"
            ],
            [
             0.1111111111111111,
             "#46039f"
            ],
            [
             0.2222222222222222,
             "#7201a8"
            ],
            [
             0.3333333333333333,
             "#9c179e"
            ],
            [
             0.4444444444444444,
             "#bd3786"
            ],
            [
             0.5555555555555556,
             "#d8576b"
            ],
            [
             0.6666666666666666,
             "#ed7953"
            ],
            [
             0.7777777777777778,
             "#fb9f3a"
            ],
            [
             0.8888888888888888,
             "#fdca26"
            ],
            [
             1,
             "#f0f921"
            ]
           ]
          },
          "colorway": [
           "#636efa",
           "#EF553B",
           "#00cc96",
           "#ab63fa",
           "#FFA15A",
           "#19d3f3",
           "#FF6692",
           "#B6E880",
           "#FF97FF",
           "#FECB52"
          ],
          "font": {
           "color": "#2a3f5f"
          },
          "geo": {
           "bgcolor": "white",
           "lakecolor": "white",
           "landcolor": "#E5ECF6",
           "showlakes": true,
           "showland": true,
           "subunitcolor": "white"
          },
          "hoverlabel": {
           "align": "left"
          },
          "hovermode": "closest",
          "mapbox": {
           "style": "light"
          },
          "paper_bgcolor": "white",
          "plot_bgcolor": "#E5ECF6",
          "polar": {
           "angularaxis": {
            "gridcolor": "white",
            "linecolor": "white",
            "ticks": ""
           },
           "bgcolor": "#E5ECF6",
           "radialaxis": {
            "gridcolor": "white",
            "linecolor": "white",
            "ticks": ""
           }
          },
          "scene": {
           "xaxis": {
            "backgroundcolor": "#E5ECF6",
            "gridcolor": "white",
            "gridwidth": 2,
            "linecolor": "white",
            "showbackground": true,
            "ticks": "",
            "zerolinecolor": "white"
           },
           "yaxis": {
            "backgroundcolor": "#E5ECF6",
            "gridcolor": "white",
            "gridwidth": 2,
            "linecolor": "white",
            "showbackground": true,
            "ticks": "",
            "zerolinecolor": "white"
           },
           "zaxis": {
            "backgroundcolor": "#E5ECF6",
            "gridcolor": "white",
            "gridwidth": 2,
            "linecolor": "white",
            "showbackground": true,
            "ticks": "",
            "zerolinecolor": "white"
           }
          },
          "shapedefaults": {
           "line": {
            "color": "#2a3f5f"
           }
          },
          "ternary": {
           "aaxis": {
            "gridcolor": "white",
            "linecolor": "white",
            "ticks": ""
           },
           "baxis": {
            "gridcolor": "white",
            "linecolor": "white",
            "ticks": ""
           },
           "bgcolor": "#E5ECF6",
           "caxis": {
            "gridcolor": "white",
            "linecolor": "white",
            "ticks": ""
           }
          },
          "title": {
           "x": 0.05
          },
          "xaxis": {
           "automargin": true,
           "gridcolor": "white",
           "linecolor": "white",
           "ticks": "",
           "title": {
            "standoff": 15
           },
           "zerolinecolor": "white",
           "zerolinewidth": 2
          },
          "yaxis": {
           "automargin": true,
           "gridcolor": "white",
           "linecolor": "white",
           "ticks": "",
           "title": {
            "standoff": 15
           },
           "zerolinecolor": "white",
           "zerolinewidth": 2
          }
         }
        },
        "title": {
         "text": "Impact Mitigation Methods in Response to Climate Change by Cocoa Farmers"
        }
       }
      }
     },
     "metadata": {},
     "output_type": "display_data"
    }
   ],
   "source": [
    "import plotly.express as px\n",
    "import pandas as pd\n",
    "vendors = [\"Re-spray cocoa\", \"Diversify more into other crops\", \"Irrigation\", \"Monitor weather change by indigenous knowledge\", \"Monitor weather change through the media\", \"Invest in cocoa drying machines\", \"Change planting and harvesting time\", \"Regular cocoa spraying\", \"Planting of hybrid seeds\", \"Reduce time interval for cocoa spraying\"]\n",
    "sectors = [\"Impact Mitigation\", \"Impact Mitigation\", \"Impact Mitigation\", \"Impact Mitigation\", \"Impact Mitigation\",\n",
    "           \"Impact Mitigation\", \"Impact Mitigation\", \"Impact Mitigation\", \"Impact Mitigation\", \"Impact Mitigation\"]\n",
    "regions = [\"\", \"\", \"\", \"\", \"\", \"\", \"\", \"\", \"\", \"\"]\n",
    "sales = [192, 267, 166, 224, 226, 148, 250, 283, 259, 177]\n",
    "df = pd.DataFrame(\n",
    "    dict(vendors=vendors, sectors=sectors, regions=regions, sales=sales)\n",
    ")\n",
    "print(df)\n",
    "fig = px.sunburst(df, path=['regions', 'sectors', 'vendors'], values='sales', title=\"Impact Mitigation Methods in Response to Climate Change by Cocoa Farmers\")\n",
    "#fig.update_layout(uniformtext=dict(minsize=10, mode='hide'))\n",
    "fig.show()"
   ]
  },
  {
   "cell_type": "code",
   "execution_count": 114,
   "metadata": {},
   "outputs": [
    {
     "name": "stdout",
     "output_type": "stream",
     "text": [
      "                              vendors         sectors regions  sales\n",
      "0                   Take more alcohol  Coping Methods            369\n",
      "1       Withdraw children from school  Coping Methods             41\n",
      "2       Reduce household food intakes  Coping Methods             69\n",
      "3               Smoke more cigarettes  Coping Methods             48\n",
      "4                   Burn fire at home  Coping Methods             71\n",
      "5  Diversify into non-farm activities  Coping Methods            167\n",
      "6           Beg for food from friends  Coping Methods             41\n"
     ]
    },
    {
     "data": {
      "application/vnd.plotly.v1+json": {
       "config": {
        "plotlyServerURL": "https://plot.ly"
       },
       "data": [
        {
         "branchvalues": "total",
         "domain": {
          "x": [
           0,
           1
          ],
          "y": [
           0,
           1
          ]
         },
         "hovertemplate": "labels=%{label}<br>sales=%{value}<br>parent=%{parent}<br>id=%{id}<extra></extra>",
         "ids": [
          "/Coping Methods/Beg for food from friends",
          "/Coping Methods/Burn fire at home",
          "/Coping Methods/Diversify into non-farm activities",
          "/Coping Methods/Reduce household food intakes",
          "/Coping Methods/Smoke more cigarettes",
          "/Coping Methods/Take more alcohol",
          "/Coping Methods/Withdraw children from school",
          "/Coping Methods",
          ""
         ],
         "labels": [
          "Beg for food from friends",
          "Burn fire at home",
          "Diversify into non-farm activities",
          "Reduce household food intakes",
          "Smoke more cigarettes",
          "Take more alcohol",
          "Withdraw children from school",
          "Coping Methods",
          ""
         ],
         "name": "",
         "parents": [
          "/Coping Methods",
          "/Coping Methods",
          "/Coping Methods",
          "/Coping Methods",
          "/Coping Methods",
          "/Coping Methods",
          "/Coping Methods",
          "",
          ""
         ],
         "type": "sunburst",
         "values": [
          41,
          71,
          167,
          69,
          48,
          369,
          41,
          806,
          806
         ]
        }
       ],
       "layout": {
        "legend": {
         "tracegroupgap": 0
        },
        "template": {
         "data": {
          "bar": [
           {
            "error_x": {
             "color": "#2a3f5f"
            },
            "error_y": {
             "color": "#2a3f5f"
            },
            "marker": {
             "line": {
              "color": "#E5ECF6",
              "width": 0.5
             },
             "pattern": {
              "fillmode": "overlay",
              "size": 10,
              "solidity": 0.2
             }
            },
            "type": "bar"
           }
          ],
          "barpolar": [
           {
            "marker": {
             "line": {
              "color": "#E5ECF6",
              "width": 0.5
             },
             "pattern": {
              "fillmode": "overlay",
              "size": 10,
              "solidity": 0.2
             }
            },
            "type": "barpolar"
           }
          ],
          "carpet": [
           {
            "aaxis": {
             "endlinecolor": "#2a3f5f",
             "gridcolor": "white",
             "linecolor": "white",
             "minorgridcolor": "white",
             "startlinecolor": "#2a3f5f"
            },
            "baxis": {
             "endlinecolor": "#2a3f5f",
             "gridcolor": "white",
             "linecolor": "white",
             "minorgridcolor": "white",
             "startlinecolor": "#2a3f5f"
            },
            "type": "carpet"
           }
          ],
          "choropleth": [
           {
            "colorbar": {
             "outlinewidth": 0,
             "ticks": ""
            },
            "type": "choropleth"
           }
          ],
          "contour": [
           {
            "colorbar": {
             "outlinewidth": 0,
             "ticks": ""
            },
            "colorscale": [
             [
              0,
              "#0d0887"
             ],
             [
              0.1111111111111111,
              "#46039f"
             ],
             [
              0.2222222222222222,
              "#7201a8"
             ],
             [
              0.3333333333333333,
              "#9c179e"
             ],
             [
              0.4444444444444444,
              "#bd3786"
             ],
             [
              0.5555555555555556,
              "#d8576b"
             ],
             [
              0.6666666666666666,
              "#ed7953"
             ],
             [
              0.7777777777777778,
              "#fb9f3a"
             ],
             [
              0.8888888888888888,
              "#fdca26"
             ],
             [
              1,
              "#f0f921"
             ]
            ],
            "type": "contour"
           }
          ],
          "contourcarpet": [
           {
            "colorbar": {
             "outlinewidth": 0,
             "ticks": ""
            },
            "type": "contourcarpet"
           }
          ],
          "heatmap": [
           {
            "colorbar": {
             "outlinewidth": 0,
             "ticks": ""
            },
            "colorscale": [
             [
              0,
              "#0d0887"
             ],
             [
              0.1111111111111111,
              "#46039f"
             ],
             [
              0.2222222222222222,
              "#7201a8"
             ],
             [
              0.3333333333333333,
              "#9c179e"
             ],
             [
              0.4444444444444444,
              "#bd3786"
             ],
             [
              0.5555555555555556,
              "#d8576b"
             ],
             [
              0.6666666666666666,
              "#ed7953"
             ],
             [
              0.7777777777777778,
              "#fb9f3a"
             ],
             [
              0.8888888888888888,
              "#fdca26"
             ],
             [
              1,
              "#f0f921"
             ]
            ],
            "type": "heatmap"
           }
          ],
          "heatmapgl": [
           {
            "colorbar": {
             "outlinewidth": 0,
             "ticks": ""
            },
            "colorscale": [
             [
              0,
              "#0d0887"
             ],
             [
              0.1111111111111111,
              "#46039f"
             ],
             [
              0.2222222222222222,
              "#7201a8"
             ],
             [
              0.3333333333333333,
              "#9c179e"
             ],
             [
              0.4444444444444444,
              "#bd3786"
             ],
             [
              0.5555555555555556,
              "#d8576b"
             ],
             [
              0.6666666666666666,
              "#ed7953"
             ],
             [
              0.7777777777777778,
              "#fb9f3a"
             ],
             [
              0.8888888888888888,
              "#fdca26"
             ],
             [
              1,
              "#f0f921"
             ]
            ],
            "type": "heatmapgl"
           }
          ],
          "histogram": [
           {
            "marker": {
             "pattern": {
              "fillmode": "overlay",
              "size": 10,
              "solidity": 0.2
             }
            },
            "type": "histogram"
           }
          ],
          "histogram2d": [
           {
            "colorbar": {
             "outlinewidth": 0,
             "ticks": ""
            },
            "colorscale": [
             [
              0,
              "#0d0887"
             ],
             [
              0.1111111111111111,
              "#46039f"
             ],
             [
              0.2222222222222222,
              "#7201a8"
             ],
             [
              0.3333333333333333,
              "#9c179e"
             ],
             [
              0.4444444444444444,
              "#bd3786"
             ],
             [
              0.5555555555555556,
              "#d8576b"
             ],
             [
              0.6666666666666666,
              "#ed7953"
             ],
             [
              0.7777777777777778,
              "#fb9f3a"
             ],
             [
              0.8888888888888888,
              "#fdca26"
             ],
             [
              1,
              "#f0f921"
             ]
            ],
            "type": "histogram2d"
           }
          ],
          "histogram2dcontour": [
           {
            "colorbar": {
             "outlinewidth": 0,
             "ticks": ""
            },
            "colorscale": [
             [
              0,
              "#0d0887"
             ],
             [
              0.1111111111111111,
              "#46039f"
             ],
             [
              0.2222222222222222,
              "#7201a8"
             ],
             [
              0.3333333333333333,
              "#9c179e"
             ],
             [
              0.4444444444444444,
              "#bd3786"
             ],
             [
              0.5555555555555556,
              "#d8576b"
             ],
             [
              0.6666666666666666,
              "#ed7953"
             ],
             [
              0.7777777777777778,
              "#fb9f3a"
             ],
             [
              0.8888888888888888,
              "#fdca26"
             ],
             [
              1,
              "#f0f921"
             ]
            ],
            "type": "histogram2dcontour"
           }
          ],
          "mesh3d": [
           {
            "colorbar": {
             "outlinewidth": 0,
             "ticks": ""
            },
            "type": "mesh3d"
           }
          ],
          "parcoords": [
           {
            "line": {
             "colorbar": {
              "outlinewidth": 0,
              "ticks": ""
             }
            },
            "type": "parcoords"
           }
          ],
          "pie": [
           {
            "automargin": true,
            "type": "pie"
           }
          ],
          "scatter": [
           {
            "marker": {
             "colorbar": {
              "outlinewidth": 0,
              "ticks": ""
             }
            },
            "type": "scatter"
           }
          ],
          "scatter3d": [
           {
            "line": {
             "colorbar": {
              "outlinewidth": 0,
              "ticks": ""
             }
            },
            "marker": {
             "colorbar": {
              "outlinewidth": 0,
              "ticks": ""
             }
            },
            "type": "scatter3d"
           }
          ],
          "scattercarpet": [
           {
            "marker": {
             "colorbar": {
              "outlinewidth": 0,
              "ticks": ""
             }
            },
            "type": "scattercarpet"
           }
          ],
          "scattergeo": [
           {
            "marker": {
             "colorbar": {
              "outlinewidth": 0,
              "ticks": ""
             }
            },
            "type": "scattergeo"
           }
          ],
          "scattergl": [
           {
            "marker": {
             "colorbar": {
              "outlinewidth": 0,
              "ticks": ""
             }
            },
            "type": "scattergl"
           }
          ],
          "scattermapbox": [
           {
            "marker": {
             "colorbar": {
              "outlinewidth": 0,
              "ticks": ""
             }
            },
            "type": "scattermapbox"
           }
          ],
          "scatterpolar": [
           {
            "marker": {
             "colorbar": {
              "outlinewidth": 0,
              "ticks": ""
             }
            },
            "type": "scatterpolar"
           }
          ],
          "scatterpolargl": [
           {
            "marker": {
             "colorbar": {
              "outlinewidth": 0,
              "ticks": ""
             }
            },
            "type": "scatterpolargl"
           }
          ],
          "scatterternary": [
           {
            "marker": {
             "colorbar": {
              "outlinewidth": 0,
              "ticks": ""
             }
            },
            "type": "scatterternary"
           }
          ],
          "surface": [
           {
            "colorbar": {
             "outlinewidth": 0,
             "ticks": ""
            },
            "colorscale": [
             [
              0,
              "#0d0887"
             ],
             [
              0.1111111111111111,
              "#46039f"
             ],
             [
              0.2222222222222222,
              "#7201a8"
             ],
             [
              0.3333333333333333,
              "#9c179e"
             ],
             [
              0.4444444444444444,
              "#bd3786"
             ],
             [
              0.5555555555555556,
              "#d8576b"
             ],
             [
              0.6666666666666666,
              "#ed7953"
             ],
             [
              0.7777777777777778,
              "#fb9f3a"
             ],
             [
              0.8888888888888888,
              "#fdca26"
             ],
             [
              1,
              "#f0f921"
             ]
            ],
            "type": "surface"
           }
          ],
          "table": [
           {
            "cells": {
             "fill": {
              "color": "#EBF0F8"
             },
             "line": {
              "color": "white"
             }
            },
            "header": {
             "fill": {
              "color": "#C8D4E3"
             },
             "line": {
              "color": "white"
             }
            },
            "type": "table"
           }
          ]
         },
         "layout": {
          "annotationdefaults": {
           "arrowcolor": "#2a3f5f",
           "arrowhead": 0,
           "arrowwidth": 1
          },
          "autotypenumbers": "strict",
          "coloraxis": {
           "colorbar": {
            "outlinewidth": 0,
            "ticks": ""
           }
          },
          "colorscale": {
           "diverging": [
            [
             0,
             "#8e0152"
            ],
            [
             0.1,
             "#c51b7d"
            ],
            [
             0.2,
             "#de77ae"
            ],
            [
             0.3,
             "#f1b6da"
            ],
            [
             0.4,
             "#fde0ef"
            ],
            [
             0.5,
             "#f7f7f7"
            ],
            [
             0.6,
             "#e6f5d0"
            ],
            [
             0.7,
             "#b8e186"
            ],
            [
             0.8,
             "#7fbc41"
            ],
            [
             0.9,
             "#4d9221"
            ],
            [
             1,
             "#276419"
            ]
           ],
           "sequential": [
            [
             0,
             "#0d0887"
            ],
            [
             0.1111111111111111,
             "#46039f"
            ],
            [
             0.2222222222222222,
             "#7201a8"
            ],
            [
             0.3333333333333333,
             "#9c179e"
            ],
            [
             0.4444444444444444,
             "#bd3786"
            ],
            [
             0.5555555555555556,
             "#d8576b"
            ],
            [
             0.6666666666666666,
             "#ed7953"
            ],
            [
             0.7777777777777778,
             "#fb9f3a"
            ],
            [
             0.8888888888888888,
             "#fdca26"
            ],
            [
             1,
             "#f0f921"
            ]
           ],
           "sequentialminus": [
            [
             0,
             "#0d0887"
            ],
            [
             0.1111111111111111,
             "#46039f"
            ],
            [
             0.2222222222222222,
             "#7201a8"
            ],
            [
             0.3333333333333333,
             "#9c179e"
            ],
            [
             0.4444444444444444,
             "#bd3786"
            ],
            [
             0.5555555555555556,
             "#d8576b"
            ],
            [
             0.6666666666666666,
             "#ed7953"
            ],
            [
             0.7777777777777778,
             "#fb9f3a"
            ],
            [
             0.8888888888888888,
             "#fdca26"
            ],
            [
             1,
             "#f0f921"
            ]
           ]
          },
          "colorway": [
           "#636efa",
           "#EF553B",
           "#00cc96",
           "#ab63fa",
           "#FFA15A",
           "#19d3f3",
           "#FF6692",
           "#B6E880",
           "#FF97FF",
           "#FECB52"
          ],
          "font": {
           "color": "#2a3f5f"
          },
          "geo": {
           "bgcolor": "white",
           "lakecolor": "white",
           "landcolor": "#E5ECF6",
           "showlakes": true,
           "showland": true,
           "subunitcolor": "white"
          },
          "hoverlabel": {
           "align": "left"
          },
          "hovermode": "closest",
          "mapbox": {
           "style": "light"
          },
          "paper_bgcolor": "white",
          "plot_bgcolor": "#E5ECF6",
          "polar": {
           "angularaxis": {
            "gridcolor": "white",
            "linecolor": "white",
            "ticks": ""
           },
           "bgcolor": "#E5ECF6",
           "radialaxis": {
            "gridcolor": "white",
            "linecolor": "white",
            "ticks": ""
           }
          },
          "scene": {
           "xaxis": {
            "backgroundcolor": "#E5ECF6",
            "gridcolor": "white",
            "gridwidth": 2,
            "linecolor": "white",
            "showbackground": true,
            "ticks": "",
            "zerolinecolor": "white"
           },
           "yaxis": {
            "backgroundcolor": "#E5ECF6",
            "gridcolor": "white",
            "gridwidth": 2,
            "linecolor": "white",
            "showbackground": true,
            "ticks": "",
            "zerolinecolor": "white"
           },
           "zaxis": {
            "backgroundcolor": "#E5ECF6",
            "gridcolor": "white",
            "gridwidth": 2,
            "linecolor": "white",
            "showbackground": true,
            "ticks": "",
            "zerolinecolor": "white"
           }
          },
          "shapedefaults": {
           "line": {
            "color": "#2a3f5f"
           }
          },
          "ternary": {
           "aaxis": {
            "gridcolor": "white",
            "linecolor": "white",
            "ticks": ""
           },
           "baxis": {
            "gridcolor": "white",
            "linecolor": "white",
            "ticks": ""
           },
           "bgcolor": "#E5ECF6",
           "caxis": {
            "gridcolor": "white",
            "linecolor": "white",
            "ticks": ""
           }
          },
          "title": {
           "x": 0.05
          },
          "xaxis": {
           "automargin": true,
           "gridcolor": "white",
           "linecolor": "white",
           "ticks": "",
           "title": {
            "standoff": 15
           },
           "zerolinecolor": "white",
           "zerolinewidth": 2
          },
          "yaxis": {
           "automargin": true,
           "gridcolor": "white",
           "linecolor": "white",
           "ticks": "",
           "title": {
            "standoff": 15
           },
           "zerolinecolor": "white",
           "zerolinewidth": 2
          }
         }
        },
        "title": {
         "text": "Climate Change Coping Methods in Response to Climate Change by Cocoa Farmers"
        }
       }
      }
     },
     "metadata": {},
     "output_type": "display_data"
    }
   ],
   "source": [
    "import plotly.express as px\n",
    "import pandas as pd\n",
    "vendors = [\"Take more alcohol\", \"Withdraw children from school\", \"Reduce household food intakes\", \"Smoke more cigarettes\", \"Burn fire at home\", \"Diversify into non-farm activities\", \"Beg for food from friends\"]\n",
    "sectors = [\"Coping Methods\", \"Coping Methods\", \"Coping Methods\", \"Coping Methods\", \"Coping Methods\",\n",
    "           \"Coping Methods\", \"Coping Methods\"]\n",
    "regions = [\"\", \"\", \"\", \"\", \"\", \"\", \"\"]\n",
    "sales = [369, 41, 69, 48, 71, 167, 41]\n",
    "df = pd.DataFrame(\n",
    "    dict(vendors=vendors, sectors=sectors, regions=regions, sales=sales)\n",
    ")\n",
    "print(df)\n",
    "fig = px.sunburst(df, path=['regions', 'sectors', 'vendors'], values='sales', title=\"Climate Change Coping Methods in Response to Climate Change by Cocoa Farmers\")\n",
    "#fig.update_layout(uniformtext=dict(minsize=10, mode='hide'))\n",
    "fig.show()"
   ]
  }
 ],
 "metadata": {
  "file_extension": ".py",
  "interpreter": {
   "hash": "ef6b04f01503bb16bbb9758182227417665c59f8503413dd6c334fb462059baf"
  },
  "kernelspec": {
   "display_name": "Python 3.7.7 64-bit ('pyvizenv25': conda)",
   "language": "python",
   "name": "python3"
  },
  "language_info": {
   "codemirror_mode": {
    "name": "ipython",
    "version": 3
   },
   "file_extension": ".py",
   "mimetype": "text/x-python",
   "name": "python",
   "nbconvert_exporter": "python",
   "pygments_lexer": "ipython3",
   "version": "3.7.11"
  },
  "mimetype": "text/x-python",
  "name": "python",
  "npconvert_exporter": "python",
  "pygments_lexer": "ipython3",
  "version": 3
 },
 "nbformat": 4,
 "nbformat_minor": 4
}
